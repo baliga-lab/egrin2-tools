{
 "metadata": {
  "name": "",
  "signature": "sha256:2c953c7d3c926feccafda9dc05c42100d28fb07827e5790d27185cdef29d5bf2"
 },
 "nbformat": 3,
 "nbformat_minor": 0,
 "worksheets": [
  {
   "cells": [
    {
     "cell_type": "markdown",
     "metadata": {},
     "source": [
      "How can I get and plot expression data in EGRIN 2.0 MongoDB?"
     ]
    },
    {
     "cell_type": "code",
     "collapsed": false,
     "input": [
      "from egrin2_query import *"
     ],
     "language": "python",
     "metadata": {},
     "outputs": [],
     "prompt_number": 8
    },
    {
     "cell_type": "code",
     "collapsed": false,
     "input": [
      "gene_expression = expressionFinder(rows=[ \"b0032\",\"b0031\",\"pyrL\" ],cols=range(250),host=\"primordial\",db=\"eco_db2\")"
     ],
     "language": "python",
     "metadata": {},
     "outputs": [],
     "prompt_number": 9
    },
    {
     "cell_type": "code",
     "collapsed": false,
     "input": [
      "line_plot = plotExpression( gene_expression, plot_type = \"line\", ipynb = True )"
     ],
     "language": "python",
     "metadata": {},
     "outputs": [],
     "prompt_number": 10
    },
    {
     "cell_type": "code",
     "collapsed": false,
     "input": [
      "py.iplot( line_plot )"
     ],
     "language": "python",
     "metadata": {},
     "outputs": [
      {
       "html": [
        "<iframe id=\"igraph\" scrolling=\"no\" style=\"border:none;\"seamless=\"seamless\" src=\"https://plot.ly/~scalefreegan/81.embed\" height=\"525\" width=\"100%\"></iframe>"
       ],
       "metadata": {},
       "output_type": "pyout",
       "prompt_number": 11,
       "text": [
        "<plotly.tools.PlotlyDisplay at 0x110662c90>"
       ]
      }
     ],
     "prompt_number": 11
    },
    {
     "cell_type": "code",
     "collapsed": false,
     "input": [
      "heatmap = plotExpression( gene_expression, plot_type = \"heatmap\", ipynb = True )"
     ],
     "language": "python",
     "metadata": {},
     "outputs": [],
     "prompt_number": 12
    },
    {
     "cell_type": "code",
     "collapsed": false,
     "input": [
      "py.iplot( heatmap )"
     ],
     "language": "python",
     "metadata": {},
     "outputs": [
      {
       "html": [
        "<iframe id=\"igraph\" scrolling=\"no\" style=\"border:none;\"seamless=\"seamless\" src=\"https://plot.ly/~scalefreegan/82.embed\" height=\"525\" width=\"100%\"></iframe>"
       ],
       "metadata": {},
       "output_type": "pyout",
       "prompt_number": 13,
       "text": [
        "<plotly.tools.PlotlyDisplay at 0x114050d10>"
       ]
      }
     ],
     "prompt_number": 13
    }
   ],
   "metadata": {}
  }
 ]
}