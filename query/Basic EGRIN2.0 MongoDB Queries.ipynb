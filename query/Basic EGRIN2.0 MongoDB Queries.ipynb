{
 "metadata": {
  "name": "",
  "signature": "sha256:b47738a8af6901ab626d7481286565720b633569ec73bae8b026f568fcce94bd"
 },
 "nbformat": 3,
 "nbformat_minor": 0,
 "worksheets": [
  {
   "cells": [
    {
     "cell_type": "heading",
     "level": 1,
     "metadata": {},
     "source": [
      "Basic EGRIN2.0 MongoDB query using agglom"
     ]
    },
    {
     "cell_type": "markdown",
     "metadata": {},
     "source": [
      "Make sure ./egrin-tools/query/ folder is in your python path"
     ]
    },
    {
     "cell_type": "markdown",
     "metadata": {},
     "source": [
      "On you can do this on Mac/Linux by adding the path to you Bash Shell Startup Files, e.g. ~/.bashrc or ~/.bash_profile"
     ]
    },
    {
     "cell_type": "code",
     "collapsed": false,
     "input": [
      "from egrin2_query import *"
     ],
     "language": "python",
     "metadata": {},
     "outputs": [],
     "prompt_number": 1
    },
    {
     "cell_type": "code",
     "collapsed": false,
     "input": [],
     "language": "python",
     "metadata": {},
     "outputs": []
    }
   ],
   "metadata": {}
  }
 ]
}