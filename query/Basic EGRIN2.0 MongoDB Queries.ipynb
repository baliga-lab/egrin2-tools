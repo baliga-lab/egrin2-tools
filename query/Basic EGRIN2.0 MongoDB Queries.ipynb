{
 "metadata": {
  "name": "Basic EGRIN2.0 MongoDB Queries",
  "signature": "sha256:7bda7959e850964d1157eec6de5749395adbf7da03a36c4ab1f84f37fae3e83a"
 },
 "nbformat": 3,
 "nbformat_minor": 0,
 "worksheets": [
  {
   "cells": [
    {
     "cell_type": "heading",
     "level": 1,
     "metadata": {},
     "source": "Basic EGRIN2.0 MongoDB query using agglom"
    },
    {
     "cell_type": "markdown",
     "metadata": {},
     "source": "*Make sure ./egrin-tools/query/ folder is in your python path*"
    },
    {
     "cell_type": "markdown",
     "metadata": {},
     "source": "You can do this on Mac/Linux by adding the path to you Bash Shell Startup Files, e.g. ~/.bashrc or ~/.bash_profile\n\nfor example in ~/.bash_profile add the following line:\n\n`export PYTHONPATH=$PYTHONPATH:path/to/egrin2-tools/query`"
    },
    {
     "cell_type": "markdown",
     "metadata": {},
     "source": "### Load required modules"
    },
    {
     "cell_type": "code",
     "collapsed": false,
     "input": "from egrin2_query import *",
     "language": "python",
     "metadata": {},
     "outputs": [],
     "prompt_number": 2
    },
    {
     "cell_type": "markdown",
     "metadata": {},
     "source": "There are several dependencies that need to be satisfied, including:\n- pymongo\n- numpy\n- pandas\n- joblib\n- scipy\n- statsmodels\n- itertools"
    },
    {
     "cell_type": "markdown",
     "metadata": {},
     "source": "### Run agglom function"
    },
    {
     "cell_type": "markdown",
     "metadata": {},
     "source": "#### Example 1: Find genes co-regulated in biclusters with the gene carA (b0032)"
    },
    {
     "cell_type": "code",
     "collapsed": false,
     "input": "carA_genes = agglom( x = \"b0032\", x_type = \"genes\", y_type = \"genes\", host = \"primordial\", db = \"eco_db\" )",
     "language": "python",
     "metadata": {},
     "outputs": [],
     "prompt_number": 3
    },
    {
     "cell_type": "code",
     "collapsed": false,
     "input": "carA_genes",
     "language": "python",
     "metadata": {},
     "outputs": [
      {
       "html": "<div style=\"max-height:1000px;max-width:1500px;overflow:auto;\">\n<table border=\"1\" class=\"dataframe\">\n  <thead>\n    <tr style=\"text-align: right;\">\n      <th></th>\n      <th>counts</th>\n      <th>all_counts</th>\n      <th>pval</th>\n      <th>qval_BH</th>\n      <th>qval_bonferroni</th>\n    </tr>\n  </thead>\n  <tbody>\n    <tr>\n      <th>b0032</th>\n      <td> 198</td>\n      <td> 198</td>\n      <td>  0.000000e+00</td>\n      <td>  0.000000e+00</td>\n      <td>  0.000000e+00</td>\n    </tr>\n    <tr>\n      <th>b0033</th>\n      <td> 173</td>\n      <td> 198</td>\n      <td>  0.000000e+00</td>\n      <td>  0.000000e+00</td>\n      <td>  0.000000e+00</td>\n    </tr>\n    <tr>\n      <th>b4245</th>\n      <td> 169</td>\n      <td> 198</td>\n      <td>  0.000000e+00</td>\n      <td>  0.000000e+00</td>\n      <td>  0.000000e+00</td>\n    </tr>\n    <tr>\n      <th>b4244</th>\n      <td> 167</td>\n      <td> 198</td>\n      <td>  0.000000e+00</td>\n      <td>  0.000000e+00</td>\n      <td>  0.000000e+00</td>\n    </tr>\n    <tr>\n      <th>b0337</th>\n      <td> 154</td>\n      <td> 198</td>\n      <td>  0.000000e+00</td>\n      <td>  0.000000e+00</td>\n      <td>  0.000000e+00</td>\n    </tr>\n    <tr>\n      <th>b0336</th>\n      <td> 153</td>\n      <td> 198</td>\n      <td>  0.000000e+00</td>\n      <td>  0.000000e+00</td>\n      <td>  0.000000e+00</td>\n    </tr>\n    <tr>\n      <th>b1062</th>\n      <td> 152</td>\n      <td> 198</td>\n      <td>  0.000000e+00</td>\n      <td>  0.000000e+00</td>\n      <td>  0.000000e+00</td>\n    </tr>\n    <tr>\n      <th>b2499</th>\n      <td> 142</td>\n      <td> 198</td>\n      <td> 3.783051e-300</td>\n      <td> 4.073085e-298</td>\n      <td> 3.665776e-297</td>\n    </tr>\n    <tr>\n      <th>b2476</th>\n      <td> 142</td>\n      <td> 198</td>\n      <td> 3.783051e-300</td>\n      <td> 4.073085e-298</td>\n      <td> 3.665776e-297</td>\n    </tr>\n    <tr>\n      <th>b2557</th>\n      <td> 141</td>\n      <td> 198</td>\n      <td> 5.664712e-297</td>\n      <td> 4.574255e-295</td>\n      <td> 5.489106e-294</td>\n    </tr>\n    <tr>\n      <th>b2313</th>\n      <td> 141</td>\n      <td> 198</td>\n      <td> 5.664712e-297</td>\n      <td> 4.574255e-295</td>\n      <td> 5.489106e-294</td>\n    </tr>\n    <tr>\n      <th>b2312</th>\n      <td> 141</td>\n      <td> 198</td>\n      <td> 5.664712e-297</td>\n      <td> 4.574255e-295</td>\n      <td> 5.489106e-294</td>\n    </tr>\n    <tr>\n      <th>b0522</th>\n      <td> 138</td>\n      <td> 198</td>\n      <td> 1.477589e-287</td>\n      <td> 1.101372e-285</td>\n      <td> 1.431783e-284</td>\n    </tr>\n    <tr>\n      <th>b1849</th>\n      <td> 136</td>\n      <td> 198</td>\n      <td> 2.280977e-281</td>\n      <td> 1.578762e-279</td>\n      <td> 2.210267e-278</td>\n    </tr>\n    <tr>\n      <th>b4006</th>\n      <td> 132</td>\n      <td> 198</td>\n      <td> 3.382871e-269</td>\n      <td> 2.185335e-267</td>\n      <td> 3.278002e-266</td>\n    </tr>\n    <tr>\n      <th>b0523</th>\n      <td> 129</td>\n      <td> 198</td>\n      <td> 3.043903e-260</td>\n      <td> 1.843464e-258</td>\n      <td> 2.949542e-257</td>\n    </tr>\n    <tr>\n      <th>b3654</th>\n      <td> 128</td>\n      <td> 198</td>\n      <td> 2.728256e-257</td>\n      <td> 1.555106e-255</td>\n      <td> 2.643680e-254</td>\n    </tr>\n    <tr>\n      <th>b4246</th>\n      <td> 126</td>\n      <td> 198</td>\n      <td> 1.964952e-251</td>\n      <td> 1.057799e-249</td>\n      <td> 1.904038e-248</td>\n    </tr>\n    <tr>\n      <th>b2500</th>\n      <td> 122</td>\n      <td> 198</td>\n      <td> 6.646122e-240</td>\n      <td> 3.389522e-238</td>\n      <td> 6.440093e-237</td>\n    </tr>\n    <tr>\n      <th>b2497</th>\n      <td> 112</td>\n      <td> 198</td>\n      <td> 4.061863e-212</td>\n      <td> 1.967973e-210</td>\n      <td> 3.935945e-209</td>\n    </tr>\n    <tr>\n      <th>b4064</th>\n      <td> 102</td>\n      <td> 198</td>\n      <td> 9.823972e-186</td>\n      <td> 4.533061e-184</td>\n      <td> 9.519429e-183</td>\n    </tr>\n    <tr>\n      <th>b0945</th>\n      <td>  96</td>\n      <td> 198</td>\n      <td> 1.511792e-170</td>\n      <td> 6.658758e-169</td>\n      <td> 1.464927e-167</td>\n    </tr>\n    <tr>\n      <th>b4005</th>\n      <td>  89</td>\n      <td> 198</td>\n      <td> 2.020583e-153</td>\n      <td> 8.512805e-152</td>\n      <td> 1.957945e-150</td>\n    </tr>\n    <tr>\n      <th>b3941</th>\n      <td>  58</td>\n      <td> 198</td>\n      <td>  3.940658e-85</td>\n      <td>  1.591041e-83</td>\n      <td>  3.818498e-82</td>\n    </tr>\n    <tr>\n      <th>b3359</th>\n      <td>  57</td>\n      <td> 198</td>\n      <td>  3.886443e-83</td>\n      <td>  1.448447e-81</td>\n      <td>  3.765963e-80</td>\n    </tr>\n    <tr>\n      <th>b3829</th>\n      <td>  57</td>\n      <td> 198</td>\n      <td>  3.886443e-83</td>\n      <td>  1.448447e-81</td>\n      <td>  3.765963e-80</td>\n    </tr>\n    <tr>\n      <th>b4024</th>\n      <td>  56</td>\n      <td> 198</td>\n      <td>  3.714681e-81</td>\n      <td>  1.333158e-79</td>\n      <td>  3.599526e-78</td>\n    </tr>\n    <tr>\n      <th>b0908</th>\n      <td>  55</td>\n      <td> 198</td>\n      <td>  3.440262e-79</td>\n      <td>  1.149522e-77</td>\n      <td>  3.333614e-76</td>\n    </tr>\n    <tr>\n      <th>b3774</th>\n      <td>  55</td>\n      <td> 198</td>\n      <td>  3.440262e-79</td>\n      <td>  1.149522e-77</td>\n      <td>  3.333614e-76</td>\n    </tr>\n    <tr>\n      <th>b0198</th>\n      <td>  54</td>\n      <td> 198</td>\n      <td>  3.086539e-77</td>\n      <td>  9.647922e-76</td>\n      <td>  2.990856e-74</td>\n    </tr>\n    <tr>\n      <th>b3008</th>\n      <td>  54</td>\n      <td> 198</td>\n      <td>  3.086539e-77</td>\n      <td>  9.647922e-76</td>\n      <td>  2.990856e-74</td>\n    </tr>\n    <tr>\n      <th>b0197</th>\n      <td>  48</td>\n      <td> 198</td>\n      <td>  8.154522e-66</td>\n      <td>  2.469291e-64</td>\n      <td>  7.901732e-63</td>\n    </tr>\n    <tr>\n      <th>b4013</th>\n      <td>  46</td>\n      <td> 198</td>\n      <td>  4.011807e-62</td>\n      <td>  1.143365e-60</td>\n      <td>  3.887441e-59</td>\n    </tr>\n    <tr>\n      <th>b0907</th>\n      <td>  46</td>\n      <td> 198</td>\n      <td>  4.011807e-62</td>\n      <td>  1.143365e-60</td>\n      <td>  3.887441e-59</td>\n    </tr>\n    <tr>\n      <th>b2600</th>\n      <td>  45</td>\n      <td> 198</td>\n      <td>  2.673409e-60</td>\n      <td>  7.401525e-59</td>\n      <td>  2.590534e-57</td>\n    </tr>\n    <tr>\n      <th>b2601</th>\n      <td>  44</td>\n      <td> 198</td>\n      <td>  1.720887e-58</td>\n      <td>  4.632054e-57</td>\n      <td>  1.667539e-55</td>\n    </tr>\n    <tr>\n      <th>b3212</th>\n      <td>  43</td>\n      <td> 198</td>\n      <td>  1.069629e-56</td>\n      <td>  2.801271e-55</td>\n      <td>  1.036470e-53</td>\n    </tr>\n    <tr>\n      <th>b3172</th>\n      <td>  37</td>\n      <td> 198</td>\n      <td>  2.884778e-46</td>\n      <td>  6.988374e-45</td>\n      <td>  2.795350e-43</td>\n    </tr>\n    <tr>\n      <th>b3958</th>\n      <td>  37</td>\n      <td> 198</td>\n      <td>  2.884778e-46</td>\n      <td>  6.988374e-45</td>\n      <td>  2.795350e-43</td>\n    </tr>\n    <tr>\n      <th>b3213</th>\n      <td>  37</td>\n      <td> 198</td>\n      <td>  2.884778e-46</td>\n      <td>  6.988374e-45</td>\n      <td>  2.795350e-43</td>\n    </tr>\n    <tr>\n      <th>b4254</th>\n      <td>  36</td>\n      <td> 198</td>\n      <td>  1.385367e-44</td>\n      <td>  3.196239e-43</td>\n      <td>  1.342420e-41</td>\n    </tr>\n    <tr>\n      <th>b2818</th>\n      <td>  36</td>\n      <td> 198</td>\n      <td>  1.385367e-44</td>\n      <td>  3.196239e-43</td>\n      <td>  1.342420e-41</td>\n    </tr>\n    <tr>\n      <th>b4488</th>\n      <td>  34</td>\n      <td> 198</td>\n      <td>  2.840051e-41</td>\n      <td>  6.254567e-40</td>\n      <td>  2.752010e-38</td>\n    </tr>\n    <tr>\n      <th>b0004</th>\n      <td>  34</td>\n      <td> 198</td>\n      <td>  2.840051e-41</td>\n      <td>  6.254567e-40</td>\n      <td>  2.752010e-38</td>\n    </tr>\n    <tr>\n      <th>b0860</th>\n      <td>  32</td>\n      <td> 198</td>\n      <td>  4.953595e-38</td>\n      <td>  1.043486e-36</td>\n      <td>  4.800034e-35</td>\n    </tr>\n    <tr>\n      <th>b0199</th>\n      <td>  32</td>\n      <td> 198</td>\n      <td>  4.953595e-38</td>\n      <td>  1.043486e-36</td>\n      <td>  4.800034e-35</td>\n    </tr>\n    <tr>\n      <th>b3714</th>\n      <td>  31</td>\n      <td> 198</td>\n      <td>  1.943526e-36</td>\n      <td>  3.843422e-35</td>\n      <td>  1.883277e-33</td>\n    </tr>\n    <tr>\n      <th>b2156</th>\n      <td>  31</td>\n      <td> 198</td>\n      <td>  1.943526e-36</td>\n      <td>  3.843422e-35</td>\n      <td>  1.883277e-33</td>\n    </tr>\n    <tr>\n      <th>b2152</th>\n      <td>  31</td>\n      <td> 198</td>\n      <td>  1.943526e-36</td>\n      <td>  3.843422e-35</td>\n      <td>  1.883277e-33</td>\n    </tr>\n    <tr>\n      <th>b2913</th>\n      <td>  30</td>\n      <td> 198</td>\n      <td>  7.306285e-35</td>\n      <td>  1.335810e-33</td>\n      <td>  7.079791e-32</td>\n    </tr>\n    <tr>\n      <th>b1101</th>\n      <td>  30</td>\n      <td> 198</td>\n      <td>  7.306285e-35</td>\n      <td>  1.335810e-33</td>\n      <td>  7.079791e-32</td>\n    </tr>\n    <tr>\n      <th>b0031</th>\n      <td>  30</td>\n      <td> 198</td>\n      <td>  7.306285e-35</td>\n      <td>  1.335810e-33</td>\n      <td>  7.079791e-32</td>\n    </tr>\n    <tr>\n      <th>b0273</th>\n      <td>  30</td>\n      <td> 198</td>\n      <td>  7.306285e-35</td>\n      <td>  1.335810e-33</td>\n      <td>  7.079791e-32</td>\n    </tr>\n    <tr>\n      <th>b3770</th>\n      <td>  29</td>\n      <td> 198</td>\n      <td>  2.629355e-33</td>\n      <td>  4.549723e-32</td>\n      <td>  2.547845e-30</td>\n    </tr>\n    <tr>\n      <th>b3771</th>\n      <td>  29</td>\n      <td> 198</td>\n      <td>  2.629355e-33</td>\n      <td>  4.549723e-32</td>\n      <td>  2.547845e-30</td>\n    </tr>\n    <tr>\n      <th>b3959</th>\n      <td>  29</td>\n      <td> 198</td>\n      <td>  2.629355e-33</td>\n      <td>  4.549723e-32</td>\n      <td>  2.547845e-30</td>\n    </tr>\n    <tr>\n      <th>b0002</th>\n      <td>  28</td>\n      <td> 198</td>\n      <td>  9.049612e-32</td>\n      <td>  1.538434e-30</td>\n      <td>  8.769074e-29</td>\n    </tr>\n    <tr>\n      <th>b3772</th>\n      <td>  27</td>\n      <td> 198</td>\n      <td>  2.975709e-30</td>\n      <td>  4.805771e-29</td>\n      <td>  2.883462e-27</td>\n    </tr>\n    <tr>\n      <th>b0003</th>\n      <td>  27</td>\n      <td> 198</td>\n      <td>  2.975709e-30</td>\n      <td>  4.805771e-29</td>\n      <td>  2.883462e-27</td>\n    </tr>\n    <tr>\n      <th>b3960</th>\n      <td>  27</td>\n      <td> 198</td>\n      <td>  2.975709e-30</td>\n      <td>  4.805771e-29</td>\n      <td>  2.883462e-27</td>\n    </tr>\n    <tr>\n      <th></th>\n      <td>...</td>\n      <td>...</td>\n      <td>...</td>\n      <td>...</td>\n      <td>...</td>\n    </tr>\n  </tbody>\n</table>\n<p>259 rows \u00d7 5 columns</p>\n</div>",
       "metadata": {},
       "output_type": "pyout",
       "prompt_number": 4,
       "text": "       counts  all_counts           pval        qval_BH  qval_bonferroni\nb0032     198         198   0.000000e+00   0.000000e+00     0.000000e+00\nb0033     173         198   0.000000e+00   0.000000e+00     0.000000e+00\nb4245     169         198   0.000000e+00   0.000000e+00     0.000000e+00\nb4244     167         198   0.000000e+00   0.000000e+00     0.000000e+00\nb0337     154         198   0.000000e+00   0.000000e+00     0.000000e+00\nb0336     153         198   0.000000e+00   0.000000e+00     0.000000e+00\nb1062     152         198   0.000000e+00   0.000000e+00     0.000000e+00\nb2499     142         198  3.783051e-300  4.073085e-298    3.665776e-297\nb2476     142         198  3.783051e-300  4.073085e-298    3.665776e-297\nb2557     141         198  5.664712e-297  4.574255e-295    5.489106e-294\nb2313     141         198  5.664712e-297  4.574255e-295    5.489106e-294\nb2312     141         198  5.664712e-297  4.574255e-295    5.489106e-294\nb0522     138         198  1.477589e-287  1.101372e-285    1.431783e-284\nb1849     136         198  2.280977e-281  1.578762e-279    2.210267e-278\nb4006     132         198  3.382871e-269  2.185335e-267    3.278002e-266\nb0523     129         198  3.043903e-260  1.843464e-258    2.949542e-257\nb3654     128         198  2.728256e-257  1.555106e-255    2.643680e-254\nb4246     126         198  1.964952e-251  1.057799e-249    1.904038e-248\nb2500     122         198  6.646122e-240  3.389522e-238    6.440093e-237\nb2497     112         198  4.061863e-212  1.967973e-210    3.935945e-209\nb4064     102         198  9.823972e-186  4.533061e-184    9.519429e-183\nb0945      96         198  1.511792e-170  6.658758e-169    1.464927e-167\nb4005      89         198  2.020583e-153  8.512805e-152    1.957945e-150\nb3941      58         198   3.940658e-85   1.591041e-83     3.818498e-82\nb3359      57         198   3.886443e-83   1.448447e-81     3.765963e-80\nb3829      57         198   3.886443e-83   1.448447e-81     3.765963e-80\nb4024      56         198   3.714681e-81   1.333158e-79     3.599526e-78\nb0908      55         198   3.440262e-79   1.149522e-77     3.333614e-76\nb3774      55         198   3.440262e-79   1.149522e-77     3.333614e-76\nb0198      54         198   3.086539e-77   9.647922e-76     2.990856e-74\nb3008      54         198   3.086539e-77   9.647922e-76     2.990856e-74\nb0197      48         198   8.154522e-66   2.469291e-64     7.901732e-63\nb4013      46         198   4.011807e-62   1.143365e-60     3.887441e-59\nb0907      46         198   4.011807e-62   1.143365e-60     3.887441e-59\nb2600      45         198   2.673409e-60   7.401525e-59     2.590534e-57\nb2601      44         198   1.720887e-58   4.632054e-57     1.667539e-55\nb3212      43         198   1.069629e-56   2.801271e-55     1.036470e-53\nb3172      37         198   2.884778e-46   6.988374e-45     2.795350e-43\nb3958      37         198   2.884778e-46   6.988374e-45     2.795350e-43\nb3213      37         198   2.884778e-46   6.988374e-45     2.795350e-43\nb4254      36         198   1.385367e-44   3.196239e-43     1.342420e-41\nb2818      36         198   1.385367e-44   3.196239e-43     1.342420e-41\nb4488      34         198   2.840051e-41   6.254567e-40     2.752010e-38\nb0004      34         198   2.840051e-41   6.254567e-40     2.752010e-38\nb0860      32         198   4.953595e-38   1.043486e-36     4.800034e-35\nb0199      32         198   4.953595e-38   1.043486e-36     4.800034e-35\nb3714      31         198   1.943526e-36   3.843422e-35     1.883277e-33\nb2156      31         198   1.943526e-36   3.843422e-35     1.883277e-33\nb2152      31         198   1.943526e-36   3.843422e-35     1.883277e-33\nb2913      30         198   7.306285e-35   1.335810e-33     7.079791e-32\nb1101      30         198   7.306285e-35   1.335810e-33     7.079791e-32\nb0031      30         198   7.306285e-35   1.335810e-33     7.079791e-32\nb0273      30         198   7.306285e-35   1.335810e-33     7.079791e-32\nb3770      29         198   2.629355e-33   4.549723e-32     2.547845e-30\nb3771      29         198   2.629355e-33   4.549723e-32     2.547845e-30\nb3959      29         198   2.629355e-33   4.549723e-32     2.547845e-30\nb0002      28         198   9.049612e-32   1.538434e-30     8.769074e-29\nb3772      27         198   2.975709e-30   4.805771e-29     2.883462e-27\nb0003      27         198   2.975709e-30   4.805771e-29     2.883462e-27\nb3960      27         198   2.975709e-30   4.805771e-29     2.883462e-27\n          ...         ...            ...            ...              ...\n\n[259 rows x 5 columns]"
      }
     ],
     "prompt_number": 4
    },
    {
     "cell_type": "markdown",
     "metadata": {},
     "source": "There are several things to note in this query.\n\nFirst the arguments:\n- `x` specfies the query. This can be gene(s), condition(s), GRE(s), or bicluster(s). `x` can be a single entity or a list of entitites of the same type. \n- `x_type` indicates the type of `x`. This can include gene, condition, gres, and biclusters. Basically: what is x? The parameter typing is pretty flexible, so - for example - `rows` can be used instead of `genes`.\n- `y_type` is the type of. Again, genes, conditions, gres, or biclusters. \n- `host` specifies where the MongoDB database is running. In this case it is running on a machine called `primordial` (my box). If you are hosting the database locally this would be `localhost`\n- `db` is the name of the database you want to perform the query in. Typically databases are specified by the three letter organism code (e.g., **eco**) followed by **_db**. \n\nAlso note the output:\n\nThis is a table of all genes that are frequently co-discovered in biclusters with b0032 (carA). They are sorted by their relative \"enrichment\" in the sample `x` (where lower pval = greater enrichment). This is quantified by the hypergeometric distribution. To account for multiple testing, two corrections are  included: Benjamini-Hochber correction (`qval_BH`; less stringent) and Bonferrnoni correction (`qval_bonferroni`; more stringent). \n    "
    },
    {
     "cell_type": "markdown",
     "metadata": {},
     "source": "We can easily change the format of `x`, which makes it easy to specify genes in any format. Let's try to include a list of genes with two different naming formats. This time we will only return the first few elements using `.head()`"
    },
    {
     "cell_type": "code",
     "collapsed": false,
     "input": "agglom( x = [\"b0032\",\"pyrL\",\"b0031\"], x_type=\"genes\", y_type= \"genes\", host = \"primordial\", db = \"eco_db\" ).head()",
     "language": "python",
     "metadata": {},
     "outputs": [
      {
       "html": "<div style=\"max-height:1000px;max-width:1500px;overflow:auto;\">\n<table border=\"1\" class=\"dataframe\">\n  <thead>\n    <tr style=\"text-align: right;\">\n      <th></th>\n      <th>counts</th>\n      <th>all_counts</th>\n      <th>pval</th>\n      <th>qval_BH</th>\n      <th>qval_bonferroni</th>\n    </tr>\n  </thead>\n  <tbody>\n    <tr>\n      <th>b4246</th>\n      <td> 25</td>\n      <td> 198</td>\n      <td> 0.000000e+00</td>\n      <td> 0.000000e+00</td>\n      <td> 0.000000e+00</td>\n    </tr>\n    <tr>\n      <th>b0032</th>\n      <td> 25</td>\n      <td> 198</td>\n      <td> 0.000000e+00</td>\n      <td> 0.000000e+00</td>\n      <td> 0.000000e+00</td>\n    </tr>\n    <tr>\n      <th>b0031</th>\n      <td> 25</td>\n      <td> 198</td>\n      <td> 0.000000e+00</td>\n      <td> 0.000000e+00</td>\n      <td> 0.000000e+00</td>\n    </tr>\n    <tr>\n      <th>b4006</th>\n      <td> 24</td>\n      <td> 198</td>\n      <td> 5.510260e-57</td>\n      <td> 3.981163e-55</td>\n      <td> 1.592465e-54</td>\n    </tr>\n    <tr>\n      <th>b1062</th>\n      <td> 23</td>\n      <td> 198</td>\n      <td> 2.604624e-53</td>\n      <td> 1.075338e-51</td>\n      <td> 7.527363e-51</td>\n    </tr>\n  </tbody>\n</table>\n<p>5 rows \u00d7 5 columns</p>\n</div>",
       "metadata": {},
       "output_type": "pyout",
       "prompt_number": 5,
       "text": "       counts  all_counts          pval       qval_BH  qval_bonferroni\nb4246      25         198  0.000000e+00  0.000000e+00     0.000000e+00\nb0032      25         198  0.000000e+00  0.000000e+00     0.000000e+00\nb0031      25         198  0.000000e+00  0.000000e+00     0.000000e+00\nb4006      24         198  5.510260e-57  3.981163e-55     1.592465e-54\nb1062      23         198  2.604624e-53  1.075338e-51     7.527363e-51\n\n[5 rows x 5 columns]"
      }
     ],
     "prompt_number": 5
    },
    {
     "cell_type": "markdown",
     "metadata": {},
     "source": "The lookup table is pretty extensive for genes (it comes from MicrobesOnline) so anything from common name to GI number can be matched. Cool, huh?"
    },
    {
     "cell_type": "code",
     "collapsed": false,
     "input": "",
     "language": "python",
     "metadata": {},
     "outputs": []
    }
   ],
   "metadata": {}
  }
 ]
}