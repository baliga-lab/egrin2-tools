{
 "cells": [
  {
   "cell_type": "markdown",
   "metadata": {
    "internals": {
     "slide_type": "subslide"
    },
    "slideshow": {
     "slide_type": "slide"
    }
   },
   "source": [
    "<div align=\"right\" vertical-align=\"middle\" style=\"border: 2px solid;border-radius: 5px;background-color:lightgrey;padding:5px;padding-right:20px;padding-left:10px;\">\n",
    "        <a style=\"color:black;text-decoration:none;\" title=\"Home\" href=\"../index.ipynb\">\n",
    "            <img src=\"../../css/iconmonstr-christmas-house-icon.svg\" height = \"30\" width = \"30\" style=\"display:inline\">\n",
    "        </a>\n",
    "        &nbsp;\n",
    "        <b>|</b>\n",
    "        &nbsp;\n",
    "        <a style=\"color:black;text-decoration:none;\" title=\"Build\" href=\"../build_docs/build.ipynb\">\n",
    "            <img src=\"../../css/iconmonstr-puzzle-icon.svg\" height = \"30\" width = \"30\" style=\"display:inline\">\n",
    "        </a>\n",
    "        <a style=\"color:black;text-decoration:none;\" title=\"Assemble\" href=\"../assemble_docs/assemble.ipynb\">\n",
    "            <img src=\"../../css/iconmonstr-puzzle-17-icon.svg\" height = \"30\" width = \"30\" style=\"display:inline\">\n",
    "        </a>\n",
    "        <a style=\"color:black;text-decoration:none;\" title=\"Query\" href=\"query.ipynb\">\n",
    "            <img src=\"../../css/iconmonstr-flask-3-icon.svg\" height = \"30\" width = \"30\" style=\"display:inline\">\n",
    "        </a>\n",
    "</div>\n",
    "\n",
    "<h1> TUTORIAL: Visualizing Basic `EGRIN 2.0` queries </h1>"
   ]
  },
  {
   "cell_type": "markdown",
   "metadata": {
    "internals": {
     "slide_helper": "subslide_end"
    },
    "slide_helper": "slide_end",
    "slideshow": {
     "slide_type": "-"
    }
   },
   "source": [
    "*In this tutorial, we will visualize gene expression resulting from basic EGRIN `2.0` queries*\n",
    "\n",
    "*You can download a **blank slate** version of this tutorial for editing on your local machine [here](plot_expression_tutorial_blank.ipynb)*\n",
    "\n",
    "<h3> Preliminaries </h3>\n",
    "\n",
    "As described in the [System Requirements](index.ipynb), there are several dependencies that need to be satisfied to complete this tutorial, including:\n",
    "\n",
    "- pymongo\n",
    "- numpy\n",
    "- pandas\n",
    "- joblib\n",
    "- scipy\n",
    "- statsmodels\n",
    "- itertools\n",
    "\n",
    "To query the ensemble, we must first load all of the query functions."
   ]
  },
  {
   "cell_type": "code",
   "execution_count": 2,
   "metadata": {
    "collapsed": false,
    "internals": {
     "frag_helper": "fragment_end",
     "frag_number": 1,
     "slide_type": "subslide"
    },
    "slideshow": {
     "slide_type": "slide"
    }
   },
   "outputs": [],
   "source": [
    "import query.egrin2_query as e2q\n",
    "import query.egrin2_plot as e2p\n",
    "import pymongo"
   ]
  },
  {
   "cell_type": "markdown",
   "metadata": {
    "internals": {},
    "slideshow": {
     "slide_type": "-"
    }
   },
   "source": [
    "We will also define the host and the database that we'd like to use. `Host` is the name of the machine hosting the `EGRIN 2.0` MongoDB while `db` is the organism-specific `EGRIN 2.0` database name to query.  "
   ]
  },
  {
   "cell_type": "code",
   "execution_count": 3,
   "metadata": {
    "collapsed": false,
    "internals": {
     "slide_helper": "subslide_end"
    },
    "slide_helper": "slide_end",
    "slideshow": {
     "slide_type": "-"
    }
   },
   "outputs": [],
   "source": [
    "client = pymongo.MongoClient(host='baligadev')\n",
    "db = client['eco_db']"
   ]
  },
  {
   "cell_type": "markdown",
   "metadata": {},
   "source": [
    "<h3> Basic queries </h3>\n",
    "\n",
    "<h4> STEP 1: Find genes in a corem </h4>\n",
    "\n",
    "Here we will retrieve genes and experiments in which these genes are co-regulated from a specific corem. \n",
    "\n",
    "This type of information can be retrieved using the `coremFinder` function. To call this function we need to specify:\n",
    "\n",
    "- `x`: our query\n",
    "- `x_type`: our query type. This could be corems, genes, conditions, GREs, or specific-coregulatory edges. In this case we will use `corem`.\n",
    "- `y_type`: our target type. This is the type of information we would like to retrieve. The type can be any type described by `x_type`\n",
    "\n",
    "In addition we include the `host` and `db` variables defined above."
   ]
  },
  {
   "cell_type": "code",
   "execution_count": 11,
   "metadata": {
    "collapsed": false,
    "internals": {
     "frag_helper": "fragment_end",
     "frag_number": 3,
     "slide_helper": "subslide_end",
     "slide_type": "subslide"
    },
    "slide_helper": "subslide_end",
    "slideshow": {
     "slide_type": "slide"
    }
   },
   "outputs": [
    {
     "name": "stderr",
     "output_type": "stream",
     "text": [
      "ERROR:root:Cannot identify row name: genes\n"
     ]
    },
    {
     "name": "stdout",
     "output_type": "stream",
     "text": [
      "\n",
      "There are 9 genes in corem 1, including:\n",
      "\n",
      "genes  is also called  None\n"
     ]
    }
   ],
   "source": [
    "corem = 1\n",
    "corem_genes = e2q.find_corem_info(db, corem, x_type=\"corem_id\", y_type=\"genes\")\n",
    "corem_genes.sort()\n",
    "print \"\\nThere are %d genes in corem %d, including:\\n\" % (len(corem_genes), corem)\n",
    "for i in corem_genes:\n",
    "    print i, \" is also called \", e2q.row2id_batch(db, [i], return_field=\"name\" )[0]"
   ]
  },
  {
   "cell_type": "markdown",
   "metadata": {},
   "source": [
    "<h4> STEP 2: Find experiments where these genes are co-expressed</h4>\n",
    "\n",
    "This query will also use the `coremFinder` function. To find `conditions` associated with our corem rather than genes, we simply change the `y_type` argument."
   ]
  },
  {
   "cell_type": "code",
   "execution_count": 13,
   "metadata": {
    "collapsed": false,
    "internals": {
     "frag_helper": "fragment_end",
     "frag_number": 3,
     "slide_helper": "subslide_end",
     "slide_type": "subslide"
    },
    "slide_helper": "slide_end",
    "slideshow": {
     "slide_type": "subslide"
    }
   },
   "outputs": [
    {
     "name": "stdout",
     "output_type": "stream",
     "text": [
      "\n",
      "There are 418 conditions in which these genes are co-regulated, including:\n",
      "\n",
      "conditions\n"
     ]
    }
   ],
   "source": [
    "corem_conditions = e2q.find_corem_info(db, corem, x_type=\"corem\", y_type=\"conditions\")\n",
    "corem_conditions.sort()\n",
    "print \"\\nThere are %d conditions in which these genes are co-regulated, including:\\n\" % len(corem_conditions)\n",
    "for i in corem_conditions[0:10]:\n",
    "    print i"
   ]
  },
  {
   "cell_type": "markdown",
   "metadata": {},
   "source": [
    "<h4> STEP 3: Retrieve gene expression from the database </h4>\n",
    "\n",
    "To retrieve gene expression values for these genes and experiments we use the `expressionFinder` function. To call this function we specific the `rows` (genes) and `columns` (conditions), as well as the `host` and `db` as before. "
   ]
  },
  {
   "cell_type": "code",
   "execution_count": 14,
   "metadata": {
    "collapsed": false,
    "internals": {
     "frag_helper": "fragment_end",
     "frag_number": 3,
     "slide_helper": "subslide_end",
     "slide_type": "subslide"
    },
    "slide_helper": "slide_end",
    "slideshow": {
     "slide_type": "slide"
    }
   },
   "outputs": [
    {
     "name": "stderr",
     "output_type": "stream",
     "text": [
      "/usr/lib/python2.7/dist-packages/pymongo/cursor.py:848: RuntimeWarning:\n",
      "\n",
      "couldn't encode - reloading python modules and trying again. if you see this without getting an InvalidDocument exception please see http://api.mongodb.org/python/current/faq.html#does-pymongo-work-with-mod-wsgi\n",
      "\n"
     ]
    },
    {
     "ename": "InvalidDocument",
     "evalue": "Cannot encode object:    genes\n0  b3317\n1  b3320\n2  b3319\n3  b3313\n4  b3315\n5  b3318\n6  b3314\n7  b3321\n8  b3316\n\n[9 rows x 1 columns]",
     "output_type": "error",
     "traceback": [
      "\u001b[1;31m---------------------------------------------------------------------------\u001b[0m",
      "\u001b[1;31mInvalidDocument\u001b[0m                           Traceback (most recent call last)",
      "\u001b[1;32m<ipython-input-14-b1189e2cd1db>\u001b[0m in \u001b[0;36m<module>\u001b[1;34m()\u001b[0m\n\u001b[1;32m----> 1\u001b[1;33m \u001b[0mgene_expression\u001b[0m \u001b[1;33m=\u001b[0m \u001b[0me2q\u001b[0m\u001b[1;33m.\u001b[0m\u001b[0mfind_gene_expression\u001b[0m\u001b[1;33m(\u001b[0m\u001b[0mdb\u001b[0m\u001b[1;33m,\u001b[0m \u001b[0mrows\u001b[0m\u001b[1;33m=\u001b[0m\u001b[0mcorem_genes\u001b[0m\u001b[1;33m,\u001b[0m \u001b[0mcols\u001b[0m\u001b[1;33m=\u001b[0m\u001b[0mcorem_conditions\u001b[0m\u001b[1;33m)\u001b[0m\u001b[1;33m\u001b[0m\u001b[0m\n\u001b[0m",
      "\u001b[1;32m/users/wwu/egrin2-tools/query/egrin2_query.pyc\u001b[0m in \u001b[0;36mfind_gene_expression\u001b[1;34m(db, rows, cols, standardized)\u001b[0m\n\u001b[0;32m    781\u001b[0m     \u001b[1;31m# translate rows/cols\u001b[0m\u001b[1;33m\u001b[0m\u001b[1;33m\u001b[0m\u001b[0m\n\u001b[0;32m    782\u001b[0m \u001b[1;33m\u001b[0m\u001b[0m\n\u001b[1;32m--> 783\u001b[1;33m     \u001b[0mrows\u001b[0m \u001b[1;33m=\u001b[0m \u001b[0mrow2id_batch\u001b[0m\u001b[1;33m(\u001b[0m\u001b[0mdb\u001b[0m\u001b[1;33m,\u001b[0m \u001b[0mrows\u001b[0m\u001b[1;33m,\u001b[0m \u001b[0mreturn_field\u001b[0m\u001b[1;33m=\u001b[0m\u001b[1;34m\"row_id\"\u001b[0m\u001b[1;33m,\u001b[0m \u001b[0minput_type\u001b[0m\u001b[1;33m=\u001b[0m\u001b[0minput_type_rows\u001b[0m\u001b[1;33m)\u001b[0m\u001b[1;33m\u001b[0m\u001b[0m\n\u001b[0m\u001b[0;32m    784\u001b[0m     \u001b[0mcols\u001b[0m \u001b[1;33m=\u001b[0m \u001b[0mcol2id_batch\u001b[0m\u001b[1;33m(\u001b[0m\u001b[0mdb\u001b[0m\u001b[1;33m,\u001b[0m \u001b[0mcols\u001b[0m\u001b[1;33m,\u001b[0m \u001b[0mreturn_field\u001b[0m\u001b[1;33m=\u001b[0m\u001b[1;34m\"col_id\"\u001b[0m\u001b[1;33m,\u001b[0m \u001b[0minput_type\u001b[0m\u001b[1;33m=\u001b[0m\u001b[0minput_type_cols\u001b[0m\u001b[1;33m)\u001b[0m\u001b[1;33m\u001b[0m\u001b[0m\n\u001b[0;32m    785\u001b[0m \u001b[1;33m\u001b[0m\u001b[0m\n",
      "\u001b[1;32m/users/wwu/egrin2-tools/query/egrin2_query.pyc\u001b[0m in \u001b[0;36mrow2id_batch\u001b[1;34m(db, rows, return_field, input_type)\u001b[0m\n\u001b[0;32m     69\u001b[0m                                                 \u001b[1;34m\"egrin2_row_name\"\u001b[0m\u001b[1;33m:\u001b[0m \u001b[1;36m1\u001b[0m\u001b[1;33m,\u001b[0m\u001b[1;33m\u001b[0m\u001b[0m\n\u001b[0;32m     70\u001b[0m                                                 \u001b[1;34m\"GI\"\u001b[0m\u001b[1;33m:\u001b[0m \u001b[1;36m1\u001b[0m\u001b[1;33m,\u001b[0m \u001b[1;34m\"accession\"\u001b[0m\u001b[1;33m:\u001b[0m \u001b[1;36m1\u001b[0m\u001b[1;33m,\u001b[0m\u001b[1;33m\u001b[0m\u001b[0m\n\u001b[1;32m---> 71\u001b[1;33m                                                 \"name\": 1})))\n\u001b[0m\u001b[0;32m     72\u001b[0m \u001b[1;33m\u001b[0m\u001b[0m\n\u001b[0;32m     73\u001b[0m     \u001b[1;32mif\u001b[0m \u001b[0minput_type\u001b[0m \u001b[1;32min\u001b[0m \u001b[1;33m[\u001b[0m\u001b[1;34m\"row_id\"\u001b[0m\u001b[1;33m,\u001b[0m \u001b[1;34m\"egrin2_row_name\"\u001b[0m\u001b[1;33m,\u001b[0m \u001b[1;34m\"GI\"\u001b[0m\u001b[1;33m,\u001b[0m \u001b[1;34m\"accession\"\u001b[0m\u001b[1;33m,\u001b[0m \u001b[1;34m\"name\"\u001b[0m\u001b[1;33m,\u001b[0m \u001b[1;34m\"sysName\"\u001b[0m\u001b[1;33m]\u001b[0m\u001b[1;33m:\u001b[0m\u001b[1;33m\u001b[0m\u001b[0m\n",
      "\u001b[1;32m/usr/lib/python2.7/dist-packages/pymongo/cursor.pyc\u001b[0m in \u001b[0;36mnext\u001b[1;34m(self)\u001b[0m\n\u001b[0;32m    902\u001b[0m             \u001b[1;32mraise\u001b[0m \u001b[0mStopIteration\u001b[0m\u001b[1;33m\u001b[0m\u001b[0m\n\u001b[0;32m    903\u001b[0m         \u001b[0mdb\u001b[0m \u001b[1;33m=\u001b[0m \u001b[0mself\u001b[0m\u001b[1;33m.\u001b[0m\u001b[0m__collection\u001b[0m\u001b[1;33m.\u001b[0m\u001b[0mdatabase\u001b[0m\u001b[1;33m\u001b[0m\u001b[0m\n\u001b[1;32m--> 904\u001b[1;33m         \u001b[1;32mif\u001b[0m \u001b[0mlen\u001b[0m\u001b[1;33m(\u001b[0m\u001b[0mself\u001b[0m\u001b[1;33m.\u001b[0m\u001b[0m__data\u001b[0m\u001b[1;33m)\u001b[0m \u001b[1;32mor\u001b[0m \u001b[0mself\u001b[0m\u001b[1;33m.\u001b[0m\u001b[0m_refresh\u001b[0m\u001b[1;33m(\u001b[0m\u001b[1;33m)\u001b[0m\u001b[1;33m:\u001b[0m\u001b[1;33m\u001b[0m\u001b[0m\n\u001b[0m\u001b[0;32m    905\u001b[0m             \u001b[1;32mif\u001b[0m \u001b[0mself\u001b[0m\u001b[1;33m.\u001b[0m\u001b[0m__manipulate\u001b[0m\u001b[1;33m:\u001b[0m\u001b[1;33m\u001b[0m\u001b[0m\n\u001b[0;32m    906\u001b[0m                 return db._fix_outgoing(self.__data.popleft(),\n",
      "\u001b[1;32m/usr/lib/python2.7/dist-packages/pymongo/cursor.pyc\u001b[0m in \u001b[0;36m_refresh\u001b[1;34m(self)\u001b[0m\n\u001b[0;32m    846\u001b[0m                               \u001b[0mself\u001b[0m\u001b[1;33m.\u001b[0m\u001b[0m__skip\u001b[0m\u001b[1;33m,\u001b[0m \u001b[0mntoreturn\u001b[0m\u001b[1;33m,\u001b[0m\u001b[1;33m\u001b[0m\u001b[0m\n\u001b[0;32m    847\u001b[0m                               \u001b[0mself\u001b[0m\u001b[1;33m.\u001b[0m\u001b[0m__query_spec\u001b[0m\u001b[1;33m(\u001b[0m\u001b[1;33m)\u001b[0m\u001b[1;33m,\u001b[0m \u001b[0mself\u001b[0m\u001b[1;33m.\u001b[0m\u001b[0m__fields\u001b[0m\u001b[1;33m,\u001b[0m\u001b[1;33m\u001b[0m\u001b[0m\n\u001b[1;32m--> 848\u001b[1;33m                               self.__uuid_subtype))\n\u001b[0m\u001b[0;32m    849\u001b[0m             \u001b[1;32mif\u001b[0m \u001b[1;32mnot\u001b[0m \u001b[0mself\u001b[0m\u001b[1;33m.\u001b[0m\u001b[0m__id\u001b[0m\u001b[1;33m:\u001b[0m\u001b[1;33m\u001b[0m\u001b[0m\n\u001b[0;32m    850\u001b[0m                 \u001b[0mself\u001b[0m\u001b[1;33m.\u001b[0m\u001b[0m__killed\u001b[0m \u001b[1;33m=\u001b[0m \u001b[0mTrue\u001b[0m\u001b[1;33m\u001b[0m\u001b[0m\n",
      "\u001b[1;31mInvalidDocument\u001b[0m: Cannot encode object:    genes\n0  b3317\n1  b3320\n2  b3319\n3  b3313\n4  b3315\n5  b3318\n6  b3314\n7  b3321\n8  b3316\n\n[9 rows x 1 columns]"
     ]
    }
   ],
   "source": [
    "gene_expression = e2q.find_gene_expression(db, rows=corem_genes, cols=corem_conditions)"
   ]
  },
  {
   "cell_type": "markdown",
   "metadata": {},
   "source": [
    "<h4> STEP 4. Plot expression values </h4>\n",
    "\n",
    "We have several options for plotting these gene expression values. We could plot the expression values as lines, or in a heatmap, or even as a boxplot for all genes in each condition. \n",
    "\n",
    "Each of these visualizations is available by calling a single function, `plotExpression`. To call this function we must provide:\n",
    "\n",
    "- `data`: this is the gene expression values, a Pandas data frame\n",
    "- `plot_type`: this is the type of plot to draw. Can be `boxplot' (default), `line`, or `heatmap`\n",
    "- `ipynb`: logical indicating whether the plot will be drawn in an iPython notebook\n",
    "- `sort`: optionally sort the data (default: `FALSE`)\n",
    "\n",
    "It's important to note that this function only requires a Pandas data frame, meaning you can use it to plot any kind of data (e.g. loaded from a text file).\n",
    "\n",
    "Additionally, if we are producing the plot in an iPython notebook, we need to set the argument `ipynb` = `TRUE` and call an additional function `py.iplot` on the value returned from `plotExpression`.\n",
    "\n",
    "Below are three examples, calling the `plotExpression` function with three different values for the `plot_type` argument: `line`, `heatmap`, and `boxplot`."
   ]
  },
  {
   "cell_type": "code",
   "execution_count": 15,
   "metadata": {
    "collapsed": false,
    "internals": {
     "frag_helper": "fragment_end",
     "frag_number": 3,
     "slide_helper": "subslide_end",
     "slide_type": "subslide"
    },
    "slide_helper": "subslide_end",
    "slideshow": {
     "slide_type": "slide"
    }
   },
   "outputs": [
    {
     "ename": "NameError",
     "evalue": "name 'gene_expression' is not defined",
     "output_type": "error",
     "traceback": [
      "\u001b[1;31m---------------------------------------------------------------------------\u001b[0m",
      "\u001b[1;31mNameError\u001b[0m                                 Traceback (most recent call last)",
      "\u001b[1;32m<ipython-input-15-ce054f5158bf>\u001b[0m in \u001b[0;36m<module>\u001b[1;34m()\u001b[0m\n\u001b[1;32m----> 1\u001b[1;33m \u001b[0mline_plot\u001b[0m \u001b[1;33m=\u001b[0m \u001b[0me2p\u001b[0m\u001b[1;33m.\u001b[0m\u001b[0mplotExpression\u001b[0m\u001b[1;33m(\u001b[0m\u001b[0mdata\u001b[0m\u001b[1;33m=\u001b[0m\u001b[0mgene_expression\u001b[0m\u001b[1;33m,\u001b[0m \u001b[0mplot_type\u001b[0m \u001b[1;33m=\u001b[0m \u001b[1;34m\"line\"\u001b[0m\u001b[1;33m,\u001b[0m \u001b[0mipynb\u001b[0m\u001b[1;33m=\u001b[0m\u001b[0mTrue\u001b[0m\u001b[1;33m,\u001b[0m \u001b[0msort\u001b[0m\u001b[1;33m=\u001b[0m\u001b[0mFalse\u001b[0m\u001b[1;33m)\u001b[0m\u001b[1;33m\u001b[0m\u001b[0m\n\u001b[0m\u001b[0;32m      2\u001b[0m \u001b[0mpy\u001b[0m\u001b[1;33m.\u001b[0m\u001b[0miplot\u001b[0m\u001b[1;33m(\u001b[0m\u001b[0mline_plot\u001b[0m\u001b[1;33m)\u001b[0m\u001b[1;33m\u001b[0m\u001b[0m\n",
      "\u001b[1;31mNameError\u001b[0m: name 'gene_expression' is not defined"
     ]
    }
   ],
   "source": [
    "line_plot = e2p.plotExpression(data=gene_expression, plot_type = \"line\", ipynb=True, sort=False)\n",
    "py.iplot(line_plot)"
   ]
  },
  {
   "cell_type": "code",
   "execution_count": 7,
   "metadata": {
    "collapsed": false,
    "internals": {
     "frag_helper": "fragment_end",
     "frag_number": 3,
     "slide_helper": "subslide_end",
     "slide_type": "subslide"
    },
    "slide_helper": "slide_end",
    "slideshow": {
     "slide_type": "slide"
    }
   },
   "outputs": [
    {
     "data": {
      "text/html": [
       "<iframe id=\"igraph\" scrolling=\"no\" style=\"border:none;\"seamless=\"seamless\" src=\"https://plot.ly/~scalefreegan/245.embed\" height=\"525\" width=\"100%\"></iframe>"
      ],
      "text/plain": [
       "<plotly.tools.PlotlyDisplay object>"
      ]
     },
     "execution_count": 7,
     "metadata": {},
     "output_type": "execute_result"
    }
   ],
   "source": [
    "heatmap = plotExpression( data = gene_expression, plot_type = \"heatmap\", ipynb = True )\n",
    "py.iplot( heatmap )"
   ]
  },
  {
   "cell_type": "code",
   "execution_count": 8,
   "metadata": {
    "collapsed": false,
    "internals": {
     "frag_helper": "fragment_end",
     "frag_number": 3,
     "slide_helper": "subslide_end",
     "slide_type": "subslide"
    },
    "slide_helper": "subslide_end",
    "slideshow": {
     "slide_type": "slide"
    }
   },
   "outputs": [
    {
     "data": {
      "text/html": [
       "<iframe id=\"igraph\" scrolling=\"no\" style=\"border:none;\"seamless=\"seamless\" src=\"https://plot.ly/~scalefreegan/246.embed\" height=\"525\" width=\"100%\"></iframe>"
      ],
      "text/plain": [
       "<plotly.tools.PlotlyDisplay object>"
      ]
     },
     "execution_count": 8,
     "metadata": {},
     "output_type": "execute_result"
    }
   ],
   "source": [
    "boxplot = plotExpression( gene_expression, plot_type = \"boxplot\", ipynb = True, sort = True )\n",
    "py.iplot( boxplot )"
   ]
  },
  {
   "cell_type": "markdown",
   "metadata": {},
   "source": [
    "<h4> Putting it all together </h4>\n",
    "\n",
    "Here is the code. You can copy this to your own notebook or download a *blank slate* notebook [here](plot_expression_tutorial_blank.ipynb)."
   ]
  },
  {
   "cell_type": "code",
   "execution_count": 9,
   "metadata": {
    "collapsed": false
   },
   "outputs": [
    {
     "data": {
      "text/html": [
       "<iframe id=\"igraph\" scrolling=\"no\" style=\"border:none;\"seamless=\"seamless\" src=\"https://plot.ly/~scalefreegan/247.embed\" height=\"525\" width=\"100%\"></iframe>"
      ],
      "text/plain": [
       "<plotly.tools.PlotlyDisplay object>"
      ]
     },
     "execution_count": 9,
     "metadata": {},
     "output_type": "execute_result"
    }
   ],
   "source": [
    "# PLOT GENE EXPRESSION\n",
    "\n",
    "# prelims\n",
    "from query.egrin2_query import *\n",
    "host = \"\"\n",
    "db = \"\"\n",
    "\n",
    "corem = 1\n",
    "# find corem genes\n",
    "corem_genes =  coremFinder(x = corem,x_type = \"corem\", y_type=\"genes\",host=host,db=db)\n",
    "# find corem conditions\n",
    "corem_conditions =  coremFinder(x = corem,x_type = \"corem\", y_type=\"conditions\", host=host, db=db)\n",
    "# get gene expression\n",
    "gene_expression = expressionFinder(rows=corem_genes,cols=corem_conditions,host=host,db=db)\n",
    "# plot\n",
    "plot = plotExpression( data = gene_expression, plot_type = \"line\", ipynb = True, sort = False )\n",
    "py.iplot( plot )"
   ]
  }
 ],
 "metadata": {
  "kernelspec": {
   "display_name": "Python 2",
   "language": "python",
   "name": "python2"
  },
  "language_info": {
   "codemirror_mode": {
    "name": "ipython",
    "version": 2
   },
   "file_extension": ".py",
   "mimetype": "text/x-python",
   "name": "python",
   "nbconvert_exporter": "python",
   "pygments_lexer": "ipython2",
   "version": "2.7.6"
  }
 },
 "nbformat": 4,
 "nbformat_minor": 0
}
