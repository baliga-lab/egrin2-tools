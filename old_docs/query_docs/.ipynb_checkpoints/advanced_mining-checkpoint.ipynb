{
 "cells": [
  {
   "cell_type": "markdown",
   "metadata": {},
   "source": [
    "<div align=\"right\" vertical-align=\"middle\" style=\"border: 2px solid;border-radius: 5px;background-color:lightgrey;padding:5px;padding-right:20px;padding-left:10px;\">\n",
    "        <a style=\"color:black;text-decoration:none;\" title=\"Home\" href=\"../index.ipynb\">\n",
    "            <img src=\"../../css/iconmonstr-christmas-house-icon.svg\" height = \"30\" width = \"30\" style=\"display:inline\">\n",
    "        </a>\n",
    "        &nbsp;\n",
    "        <b>|</b>\n",
    "        &nbsp;\n",
    "        <a style=\"color:black;text-decoration:none;\" title=\"Build\" href=\"../build_docs/build.ipynb\">\n",
    "            <img src=\"../../css/iconmonstr-puzzle-icon.svg\" height = \"30\" width = \"30\" style=\"display:inline\">\n",
    "        </a>\n",
    "        <a style=\"color:black;text-decoration:none;\" title=\"Assemble\" href=\"../assemble_docs/assemble.ipynb\">\n",
    "            <img src=\"../../css/iconmonstr-puzzle-17-icon.svg\" height = \"30\" width = \"30\" style=\"display:inline\">\n",
    "        </a>\n",
    "        <a style=\"color:black;text-decoration:none;\" title=\"Query\" href=\"query.ipynb\">\n",
    "            <img src=\"../../css/iconmonstr-flask-3-icon.svg\" height = \"30\" width = \"30\" style=\"display:inline\">\n",
    "        </a>\n",
    "</div>"
   ]
  },
  {
   "cell_type": "markdown",
   "metadata": {},
   "source": [
    "# Advanced Mining\n",
    "\n",
    "## Customizing EGRIN2.0 MongoDB queries"
   ]
  },
  {
   "cell_type": "markdown",
   "metadata": {},
   "source": [
    "### In a nutshell\n",
    "\n",
    "Information hosted in the EGRIN 2.0 MongoDB databases can be used directly to extend EGRIN 2.0 queries and analysis. "
   ]
  },
  {
   "cell_type": "markdown",
   "metadata": {},
   "source": [
    "### Set-up"
   ]
  },
  {
   "cell_type": "markdown",
   "metadata": {},
   "source": [
    "* As usual, make sure ./egrin-tools/ folder is in your python path*"
   ]
  },
  {
   "cell_type": "markdown",
   "metadata": {},
   "source": [
    "You can do this on Mac/Linux by adding the path to you Bash Shell Startup Files, e.g. ~/.bashrc or ~/.bash_profile\n",
    "\n",
    "for example in ~/.bash_profile add the following line:\n",
    "\n",
    "`export PYTHONPATH=$PYTHONPATH:path/to/egrin2-tools/`"
   ]
  },
  {
   "cell_type": "markdown",
   "metadata": {},
   "source": [
    "### Load required modules"
   ]
  },
  {
   "cell_type": "code",
   "execution_count": 16,
   "metadata": {
    "collapsed": false
   },
   "outputs": [],
   "source": [
    "import query.egrin2_query as e2q\n",
    "import pymongo\n",
    "import pandas as pd\n",
    "\n",
    "client = pymongo.MongoClient(host='localhost')\n",
    "db = client['eco_db']"
   ]
  },
  {
   "cell_type": "markdown",
   "metadata": {},
   "source": [
    "There are several dependencies that need to be satisfied, including:\n",
    "- pymongo\n",
    "- numpy\n",
    "- pandas\n",
    "- joblib\n",
    "- scipy\n",
    "- statsmodels\n",
    "- itertools"
   ]
  },
  {
   "cell_type": "markdown",
   "metadata": {},
   "source": [
    "### Run agglom function"
   ]
  },
  {
   "cell_type": "markdown",
   "metadata": {},
   "source": [
    "#### Example 1: Find genes co-regulated in biclusters with the gene carA (b0032)"
   ]
  },
  {
   "cell_type": "code",
   "execution_count": 5,
   "metadata": {
    "collapsed": false
   },
   "outputs": [],
   "source": [
    "carA_genes = e2q.agglom(db, x=\"b0032\", x_type=\"genes\", y_type=\"genes\")"
   ]
  },
  {
   "cell_type": "code",
   "execution_count": 11,
   "metadata": {
    "collapsed": false,
    "scrolled": true
   },
   "outputs": [
    {
     "data": {
      "text/html": [
       "<div style=\"max-height:1000px;max-width:1500px;overflow:auto;\">\n",
       "<table border=\"1\" class=\"dataframe\">\n",
       "  <thead>\n",
       "    <tr style=\"text-align: right;\">\n",
       "      <th></th>\n",
       "      <th>counts</th>\n",
       "      <th>all_counts</th>\n",
       "      <th>pval</th>\n",
       "      <th>qval_BH</th>\n",
       "      <th>qval_bonferroni</th>\n",
       "    </tr>\n",
       "  </thead>\n",
       "  <tbody>\n",
       "    <tr>\n",
       "      <th>b0032</th>\n",
       "      <td> 198</td>\n",
       "      <td> 198</td>\n",
       "      <td>  0.000000e+00</td>\n",
       "      <td>  0.000000e+00</td>\n",
       "      <td>  0.000000e+00</td>\n",
       "    </tr>\n",
       "    <tr>\n",
       "      <th>b0033</th>\n",
       "      <td> 173</td>\n",
       "      <td> 198</td>\n",
       "      <td>  0.000000e+00</td>\n",
       "      <td>  0.000000e+00</td>\n",
       "      <td>  0.000000e+00</td>\n",
       "    </tr>\n",
       "    <tr>\n",
       "      <th>b4245</th>\n",
       "      <td> 169</td>\n",
       "      <td> 198</td>\n",
       "      <td>  0.000000e+00</td>\n",
       "      <td>  0.000000e+00</td>\n",
       "      <td>  0.000000e+00</td>\n",
       "    </tr>\n",
       "    <tr>\n",
       "      <th>b4244</th>\n",
       "      <td> 167</td>\n",
       "      <td> 198</td>\n",
       "      <td>  0.000000e+00</td>\n",
       "      <td>  0.000000e+00</td>\n",
       "      <td>  0.000000e+00</td>\n",
       "    </tr>\n",
       "    <tr>\n",
       "      <th>b0337</th>\n",
       "      <td> 154</td>\n",
       "      <td> 198</td>\n",
       "      <td>  0.000000e+00</td>\n",
       "      <td>  0.000000e+00</td>\n",
       "      <td>  0.000000e+00</td>\n",
       "    </tr>\n",
       "    <tr>\n",
       "      <th>b0336</th>\n",
       "      <td> 153</td>\n",
       "      <td> 198</td>\n",
       "      <td>  0.000000e+00</td>\n",
       "      <td>  0.000000e+00</td>\n",
       "      <td>  0.000000e+00</td>\n",
       "    </tr>\n",
       "    <tr>\n",
       "      <th>b1062</th>\n",
       "      <td> 152</td>\n",
       "      <td> 198</td>\n",
       "      <td>  0.000000e+00</td>\n",
       "      <td>  0.000000e+00</td>\n",
       "      <td>  0.000000e+00</td>\n",
       "    </tr>\n",
       "    <tr>\n",
       "      <th>b2476</th>\n",
       "      <td> 142</td>\n",
       "      <td> 198</td>\n",
       "      <td> 3.783051e-300</td>\n",
       "      <td> 4.073085e-298</td>\n",
       "      <td> 3.665776e-297</td>\n",
       "    </tr>\n",
       "    <tr>\n",
       "      <th>b2499</th>\n",
       "      <td> 142</td>\n",
       "      <td> 198</td>\n",
       "      <td> 3.783051e-300</td>\n",
       "      <td> 4.073085e-298</td>\n",
       "      <td> 3.665776e-297</td>\n",
       "    </tr>\n",
       "    <tr>\n",
       "      <th>b2312</th>\n",
       "      <td> 141</td>\n",
       "      <td> 198</td>\n",
       "      <td> 5.664712e-297</td>\n",
       "      <td> 4.574255e-295</td>\n",
       "      <td> 5.489106e-294</td>\n",
       "    </tr>\n",
       "    <tr>\n",
       "      <th>b2313</th>\n",
       "      <td> 141</td>\n",
       "      <td> 198</td>\n",
       "      <td> 5.664712e-297</td>\n",
       "      <td> 4.574255e-295</td>\n",
       "      <td> 5.489106e-294</td>\n",
       "    </tr>\n",
       "    <tr>\n",
       "      <th>b2557</th>\n",
       "      <td> 141</td>\n",
       "      <td> 198</td>\n",
       "      <td> 5.664712e-297</td>\n",
       "      <td> 4.574255e-295</td>\n",
       "      <td> 5.489106e-294</td>\n",
       "    </tr>\n",
       "    <tr>\n",
       "      <th>b0522</th>\n",
       "      <td> 138</td>\n",
       "      <td> 198</td>\n",
       "      <td> 1.477589e-287</td>\n",
       "      <td> 1.101372e-285</td>\n",
       "      <td> 1.431783e-284</td>\n",
       "    </tr>\n",
       "    <tr>\n",
       "      <th>b1849</th>\n",
       "      <td> 136</td>\n",
       "      <td> 198</td>\n",
       "      <td> 2.280977e-281</td>\n",
       "      <td> 1.578762e-279</td>\n",
       "      <td> 2.210267e-278</td>\n",
       "    </tr>\n",
       "    <tr>\n",
       "      <th>b4006</th>\n",
       "      <td> 132</td>\n",
       "      <td> 198</td>\n",
       "      <td> 3.382871e-269</td>\n",
       "      <td> 2.185335e-267</td>\n",
       "      <td> 3.278002e-266</td>\n",
       "    </tr>\n",
       "    <tr>\n",
       "      <th>b0523</th>\n",
       "      <td> 129</td>\n",
       "      <td> 198</td>\n",
       "      <td> 3.043903e-260</td>\n",
       "      <td> 1.843464e-258</td>\n",
       "      <td> 2.949542e-257</td>\n",
       "    </tr>\n",
       "    <tr>\n",
       "      <th>b3654</th>\n",
       "      <td> 128</td>\n",
       "      <td> 198</td>\n",
       "      <td> 2.728256e-257</td>\n",
       "      <td> 1.555106e-255</td>\n",
       "      <td> 2.643680e-254</td>\n",
       "    </tr>\n",
       "    <tr>\n",
       "      <th>b4246</th>\n",
       "      <td> 126</td>\n",
       "      <td> 198</td>\n",
       "      <td> 1.964952e-251</td>\n",
       "      <td> 1.057799e-249</td>\n",
       "      <td> 1.904038e-248</td>\n",
       "    </tr>\n",
       "    <tr>\n",
       "      <th>b2500</th>\n",
       "      <td> 122</td>\n",
       "      <td> 198</td>\n",
       "      <td> 6.646122e-240</td>\n",
       "      <td> 3.389522e-238</td>\n",
       "      <td> 6.440093e-237</td>\n",
       "    </tr>\n",
       "    <tr>\n",
       "      <th>b2497</th>\n",
       "      <td> 112</td>\n",
       "      <td> 198</td>\n",
       "      <td> 4.061863e-212</td>\n",
       "      <td> 1.967973e-210</td>\n",
       "      <td> 3.935945e-209</td>\n",
       "    </tr>\n",
       "    <tr>\n",
       "      <th>b4064</th>\n",
       "      <td> 102</td>\n",
       "      <td> 198</td>\n",
       "      <td> 9.823972e-186</td>\n",
       "      <td> 4.533061e-184</td>\n",
       "      <td> 9.519429e-183</td>\n",
       "    </tr>\n",
       "    <tr>\n",
       "      <th>b0945</th>\n",
       "      <td>  96</td>\n",
       "      <td> 198</td>\n",
       "      <td> 1.511792e-170</td>\n",
       "      <td> 6.658758e-169</td>\n",
       "      <td> 1.464927e-167</td>\n",
       "    </tr>\n",
       "    <tr>\n",
       "      <th>b4005</th>\n",
       "      <td>  89</td>\n",
       "      <td> 198</td>\n",
       "      <td> 2.020583e-153</td>\n",
       "      <td> 8.512805e-152</td>\n",
       "      <td> 1.957945e-150</td>\n",
       "    </tr>\n",
       "    <tr>\n",
       "      <th>b3941</th>\n",
       "      <td>  58</td>\n",
       "      <td> 198</td>\n",
       "      <td>  3.940658e-85</td>\n",
       "      <td>  1.591041e-83</td>\n",
       "      <td>  3.818498e-82</td>\n",
       "    </tr>\n",
       "    <tr>\n",
       "      <th>b3359</th>\n",
       "      <td>  57</td>\n",
       "      <td> 198</td>\n",
       "      <td>  3.886443e-83</td>\n",
       "      <td>  1.448447e-81</td>\n",
       "      <td>  3.765963e-80</td>\n",
       "    </tr>\n",
       "    <tr>\n",
       "      <th>b3829</th>\n",
       "      <td>  57</td>\n",
       "      <td> 198</td>\n",
       "      <td>  3.886443e-83</td>\n",
       "      <td>  1.448447e-81</td>\n",
       "      <td>  3.765963e-80</td>\n",
       "    </tr>\n",
       "    <tr>\n",
       "      <th>b4024</th>\n",
       "      <td>  56</td>\n",
       "      <td> 198</td>\n",
       "      <td>  3.714681e-81</td>\n",
       "      <td>  1.333158e-79</td>\n",
       "      <td>  3.599526e-78</td>\n",
       "    </tr>\n",
       "    <tr>\n",
       "      <th>b0908</th>\n",
       "      <td>  55</td>\n",
       "      <td> 198</td>\n",
       "      <td>  3.440262e-79</td>\n",
       "      <td>  1.149522e-77</td>\n",
       "      <td>  3.333614e-76</td>\n",
       "    </tr>\n",
       "    <tr>\n",
       "      <th>b3774</th>\n",
       "      <td>  55</td>\n",
       "      <td> 198</td>\n",
       "      <td>  3.440262e-79</td>\n",
       "      <td>  1.149522e-77</td>\n",
       "      <td>  3.333614e-76</td>\n",
       "    </tr>\n",
       "    <tr>\n",
       "      <th>b3008</th>\n",
       "      <td>  54</td>\n",
       "      <td> 198</td>\n",
       "      <td>  3.086539e-77</td>\n",
       "      <td>  9.647922e-76</td>\n",
       "      <td>  2.990856e-74</td>\n",
       "    </tr>\n",
       "    <tr>\n",
       "      <th>...</th>\n",
       "      <td>...</td>\n",
       "      <td>...</td>\n",
       "      <td>...</td>\n",
       "      <td>...</td>\n",
       "      <td>...</td>\n",
       "    </tr>\n",
       "    <tr>\n",
       "      <th>b1603</th>\n",
       "      <td>   3</td>\n",
       "      <td> 198</td>\n",
       "      <td>  3.154301e-02</td>\n",
       "      <td>  1.180123e-01</td>\n",
       "      <td>  1.000000e+00</td>\n",
       "    </tr>\n",
       "    <tr>\n",
       "      <th>b0537</th>\n",
       "      <td>   3</td>\n",
       "      <td> 198</td>\n",
       "      <td>  3.154301e-02</td>\n",
       "      <td>  1.180123e-01</td>\n",
       "      <td>  1.000000e+00</td>\n",
       "    </tr>\n",
       "    <tr>\n",
       "      <th>b0070</th>\n",
       "      <td>   3</td>\n",
       "      <td> 198</td>\n",
       "      <td>  3.154301e-02</td>\n",
       "      <td>  1.180123e-01</td>\n",
       "      <td>  1.000000e+00</td>\n",
       "    </tr>\n",
       "    <tr>\n",
       "      <th>b3574</th>\n",
       "      <td>   3</td>\n",
       "      <td> 198</td>\n",
       "      <td>  3.154301e-02</td>\n",
       "      <td>  1.180123e-01</td>\n",
       "      <td>  1.000000e+00</td>\n",
       "    </tr>\n",
       "    <tr>\n",
       "      <th>b2000</th>\n",
       "      <td>   3</td>\n",
       "      <td> 198</td>\n",
       "      <td>  3.154301e-02</td>\n",
       "      <td>  1.180123e-01</td>\n",
       "      <td>  1.000000e+00</td>\n",
       "    </tr>\n",
       "    <tr>\n",
       "      <th>b1247</th>\n",
       "      <td>   3</td>\n",
       "      <td> 198</td>\n",
       "      <td>  3.154301e-02</td>\n",
       "      <td>  1.180123e-01</td>\n",
       "      <td>  1.000000e+00</td>\n",
       "    </tr>\n",
       "    <tr>\n",
       "      <th>b0854</th>\n",
       "      <td>   3</td>\n",
       "      <td> 198</td>\n",
       "      <td>  3.154301e-02</td>\n",
       "      <td>  1.180123e-01</td>\n",
       "      <td>  1.000000e+00</td>\n",
       "    </tr>\n",
       "    <tr>\n",
       "      <th>b0862</th>\n",
       "      <td>   3</td>\n",
       "      <td> 198</td>\n",
       "      <td>  3.154301e-02</td>\n",
       "      <td>  1.180123e-01</td>\n",
       "      <td>  1.000000e+00</td>\n",
       "    </tr>\n",
       "    <tr>\n",
       "      <th>b2255</th>\n",
       "      <td>   3</td>\n",
       "      <td> 198</td>\n",
       "      <td>  3.154301e-02</td>\n",
       "      <td>  1.180123e-01</td>\n",
       "      <td>  1.000000e+00</td>\n",
       "    </tr>\n",
       "    <tr>\n",
       "      <th>b2924</th>\n",
       "      <td>   3</td>\n",
       "      <td> 198</td>\n",
       "      <td>  3.154301e-02</td>\n",
       "      <td>  1.180123e-01</td>\n",
       "      <td>  1.000000e+00</td>\n",
       "    </tr>\n",
       "    <tr>\n",
       "      <th>b2018</th>\n",
       "      <td>   3</td>\n",
       "      <td> 198</td>\n",
       "      <td>  3.154301e-02</td>\n",
       "      <td>  1.180123e-01</td>\n",
       "      <td>  1.000000e+00</td>\n",
       "    </tr>\n",
       "    <tr>\n",
       "      <th>b0793</th>\n",
       "      <td>   3</td>\n",
       "      <td> 198</td>\n",
       "      <td>  3.154301e-02</td>\n",
       "      <td>  1.180123e-01</td>\n",
       "      <td>  1.000000e+00</td>\n",
       "    </tr>\n",
       "    <tr>\n",
       "      <th>b2290</th>\n",
       "      <td>   3</td>\n",
       "      <td> 198</td>\n",
       "      <td>  3.154301e-02</td>\n",
       "      <td>  1.180123e-01</td>\n",
       "      <td>  1.000000e+00</td>\n",
       "    </tr>\n",
       "    <tr>\n",
       "      <th>b0296</th>\n",
       "      <td>   3</td>\n",
       "      <td> 198</td>\n",
       "      <td>  3.154301e-02</td>\n",
       "      <td>  1.180123e-01</td>\n",
       "      <td>  1.000000e+00</td>\n",
       "    </tr>\n",
       "    <tr>\n",
       "      <th>b2552</th>\n",
       "      <td>   3</td>\n",
       "      <td> 198</td>\n",
       "      <td>  3.154301e-02</td>\n",
       "      <td>  1.180123e-01</td>\n",
       "      <td>  1.000000e+00</td>\n",
       "    </tr>\n",
       "    <tr>\n",
       "      <th>b1473</th>\n",
       "      <td>   3</td>\n",
       "      <td> 198</td>\n",
       "      <td>  3.154301e-02</td>\n",
       "      <td>  1.180123e-01</td>\n",
       "      <td>  1.000000e+00</td>\n",
       "    </tr>\n",
       "    <tr>\n",
       "      <th>b3237</th>\n",
       "      <td>   3</td>\n",
       "      <td> 198</td>\n",
       "      <td>  3.154301e-02</td>\n",
       "      <td>  1.180123e-01</td>\n",
       "      <td>  1.000000e+00</td>\n",
       "    </tr>\n",
       "    <tr>\n",
       "      <th>b3478</th>\n",
       "      <td>   3</td>\n",
       "      <td> 198</td>\n",
       "      <td>  3.154301e-02</td>\n",
       "      <td>  1.180123e-01</td>\n",
       "      <td>  1.000000e+00</td>\n",
       "    </tr>\n",
       "    <tr>\n",
       "      <th>b0450</th>\n",
       "      <td>   3</td>\n",
       "      <td> 198</td>\n",
       "      <td>  3.154301e-02</td>\n",
       "      <td>  1.180123e-01</td>\n",
       "      <td>  1.000000e+00</td>\n",
       "    </tr>\n",
       "    <tr>\n",
       "      <th>b2749</th>\n",
       "      <td>   3</td>\n",
       "      <td> 198</td>\n",
       "      <td>  3.154301e-02</td>\n",
       "      <td>  1.180123e-01</td>\n",
       "      <td>  1.000000e+00</td>\n",
       "    </tr>\n",
       "    <tr>\n",
       "      <th>b2599</th>\n",
       "      <td>   3</td>\n",
       "      <td> 198</td>\n",
       "      <td>  3.154301e-02</td>\n",
       "      <td>  1.180123e-01</td>\n",
       "      <td>  1.000000e+00</td>\n",
       "    </tr>\n",
       "    <tr>\n",
       "      <th>b3715</th>\n",
       "      <td>   3</td>\n",
       "      <td> 198</td>\n",
       "      <td>  3.154301e-02</td>\n",
       "      <td>  1.180123e-01</td>\n",
       "      <td>  1.000000e+00</td>\n",
       "    </tr>\n",
       "    <tr>\n",
       "      <th>b1286</th>\n",
       "      <td>   3</td>\n",
       "      <td> 198</td>\n",
       "      <td>  3.154301e-02</td>\n",
       "      <td>  1.180123e-01</td>\n",
       "      <td>  1.000000e+00</td>\n",
       "    </tr>\n",
       "    <tr>\n",
       "      <th>b3910</th>\n",
       "      <td>   3</td>\n",
       "      <td> 198</td>\n",
       "      <td>  3.154301e-02</td>\n",
       "      <td>  1.180123e-01</td>\n",
       "      <td>  1.000000e+00</td>\n",
       "    </tr>\n",
       "    <tr>\n",
       "      <th>b1913</th>\n",
       "      <td>   3</td>\n",
       "      <td> 198</td>\n",
       "      <td>  3.154301e-02</td>\n",
       "      <td>  1.180123e-01</td>\n",
       "      <td>  1.000000e+00</td>\n",
       "    </tr>\n",
       "    <tr>\n",
       "      <th>b2817</th>\n",
       "      <td>   3</td>\n",
       "      <td> 198</td>\n",
       "      <td>  3.154301e-02</td>\n",
       "      <td>  1.180123e-01</td>\n",
       "      <td>  1.000000e+00</td>\n",
       "    </tr>\n",
       "    <tr>\n",
       "      <th>b2252</th>\n",
       "      <td>   3</td>\n",
       "      <td> 198</td>\n",
       "      <td>  3.154301e-02</td>\n",
       "      <td>  1.180123e-01</td>\n",
       "      <td>  1.000000e+00</td>\n",
       "    </tr>\n",
       "    <tr>\n",
       "      <th>b3426</th>\n",
       "      <td>   3</td>\n",
       "      <td> 198</td>\n",
       "      <td>  3.154301e-02</td>\n",
       "      <td>  1.180123e-01</td>\n",
       "      <td>  1.000000e+00</td>\n",
       "    </tr>\n",
       "    <tr>\n",
       "      <th>b3666</th>\n",
       "      <td>   3</td>\n",
       "      <td> 198</td>\n",
       "      <td>  3.154301e-02</td>\n",
       "      <td>  1.180123e-01</td>\n",
       "      <td>  1.000000e+00</td>\n",
       "    </tr>\n",
       "    <tr>\n",
       "      <th>b3954</th>\n",
       "      <td>   3</td>\n",
       "      <td> 198</td>\n",
       "      <td>  3.154301e-02</td>\n",
       "      <td>  1.180123e-01</td>\n",
       "      <td>  1.000000e+00</td>\n",
       "    </tr>\n",
       "  </tbody>\n",
       "</table>\n",
       "<p>259 rows × 5 columns</p>\n",
       "</div>"
      ],
      "text/plain": [
       "       counts  all_counts           pval        qval_BH  qval_bonferroni\n",
       "b0032     198         198   0.000000e+00   0.000000e+00     0.000000e+00\n",
       "b0033     173         198   0.000000e+00   0.000000e+00     0.000000e+00\n",
       "b4245     169         198   0.000000e+00   0.000000e+00     0.000000e+00\n",
       "b4244     167         198   0.000000e+00   0.000000e+00     0.000000e+00\n",
       "b0337     154         198   0.000000e+00   0.000000e+00     0.000000e+00\n",
       "b0336     153         198   0.000000e+00   0.000000e+00     0.000000e+00\n",
       "b1062     152         198   0.000000e+00   0.000000e+00     0.000000e+00\n",
       "b2476     142         198  3.783051e-300  4.073085e-298    3.665776e-297\n",
       "b2499     142         198  3.783051e-300  4.073085e-298    3.665776e-297\n",
       "b2312     141         198  5.664712e-297  4.574255e-295    5.489106e-294\n",
       "b2313     141         198  5.664712e-297  4.574255e-295    5.489106e-294\n",
       "b2557     141         198  5.664712e-297  4.574255e-295    5.489106e-294\n",
       "b0522     138         198  1.477589e-287  1.101372e-285    1.431783e-284\n",
       "b1849     136         198  2.280977e-281  1.578762e-279    2.210267e-278\n",
       "b4006     132         198  3.382871e-269  2.185335e-267    3.278002e-266\n",
       "b0523     129         198  3.043903e-260  1.843464e-258    2.949542e-257\n",
       "b3654     128         198  2.728256e-257  1.555106e-255    2.643680e-254\n",
       "b4246     126         198  1.964952e-251  1.057799e-249    1.904038e-248\n",
       "b2500     122         198  6.646122e-240  3.389522e-238    6.440093e-237\n",
       "b2497     112         198  4.061863e-212  1.967973e-210    3.935945e-209\n",
       "b4064     102         198  9.823972e-186  4.533061e-184    9.519429e-183\n",
       "b0945      96         198  1.511792e-170  6.658758e-169    1.464927e-167\n",
       "b4005      89         198  2.020583e-153  8.512805e-152    1.957945e-150\n",
       "b3941      58         198   3.940658e-85   1.591041e-83     3.818498e-82\n",
       "b3359      57         198   3.886443e-83   1.448447e-81     3.765963e-80\n",
       "b3829      57         198   3.886443e-83   1.448447e-81     3.765963e-80\n",
       "b4024      56         198   3.714681e-81   1.333158e-79     3.599526e-78\n",
       "b0908      55         198   3.440262e-79   1.149522e-77     3.333614e-76\n",
       "b3774      55         198   3.440262e-79   1.149522e-77     3.333614e-76\n",
       "b3008      54         198   3.086539e-77   9.647922e-76     2.990856e-74\n",
       "...       ...         ...            ...            ...              ...\n",
       "b1603       3         198   3.154301e-02   1.180123e-01     1.000000e+00\n",
       "b0537       3         198   3.154301e-02   1.180123e-01     1.000000e+00\n",
       "b0070       3         198   3.154301e-02   1.180123e-01     1.000000e+00\n",
       "b3574       3         198   3.154301e-02   1.180123e-01     1.000000e+00\n",
       "b2000       3         198   3.154301e-02   1.180123e-01     1.000000e+00\n",
       "b1247       3         198   3.154301e-02   1.180123e-01     1.000000e+00\n",
       "b0854       3         198   3.154301e-02   1.180123e-01     1.000000e+00\n",
       "b0862       3         198   3.154301e-02   1.180123e-01     1.000000e+00\n",
       "b2255       3         198   3.154301e-02   1.180123e-01     1.000000e+00\n",
       "b2924       3         198   3.154301e-02   1.180123e-01     1.000000e+00\n",
       "b2018       3         198   3.154301e-02   1.180123e-01     1.000000e+00\n",
       "b0793       3         198   3.154301e-02   1.180123e-01     1.000000e+00\n",
       "b2290       3         198   3.154301e-02   1.180123e-01     1.000000e+00\n",
       "b0296       3         198   3.154301e-02   1.180123e-01     1.000000e+00\n",
       "b2552       3         198   3.154301e-02   1.180123e-01     1.000000e+00\n",
       "b1473       3         198   3.154301e-02   1.180123e-01     1.000000e+00\n",
       "b3237       3         198   3.154301e-02   1.180123e-01     1.000000e+00\n",
       "b3478       3         198   3.154301e-02   1.180123e-01     1.000000e+00\n",
       "b0450       3         198   3.154301e-02   1.180123e-01     1.000000e+00\n",
       "b2749       3         198   3.154301e-02   1.180123e-01     1.000000e+00\n",
       "b2599       3         198   3.154301e-02   1.180123e-01     1.000000e+00\n",
       "b3715       3         198   3.154301e-02   1.180123e-01     1.000000e+00\n",
       "b1286       3         198   3.154301e-02   1.180123e-01     1.000000e+00\n",
       "b3910       3         198   3.154301e-02   1.180123e-01     1.000000e+00\n",
       "b1913       3         198   3.154301e-02   1.180123e-01     1.000000e+00\n",
       "b2817       3         198   3.154301e-02   1.180123e-01     1.000000e+00\n",
       "b2252       3         198   3.154301e-02   1.180123e-01     1.000000e+00\n",
       "b3426       3         198   3.154301e-02   1.180123e-01     1.000000e+00\n",
       "b3666       3         198   3.154301e-02   1.180123e-01     1.000000e+00\n",
       "b3954       3         198   3.154301e-02   1.180123e-01     1.000000e+00\n",
       "\n",
       "[259 rows x 5 columns]"
      ]
     },
     "execution_count": 11,
     "metadata": {},
     "output_type": "execute_result"
    }
   ],
   "source": [
    "carA_genes"
   ]
  },
  {
   "cell_type": "markdown",
   "metadata": {},
   "source": [
    "There are several things to note in this query.\n",
    "\n",
    "First the arguments:\n",
    "- `x` specfies the query. This can be gene(s), condition(s), GRE(s), or bicluster(s). `x` can be a single entity or a list of entitites of the same type. \n",
    "- `x_type` indicates the type of `x`. This can include gene, condition, gres, and biclusters. Basically: what is x? The parameter typing is pretty flexible, so - for example - `rows` can be used instead of `genes`.\n",
    "- `y_type` is the type of. Again, genes, conditions, gres, or biclusters. \n",
    "- `host` specifies where the MongoDB database is running. In this case it is running on a machine called `primordial` (my box). If you are hosting the database locally this would be `localhost`\n",
    "- `db` is the name of the database you want to perform the query in. Typically databases are specified by the three letter organism code (e.g., **eco**) followed by **_db**. \n",
    "\n",
    "Also note the output:\n",
    "\n",
    "This is a table of all genes that are frequently co-discovered in biclusters with b0032 (carA). They are sorted by their relative \"enrichment\" in the sample `x` (where lower pval = greater enrichment). This is quantified by the hypergeometric distribution. To account for multiple testing, two corrections are  included: Benjamini-Hochber correction (`qval_BH`; less stringent) and Bonferrnoni correction (`qval_bonferroni`; more stringent). \n",
    "    "
   ]
  },
  {
   "cell_type": "markdown",
   "metadata": {},
   "source": [
    "We can easily change the format of `x`, which makes it easy to specify genes in any format. Let's try to include a list of genes with two different naming formats. This time we will only return the first few elements using `.head()`"
   ]
  },
  {
   "cell_type": "code",
   "execution_count": 6,
   "metadata": {
    "collapsed": false
   },
   "outputs": [
    {
     "data": {
      "text/html": [
       "<div style=\"max-height:1000px;max-width:1500px;overflow:auto;\">\n",
       "<table border=\"1\" class=\"dataframe\">\n",
       "  <thead>\n",
       "    <tr style=\"text-align: right;\">\n",
       "      <th></th>\n",
       "      <th>counts</th>\n",
       "      <th>all_counts</th>\n",
       "      <th>pval</th>\n",
       "      <th>qval_BH</th>\n",
       "      <th>qval_bonferroni</th>\n",
       "    </tr>\n",
       "  </thead>\n",
       "  <tbody>\n",
       "    <tr>\n",
       "      <th>b4244</th>\n",
       "      <td> 179</td>\n",
       "      <td> 198</td>\n",
       "      <td> 0</td>\n",
       "      <td> 0</td>\n",
       "      <td> 0</td>\n",
       "    </tr>\n",
       "    <tr>\n",
       "      <th>b0033</th>\n",
       "      <td> 180</td>\n",
       "      <td> 198</td>\n",
       "      <td> 0</td>\n",
       "      <td> 0</td>\n",
       "      <td> 0</td>\n",
       "    </tr>\n",
       "    <tr>\n",
       "      <th>b4245</th>\n",
       "      <td> 185</td>\n",
       "      <td> 198</td>\n",
       "      <td> 0</td>\n",
       "      <td> 0</td>\n",
       "      <td> 0</td>\n",
       "    </tr>\n",
       "    <tr>\n",
       "      <th>b0031</th>\n",
       "      <td> 198</td>\n",
       "      <td> 198</td>\n",
       "      <td> 0</td>\n",
       "      <td> 0</td>\n",
       "      <td> 0</td>\n",
       "    </tr>\n",
       "    <tr>\n",
       "      <th>b4246</th>\n",
       "      <td> 198</td>\n",
       "      <td> 198</td>\n",
       "      <td> 0</td>\n",
       "      <td> 0</td>\n",
       "      <td> 0</td>\n",
       "    </tr>\n",
       "  </tbody>\n",
       "</table>\n",
       "<p>5 rows × 5 columns</p>\n",
       "</div>"
      ],
      "text/plain": [
       "       counts  all_counts  pval  qval_BH  qval_bonferroni\n",
       "b4244     179         198     0        0                0\n",
       "b0033     180         198     0        0                0\n",
       "b4245     185         198     0        0                0\n",
       "b0031     198         198     0        0                0\n",
       "b4246     198         198     0        0                0\n",
       "\n",
       "[5 rows x 5 columns]"
      ]
     },
     "execution_count": 6,
     "metadata": {},
     "output_type": "execute_result"
    }
   ],
   "source": [
    "e2q.agglom(db, x=[\"b0032\",\"pyrL\",\"b0031\"], x_type=\"genes\", y_type=\"genes\").head()"
   ]
  },
  {
   "cell_type": "markdown",
   "metadata": {},
   "source": [
    "The lookup table is pretty extensive for genes (it comes from MicrobesOnline) so anything from common name to GI number can be matched. Cool, huh?"
   ]
  },
  {
   "cell_type": "markdown",
   "metadata": {},
   "source": [
    "You can also specify the type of logic to use in grouping your query. For example, do you want do find biclusters where all genes `x` in your query are present (`and` logic) or biclusters where at least one of the genes is present (`or` logic). You can change the logical grouping of your query by specifying the `logic` parameter. This parameter can take one of three values: `and`, `or`, or `nor`. By default the command uses `and` logic. "
   ]
  },
  {
   "cell_type": "markdown",
   "metadata": {},
   "source": [
    "Here we change the logic employed in the previous query. Notice how the values change."
   ]
  },
  {
   "cell_type": "code",
   "execution_count": 8,
   "metadata": {
    "collapsed": false
   },
   "outputs": [
    {
     "data": {
      "text/html": [
       "<div style=\"max-height:1000px;max-width:1500px;overflow:auto;\">\n",
       "<table border=\"1\" class=\"dataframe\">\n",
       "  <thead>\n",
       "    <tr style=\"text-align: right;\">\n",
       "      <th></th>\n",
       "      <th>counts</th>\n",
       "      <th>all_counts</th>\n",
       "      <th>pval</th>\n",
       "      <th>qval_BH</th>\n",
       "      <th>qval_bonferroni</th>\n",
       "    </tr>\n",
       "  </thead>\n",
       "  <tbody>\n",
       "    <tr>\n",
       "      <th>b4244</th>\n",
       "      <td> 179</td>\n",
       "      <td> 198</td>\n",
       "      <td> 0</td>\n",
       "      <td> 0</td>\n",
       "      <td> 0</td>\n",
       "    </tr>\n",
       "    <tr>\n",
       "      <th>b0033</th>\n",
       "      <td> 180</td>\n",
       "      <td> 198</td>\n",
       "      <td> 0</td>\n",
       "      <td> 0</td>\n",
       "      <td> 0</td>\n",
       "    </tr>\n",
       "    <tr>\n",
       "      <th>b4245</th>\n",
       "      <td> 185</td>\n",
       "      <td> 198</td>\n",
       "      <td> 0</td>\n",
       "      <td> 0</td>\n",
       "      <td> 0</td>\n",
       "    </tr>\n",
       "    <tr>\n",
       "      <th>b0031</th>\n",
       "      <td> 198</td>\n",
       "      <td> 198</td>\n",
       "      <td> 0</td>\n",
       "      <td> 0</td>\n",
       "      <td> 0</td>\n",
       "    </tr>\n",
       "    <tr>\n",
       "      <th>b4246</th>\n",
       "      <td> 198</td>\n",
       "      <td> 198</td>\n",
       "      <td> 0</td>\n",
       "      <td> 0</td>\n",
       "      <td> 0</td>\n",
       "    </tr>\n",
       "  </tbody>\n",
       "</table>\n",
       "<p>5 rows × 5 columns</p>\n",
       "</div>"
      ],
      "text/plain": [
       "       counts  all_counts  pval  qval_BH  qval_bonferroni\n",
       "b4244     179         198     0        0                0\n",
       "b0033     180         198     0        0                0\n",
       "b4245     185         198     0        0                0\n",
       "b0031     198         198     0        0                0\n",
       "b4246     198         198     0        0                0\n",
       "\n",
       "[5 rows x 5 columns]"
      ]
     },
     "execution_count": 8,
     "metadata": {},
     "output_type": "execute_result"
    }
   ],
   "source": [
    "e2q.agglom(db, x=[\"b0032\",\"pyrL\",\"b0031\"], x_type=\"genes\", y_type=\"genes\", logic=\"or\").head()"
   ]
  },
  {
   "cell_type": "markdown",
   "metadata": {},
   "source": [
    "Logical operations can provide a substantial amount of power to your queries. For example, imagine that you not only want to know when *b0032*, *pyrL*, and *b0031* are co-regulated **but also when they are not**. This can be done using the logical operator `nor`."
   ]
  },
  {
   "cell_type": "markdown",
   "metadata": {},
   "source": [
    "First we query for conditions where they are co-regulated:"
   ]
  },
  {
   "cell_type": "code",
   "execution_count": 9,
   "metadata": {
    "collapsed": false
   },
   "outputs": [
    {
     "data": {
      "text/html": [
       "<div style=\"max-height:1000px;max-width:1500px;overflow:auto;\">\n",
       "<table border=\"1\" class=\"dataframe\">\n",
       "  <thead>\n",
       "    <tr style=\"text-align: right;\">\n",
       "      <th></th>\n",
       "      <th>counts</th>\n",
       "      <th>all_counts</th>\n",
       "      <th>pval</th>\n",
       "      <th>qval_BH</th>\n",
       "      <th>qval_bonferroni</th>\n",
       "    </tr>\n",
       "  </thead>\n",
       "  <tbody>\n",
       "    <tr>\n",
       "      <th>rb_del_rpoS_biofilm</th>\n",
       "      <td> 240</td>\n",
       "      <td> 12921</td>\n",
       "      <td> 2.849586e-13</td>\n",
       "      <td> 7.228851e-11</td>\n",
       "      <td> 1.327907e-10</td>\n",
       "    </tr>\n",
       "    <tr>\n",
       "      <th>biofilm_24hr_del_yceP</th>\n",
       "      <td> 239</td>\n",
       "      <td> 12879</td>\n",
       "      <td> 3.889790e-13</td>\n",
       "      <td> 7.228851e-11</td>\n",
       "      <td> 1.812642e-10</td>\n",
       "    </tr>\n",
       "    <tr>\n",
       "      <th>ik_H2_T4</th>\n",
       "      <td> 232</td>\n",
       "      <td> 12380</td>\n",
       "      <td> 4.653767e-13</td>\n",
       "      <td> 7.228851e-11</td>\n",
       "      <td> 2.168655e-10</td>\n",
       "    </tr>\n",
       "    <tr>\n",
       "      <th>MG1063_uninduced_t180</th>\n",
       "      <td> 232</td>\n",
       "      <td> 12543</td>\n",
       "      <td> 2.190004e-12</td>\n",
       "      <td> 2.551355e-10</td>\n",
       "      <td> 1.020542e-09</td>\n",
       "    </tr>\n",
       "    <tr>\n",
       "      <th>rb_del_rpoS_exponential</th>\n",
       "      <td> 226</td>\n",
       "      <td> 12198</td>\n",
       "      <td> 5.366065e-12</td>\n",
       "      <td> 5.001173e-10</td>\n",
       "      <td> 2.500586e-09</td>\n",
       "    </tr>\n",
       "  </tbody>\n",
       "</table>\n",
       "<p>5 rows × 5 columns</p>\n",
       "</div>"
      ],
      "text/plain": [
       "                         counts  all_counts          pval       qval_BH  \\\n",
       "rb_del_rpoS_biofilm         240       12921  2.849586e-13  7.228851e-11   \n",
       "biofilm_24hr_del_yceP       239       12879  3.889790e-13  7.228851e-11   \n",
       "ik_H2_T4                    232       12380  4.653767e-13  7.228851e-11   \n",
       "MG1063_uninduced_t180       232       12543  2.190004e-12  2.551355e-10   \n",
       "rb_del_rpoS_exponential     226       12198  5.366065e-12  5.001173e-10   \n",
       "\n",
       "                         qval_bonferroni  \n",
       "rb_del_rpoS_biofilm         1.327907e-10  \n",
       "biofilm_24hr_del_yceP       1.812642e-10  \n",
       "ik_H2_T4                    2.168655e-10  \n",
       "MG1063_uninduced_t180       1.020542e-09  \n",
       "rb_del_rpoS_exponential     2.500586e-09  \n",
       "\n",
       "[5 rows x 5 columns]"
      ]
     },
     "execution_count": 9,
     "metadata": {},
     "output_type": "execute_result"
    }
   ],
   "source": [
    "e2q.agglom(db, x=[\"b0032\",\"pyrL\",\"b0031\"], x_type=\"genes\", y_type=\"conditions\", logic=\"or\").head()"
   ]
  },
  {
   "cell_type": "markdown",
   "metadata": {},
   "source": [
    "Now we can compare these conditions to conditions that are exluded from biclusters where at least one of the genes is present:"
   ]
  },
  {
   "cell_type": "code",
   "execution_count": 10,
   "metadata": {
    "collapsed": false
   },
   "outputs": [
    {
     "data": {
      "text/html": [
       "<div style=\"max-height:1000px;max-width:1500px;overflow:auto;\">\n",
       "<table border=\"1\" class=\"dataframe\">\n",
       "  <thead>\n",
       "    <tr style=\"text-align: right;\">\n",
       "      <th></th>\n",
       "      <th>counts</th>\n",
       "      <th>all_counts</th>\n",
       "      <th>pval</th>\n",
       "      <th>qval_BH</th>\n",
       "      <th>qval_bonferroni</th>\n",
       "    </tr>\n",
       "  </thead>\n",
       "  <tbody>\n",
       "    <tr>\n",
       "      <th>har_S0_R_noIPTG</th>\n",
       "      <td> 12933</td>\n",
       "      <td> 13045</td>\n",
       "      <td> 2.442307e-09</td>\n",
       "      <td> 0.000001</td>\n",
       "      <td> 0.000001</td>\n",
       "    </tr>\n",
       "    <tr>\n",
       "      <th>MOPS_K_dps_stationary2</th>\n",
       "      <td> 10149</td>\n",
       "      <td> 10230</td>\n",
       "      <td> 5.916970e-09</td>\n",
       "      <td> 0.000001</td>\n",
       "      <td> 0.000003</td>\n",
       "    </tr>\n",
       "    <tr>\n",
       "      <th>BW25113_K_tnaA_30C_biofilm_indole_control</th>\n",
       "      <td> 11308</td>\n",
       "      <td> 11403</td>\n",
       "      <td> 9.537266e-09</td>\n",
       "      <td> 0.000001</td>\n",
       "      <td> 0.000004</td>\n",
       "    </tr>\n",
       "    <tr>\n",
       "      <th>MG1655_kanamycin_t60</th>\n",
       "      <td> 11240</td>\n",
       "      <td> 11337</td>\n",
       "      <td> 5.362424e-08</td>\n",
       "      <td> 0.000006</td>\n",
       "      <td> 0.000025</td>\n",
       "    </tr>\n",
       "    <tr>\n",
       "      <th>dilution_t3</th>\n",
       "      <td> 12110</td>\n",
       "      <td> 12219</td>\n",
       "      <td> 1.446307e-07</td>\n",
       "      <td> 0.000013</td>\n",
       "      <td> 0.000067</td>\n",
       "    </tr>\n",
       "  </tbody>\n",
       "</table>\n",
       "<p>5 rows × 5 columns</p>\n",
       "</div>"
      ],
      "text/plain": [
       "                                           counts  all_counts          pval  \\\n",
       "har_S0_R_noIPTG                             12933       13045  2.442307e-09   \n",
       "MOPS_K_dps_stationary2                      10149       10230  5.916970e-09   \n",
       "BW25113_K_tnaA_30C_biofilm_indole_control   11308       11403  9.537266e-09   \n",
       "MG1655_kanamycin_t60                        11240       11337  5.362424e-08   \n",
       "dilution_t3                                 12110       12219  1.446307e-07   \n",
       "\n",
       "                                            qval_BH  qval_bonferroni  \n",
       "har_S0_R_noIPTG                            0.000001         0.000001  \n",
       "MOPS_K_dps_stationary2                     0.000001         0.000003  \n",
       "BW25113_K_tnaA_30C_biofilm_indole_control  0.000001         0.000004  \n",
       "MG1655_kanamycin_t60                       0.000006         0.000025  \n",
       "dilution_t3                                0.000013         0.000067  \n",
       "\n",
       "[5 rows x 5 columns]"
      ]
     },
     "execution_count": 10,
     "metadata": {},
     "output_type": "execute_result"
    }
   ],
   "source": [
    "e2q.agglom(db, x=[\"b0032\",\"pyrL\",\"b0031\"], x_type=\"genes\", y_type= \"conditions\", logic=\"nor\").head()"
   ]
  },
  {
   "cell_type": "markdown",
   "metadata": {},
   "source": [
    "Understanding condition-specific co-regulation of gene modules is what EGRIN **2.0** is all about. Because MongoDB allows for flexible document structures, we've included options for rich experimental annotation. Providing details about what is going on in an experiment (metainformation) provides an additional layer of inquiry (and hopefully insight). In the next few examples, I  demonstrate how you might use the experimental annotations in interesting ways."
   ]
  },
  {
   "cell_type": "markdown",
   "metadata": {},
   "source": [
    "First, let's get an idea for what these experimental annotations might look like. Let's use the condition called `rb_del_rpoS_biofilm` that came up as a condition where *b0032*, *pyrL*, and *b0031* are co-regulated."
   ]
  },
  {
   "cell_type": "markdown",
   "metadata": {},
   "source": [
    "To do this we need to connect to the database."
   ]
  },
  {
   "cell_type": "code",
   "execution_count": 13,
   "metadata": {
    "collapsed": false
   },
   "outputs": [],
   "source": [
    "client = pymongo.MongoClient(host=\"localhost\", port=27017 )"
   ]
  },
  {
   "cell_type": "markdown",
   "metadata": {},
   "source": [
    "Now we can query the `col_info` collection in our database. Here I am just returning the field called `additional_info`, which is where we store all of the optional annotations. These annotations come directly from the M3D database. The full databse schema is available for your reference on the [wiki](https://github.com/scalefreegan/egrin2-tools/wiki/Database-Schema)."
   ]
  },
  {
   "cell_type": "code",
   "execution_count": 14,
   "metadata": {
    "collapsed": false
   },
   "outputs": [
    {
     "data": {
      "text/plain": [
       "{u'additional_info': [{u'name': u'aeration',\n",
       "   u'units': nan,\n",
       "   u'value': u'assumed_anaerobic'},\n",
       "  {u'name': u'ammonium_chloride', u'units': u'mM', u'value': u'9.52'},\n",
       "  {u'name': u'ammonium_molybdate', u'units': u'mM', u'value': u'0.00000291'},\n",
       "  {u'name': u'boric_acid', u'units': u'mM', u'value': u'0.000401'},\n",
       "  {u'name': u'calcium_chloride', u'units': u'mM', u'value': u'0.0005'},\n",
       "  {u'name': u'cobalt_chloride', u'units': u'mM', u'value': u'0.0000303'},\n",
       "  {u'name': u'culture_temperature', u'units': u'Celsius', u'value': u'37'},\n",
       "  {u'name': u'culture_type', u'units': nan, u'value': u'fed_batch'},\n",
       "  {u'name': u'culture_vessel', u'units': nan, u'value': u'flow cell'},\n",
       "  {u'name': u'cupric_sulfate', u'units': u'mM', u'value': u'0.00000961'},\n",
       "  {u'name': u'experimenter', u'units': nan, u'value': u'Ito A'},\n",
       "  {u'name': u'ferrous_sulfate', u'units': u'mM', u'value': u'0.01'},\n",
       "  {u'name': u'glucose', u'units': u'mM', u'value': u'11.1'},\n",
       "  {u'name': u'growth_phase', u'units': nan, u'value': u'biofilm'},\n",
       "  {u'name': u'magnesium_chloride', u'units': u'mM', u'value': u'0.525'},\n",
       "  {u'name': u'manganese(II)_chloride',\n",
       "   u'units': u'mM',\n",
       "   u'value': u'0.0000808'},\n",
       "  {u'name': u'MOPS', u'units': u'mM', u'value': u'40'},\n",
       "  {u'name': u'note',\n",
       "   u'units': nan,\n",
       "   u'value': u'channel dimensions: 1x4x40 mm, medium pumped thru at 0.25 mL/min, samples taken at 72 hrs'},\n",
       "  {u'name': u'perturbation', u'units': nan, u'value': u'knockout'},\n",
       "  {u'name': u'perturbation_gene', u'units': nan, u'value': u'rpoS'},\n",
       "  {u'name': u'potassium_phosphate_monobasic',\n",
       "   u'units': u'mM',\n",
       "   u'value': u'1.32'},\n",
       "  {u'name': u'potassium_sulfate', u'units': u'mM', u'value': u'0.276'},\n",
       "  {u'name': u'RNA_prep_type', u'units': nan, u'value': u'RNeasy'},\n",
       "  {u'name': u'RNA_stop_solution', u'units': nan, u'value': u'RNAprotect'},\n",
       "  {u'name': u'sodium_chloride', u'units': u'mM', u'value': u'50'},\n",
       "  {u'name': u'strain', u'units': nan, u'value': u'MG1655 del rpoS'},\n",
       "  {u'name': u'structured_metadata', u'units': nan, u'value': u'complete'},\n",
       "  {u'name': u'thiamine_HCl', u'units': u'mM', u'value': u'0.2964'},\n",
       "  {u'name': u'tricine', u'units': u'mM', u'value': u'4'},\n",
       "  {u'name': u'zinc_sulfate', u'units': u'mM', u'value': u'0.00000974'}]}"
      ]
     },
     "execution_count": 14,
     "metadata": {},
     "output_type": "execute_result"
    }
   ],
   "source": [
    "client[\"eco_db\"].col_info.find_one({\"egrin2_col_name\": \"rb_del_rpoS_biofilm\"}, {\"_id\": 0, \"additional_info\": 1})"
   ]
  },
  {
   "cell_type": "markdown",
   "metadata": {},
   "source": [
    "Notice that each optional annotation has `name`, `units`, and `value` fields. We can take advatage of this information and the nice query features of MongoDB to compose more powerful queries. "
   ]
  },
  {
   "cell_type": "markdown",
   "metadata": {},
   "source": [
    "For example, you might have noticed in our original query that several conditions with `biofilm` in their titles came up. Maybe our genes play some role in biofilm-related processes? Let's see if we can return all genes that are co-regulated in conditions where `growth_phase` is `biofim`. "
   ]
  },
  {
   "cell_type": "markdown",
   "metadata": {},
   "source": [
    "To do that we need to retrieve all of the conditions where `growth_phase` is `biofilm`. "
   ]
  },
  {
   "cell_type": "code",
   "execution_count": 17,
   "metadata": {
    "collapsed": false
   },
   "outputs": [],
   "source": [
    "biofilm_conds = pd.DataFrame(list(client[\"eco_db\"].col_info.find({\"additional_info.name\": \"growth_phase\", \"additional_info.value\": \"biofilm\"}, {\"_id\": 0, \"egrin2_col_name\": 1})))"
   ]
  },
  {
   "cell_type": "code",
   "execution_count": 18,
   "metadata": {
    "collapsed": false
   },
   "outputs": [
    {
     "name": "stdout",
     "output_type": "stream",
     "text": [
      "         egrin2_col_name\n",
      "0         biofilm_K_yceP\n",
      "1  biofilm_K_yceP_indole\n",
      "2     biofilm_wt_glucose\n",
      "3         biofilm_K_trpE\n",
      "4         biofilm_K_tnaA\n",
      "\n",
      "[5 rows x 1 columns]\n"
     ]
    }
   ],
   "source": [
    "print biofilm_conds.head()"
   ]
  },
  {
   "cell_type": "code",
   "execution_count": 19,
   "metadata": {
    "collapsed": false
   },
   "outputs": [
    {
     "data": {
      "text/plain": [
       "egrin2_col_name    46\n",
       "dtype: int64"
      ]
     },
     "execution_count": 19,
     "metadata": {},
     "output_type": "execute_result"
    }
   ],
   "source": [
    "biofilm_conds.count()"
   ]
  },
  {
   "cell_type": "markdown",
   "metadata": {},
   "source": [
    "There are 46 conditions annotated as `biofilm`. Just for fun, let's say we wanted restrict these conditions to those where the strain used was *E. coli* K-12 MG1655. "
   ]
  },
  {
   "cell_type": "code",
   "execution_count": 20,
   "metadata": {
    "collapsed": false
   },
   "outputs": [],
   "source": [
    "biofilm_conds_MG1655 = pd.DataFrame(list(client[\"eco_db\"].col_info.find({\"$and\": [{\"additional_info.name\": \"strain\", \"additional_info.value\": {\"$regex\": \"MG1655\" } }, { \"additional_info.name\": \"growth_phase\", \"additional_info.value\": \"biofilm\"}]}, {\"_id\":0, \"egrin2_col_name\": 1})))"
   ]
  },
  {
   "cell_type": "code",
   "execution_count": 75,
   "metadata": {
    "collapsed": false
   },
   "outputs": [
    {
     "data": {
      "text/html": [
       "<div style=\"max-height:1000px;max-width:1500px;overflow:auto;\">\n",
       "<table border=\"1\" class=\"dataframe\">\n",
       "  <thead>\n",
       "    <tr style=\"text-align: right;\">\n",
       "      <th></th>\n",
       "      <th>egrin2_col_name</th>\n",
       "    </tr>\n",
       "  </thead>\n",
       "  <tbody>\n",
       "    <tr>\n",
       "      <th>0</th>\n",
       "      <td>         MG1655_wt_24hr_biofilm</td>\n",
       "    </tr>\n",
       "    <tr>\n",
       "      <th>1</th>\n",
       "      <td> MG1655_wt_R1drd19_24hr_biofilm</td>\n",
       "    </tr>\n",
       "    <tr>\n",
       "      <th>2</th>\n",
       "      <td>            rb_del_rpoS_biofilm</td>\n",
       "    </tr>\n",
       "    <tr>\n",
       "      <th>3</th>\n",
       "      <td>                  rb_wt_biofilm</td>\n",
       "    </tr>\n",
       "    <tr>\n",
       "      <th>4</th>\n",
       "      <td>       bform_biofilm_attachment</td>\n",
       "    </tr>\n",
       "  </tbody>\n",
       "</table>\n",
       "</div>"
      ],
      "text/plain": [
       "                  egrin2_col_name\n",
       "0          MG1655_wt_24hr_biofilm\n",
       "1  MG1655_wt_R1drd19_24hr_biofilm\n",
       "2             rb_del_rpoS_biofilm\n",
       "3                   rb_wt_biofilm\n",
       "4        bform_biofilm_attachment"
      ]
     },
     "execution_count": 75,
     "metadata": {},
     "output_type": "execute_result"
    }
   ],
   "source": [
    "biofilm_conds_MG1655.head()"
   ]
  },
  {
   "cell_type": "code",
   "execution_count": 21,
   "metadata": {
    "collapsed": false
   },
   "outputs": [
    {
     "data": {
      "text/plain": [
       "egrin2_col_name    11\n",
       "dtype: int64"
      ]
     },
     "execution_count": 21,
     "metadata": {},
     "output_type": "execute_result"
    }
   ],
   "source": [
    "biofilm_conds_MG1655.count()"
   ]
  },
  {
   "cell_type": "markdown",
   "metadata": {},
   "source": [
    "You can see that these 11 are a subset of the 46 originally returned. This query highlights some features of MongoDB queries. Here we've used a regular expression to find documents where the `strain` annotation contained the values `\"MG1655\"`. You can also find documents by value comparisons (e.g. equalities/inequalities). The document searching capabilities of MongoDB are pretty extensive. You can learn more about query operators in MongoDB [here](http://docs.mongodb.org/manual/reference/operator/query/). "
   ]
  },
  {
   "cell_type": "markdown",
   "metadata": {},
   "source": [
    "Now we can find the genes that are co-regulated in the 11 experiments where the `growth phase` was `biofilm`. Here I will use the `and` logical operator, which would be the most stringent criteria (i.e. all conditions must be present in the bicluster)."
   ]
  },
  {
   "cell_type": "code",
   "execution_count": 23,
   "metadata": {
    "collapsed": false
   },
   "outputs": [],
   "source": [
    "biofilm_genes = e2q.agglom(db, x=biofilm_conds_MG1655.egrin2_col_name.tolist(), x_type=\"conditions\", y_type=\"genes\", logic=\"and\")"
   ]
  },
  {
   "cell_type": "code",
   "execution_count": 24,
   "metadata": {
    "collapsed": false
   },
   "outputs": [
    {
     "name": "stdout",
     "output_type": "stream",
     "text": [
      "       counts  all_counts      pval   qval_BH  qval_bonferroni\n",
      "b3963       4         198  0.000005  0.001972         0.003943\n",
      "b2796       4         198  0.000005  0.001972         0.003943\n",
      "b3774       3         198  0.000116  0.002955         0.088654\n",
      "b4443       3         198  0.000116  0.002955         0.088654\n",
      "b3357       3         198  0.000116  0.002955         0.088654\n",
      "\n",
      "[5 rows x 5 columns]\n"
     ]
    }
   ],
   "source": [
    "print biofilm_genes.head()"
   ]
  },
  {
   "cell_type": "markdown",
   "metadata": {},
   "source": [
    "We can restrict this list to genes that surpass a multiple testing correction at a qval threshold of 0.05."
   ]
  },
  {
   "cell_type": "code",
   "execution_count": 25,
   "metadata": {
    "collapsed": false
   },
   "outputs": [],
   "source": [
    "biofilm_genes_sig = biofilm_genes.qval_BH[biofilm_genes.qval_BH < 0.05]"
   ]
  },
  {
   "cell_type": "code",
   "execution_count": 26,
   "metadata": {
    "collapsed": false
   },
   "outputs": [
    {
     "data": {
      "text/plain": [
       "761"
      ]
     },
     "execution_count": 26,
     "metadata": {},
     "output_type": "execute_result"
    }
   ],
   "source": [
    "biofilm_genes_sig.shape[0]"
   ]
  },
  {
   "cell_type": "markdown",
   "metadata": {},
   "source": [
    "There are 761 genes that meet our criteria. Now we can see if our genes are in this list."
   ]
  },
  {
   "cell_type": "code",
   "execution_count": 27,
   "metadata": {
    "collapsed": false
   },
   "outputs": [
    {
     "data": {
      "text/plain": [
       "True"
      ]
     },
     "execution_count": 27,
     "metadata": {},
     "output_type": "execute_result"
    }
   ],
   "source": [
    "\"b0032\" in biofilm_genes.qval_BH[biofilm_genes.qval_BH < 0.05]"
   ]
  },
  {
   "cell_type": "code",
   "execution_count": 29,
   "metadata": {
    "collapsed": false
   },
   "outputs": [
    {
     "data": {
      "text/plain": [
       "False"
      ]
     },
     "execution_count": 29,
     "metadata": {},
     "output_type": "execute_result"
    }
   ],
   "source": [
    "e2q.row2id_batch(db, [\"pyrL\"], return_field = \"egrin2_row_name\")[0] in biofilm_genes.qval_BH[biofilm_genes.qval_BH < 0.05]"
   ]
  },
  {
   "cell_type": "code",
   "execution_count": 30,
   "metadata": {
    "collapsed": false
   },
   "outputs": [
    {
     "data": {
      "text/plain": [
       "False"
      ]
     },
     "execution_count": 30,
     "metadata": {},
     "output_type": "execute_result"
    }
   ],
   "source": [
    "\"b0031\" in biofilm_genes.qval_BH[biofilm_genes.qval_BH < 0.05]"
   ]
  },
  {
   "cell_type": "markdown",
   "metadata": {},
   "source": [
    "So 1 out of 3 of our genes occur frequently in biolfim annotated conditions. Not very strong support for our hypothesis. "
   ]
  },
  {
   "cell_type": "markdown",
   "metadata": {},
   "source": [
    "In this example, however, we also see an example of name translation using the row2id_batch() function. Here we need to translate the common name *pyrL* to the name used in EGRIN 2.0, *b4246*. We did that as follows:"
   ]
  },
  {
   "cell_type": "code",
   "execution_count": 33,
   "metadata": {
    "collapsed": false
   },
   "outputs": [
    {
     "name": "stdout",
     "output_type": "stream",
     "text": [
      "b4246\n"
     ]
    }
   ],
   "source": [
    "print e2q.row2id_batch(db, [\"pyrL\"], return_field=\"egrin2_row_name\")[0]"
   ]
  },
  {
   "cell_type": "code",
   "execution_count": null,
   "metadata": {
    "collapsed": true
   },
   "outputs": [],
   "source": []
  }
 ],
 "metadata": {
  "kernelspec": {
   "display_name": "Python 2",
   "language": "python",
   "name": "python2"
  },
  "language_info": {
   "codemirror_mode": {
    "name": "ipython",
    "version": 2
   },
   "file_extension": ".py",
   "mimetype": "text/x-python",
   "name": "python",
   "nbconvert_exporter": "python",
   "pygments_lexer": "ipython2",
   "version": "2.7.6"
  }
 },
 "nbformat": 4,
 "nbformat_minor": 0
}
