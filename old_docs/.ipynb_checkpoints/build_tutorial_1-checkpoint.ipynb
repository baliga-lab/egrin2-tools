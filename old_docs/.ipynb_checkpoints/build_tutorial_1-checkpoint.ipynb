{
 "metadata": {
  "name": "",
  "signature": "sha256:b988967c39065b5896129068f9e28887367389dee4173d23dc43ae0d8dc270f7"
 },
 "nbformat": 3,
 "nbformat_minor": 0,
 "worksheets": [
  {
   "cells": [
    {
     "cell_type": "markdown",
     "metadata": {},
     "source": [
      "<div align=\"right\" vertical-align=\"middle\" style=\"border: 2px solid;border-radius: 5px;background-color:lightgrey;padding:5px;padding-right:20px;padding-left:10px;\">\n",
      "        <a style=\"color:black;text-decoration:none;\" title=\"Home\" href=\"index.ipynb\">\n",
      "            <img src=\"../css/iconmonstr-christmas-house-icon.svg\" height = \"30\" width = \"30\" style=\"display:inline\">\n",
      "        </a>\n",
      "        &nbsp;\n",
      "        <b>|</b>\n",
      "        &nbsp;\n",
      "        <a style=\"color:black;text-decoration:none;\" title=\"Build\" href=\"build.ipynb\">\n",
      "            <img src=\"../css/iconmonstr-puzzle-icon.svg\" height = \"30\" width = \"30\" style=\"display:inline\">\n",
      "        </a>\n",
      "        <a style=\"color:black;text-decoration:none;\" title=\"Assemble\" href=\"assemble.ipynb\">\n",
      "            <img src=\"../css/iconmonstr-puzzle-17-icon.svg\" height = \"30\" width = \"30\" style=\"display:inline\">\n",
      "        </a>\n",
      "        <a style=\"color:black;text-decoration:none;\" title=\"Query\" href=\"query.ipynb\">\n",
      "            <img src=\"../css/iconmonstr-flask-3-icon.svg\" height = \"30\" width = \"30\" style=\"display:inline\">\n",
      "        </a>\n",
      "</div>\n",
      "\n",
      "<h1>TUTORIAL: Build and EGRIN 2.0 Ensemble</h1>"
     ]
    },
    {
     "cell_type": "code",
     "collapsed": false,
     "input": [],
     "language": "python",
     "metadata": {},
     "outputs": []
    }
   ],
   "metadata": {}
  }
 ]
}