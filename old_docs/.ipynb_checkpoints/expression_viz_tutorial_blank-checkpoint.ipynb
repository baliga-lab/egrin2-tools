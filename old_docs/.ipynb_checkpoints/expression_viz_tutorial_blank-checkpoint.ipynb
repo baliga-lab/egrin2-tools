{
 "metadata": {
  "name": "",
  "signature": "sha256:7083a22b5c3561229dfccd8208d3c791f64fbc3e2db2352f00b1d99fe5947577"
 },
 "nbformat": 3,
 "nbformat_minor": 0,
 "worksheets": [
  {
   "cells": [
    {
     "cell_type": "code",
     "collapsed": false,
     "input": [
      "# PLOT GENE EXPRESSION\n",
      "\n",
      "# prelims\n",
      "from query.egrin2_query import *\n",
      "host = \"primordial\"\n",
      "db = \"eco_db2\"\n",
      "\n",
      "corem = 1\n",
      "# find corem genes\n",
      "corem_genes =  coremFinder(x = corem,x_type = \"corem\", y_type=\"genes\",host=host,db=db)\n",
      "# find corem conditions\n",
      "corem_conditions =  coremFinder(x = corem,x_type = \"corem\", y_type=\"conditions\", host=host, db=db)\n",
      "# get gene expression\n",
      "gene_expression = expressionFinder(rows=corem_genes,cols=corem_conditions,host=host,db=db)\n",
      "# plot\n",
      "plot = plotExpression( data = gene_expression, plot_type = \"line\", ipynb = True, sort = False )\n",
      "py.iplot( plot )"
     ],
     "language": "python",
     "metadata": {},
     "outputs": [
      {
       "html": [
        "<iframe id=\"igraph\" scrolling=\"no\" style=\"border:none;\"seamless=\"seamless\" src=\"https://plot.ly/~scalefreegan/194.embed\" height=\"525\" width=\"100%\"></iframe>"
       ],
       "metadata": {},
       "output_type": "pyout",
       "prompt_number": 2,
       "text": [
        "<plotly.tools.PlotlyDisplay at 0x7f8383ead610>"
       ]
      }
     ],
     "prompt_number": 2
    }
   ],
   "metadata": {}
  }
 ]
}