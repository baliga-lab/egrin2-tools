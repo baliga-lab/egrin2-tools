{
 "metadata": {
  "name": "",
  "signature": "sha256:13389361cc78a0bede55129164b7bdbfb2e552ec9f2732462abfc00a6d44cbf7"
 },
 "nbformat": 3,
 "nbformat_minor": 0,
 "worksheets": [
  {
   "cells": [
    {
     "cell_type": "code",
     "collapsed": false,
     "input": [
      "# PLOT GENE EXPRESSION\n",
      "\n",
      "# prelims\n",
      "from query.egrin2_query import *\n",
      "host = \"primordial\"\n",
      "db = \"mtu_db\"\n",
      "\n",
      "corem = 50\n",
      "\n",
      "# find corem genes\n",
      "corem_genes =  coremFinder(x = corem,x_type = \"corem\", y_type=\"genes\",host=host,db=db)\n",
      "# find corem conditions\n",
      "#corem_conditions =  coremFinder(x = corem,x_type = \"corem\", y_type=\"conditions\", host=host, db=db)\n",
      "# get gene expression\n",
      "gene_expression = expressionFinder(rows=corem_genes,cols=range(150),host=host,db=db)\n",
      "# plot\n",
      "plot = plotExpression( data = gene_expression, plot_type = \"boxplot\", ipynb = True, sort = False )\n",
      "py.iplot( plot )"
     ],
     "language": "python",
     "metadata": {},
     "outputs": [
      {
       "html": [
        "<iframe id=\"igraph\" scrolling=\"no\" style=\"border:none;\"seamless=\"seamless\" src=\"https://plot.ly/~scalefreegan/204.embed\" height=\"525\" width=\"100%\"></iframe>"
       ],
       "metadata": {},
       "output_type": "pyout",
       "prompt_number": 7,
       "text": [
        "<plotly.tools.PlotlyDisplay at 0x111aae590>"
       ]
      }
     ],
     "prompt_number": 7
    },
    {
     "cell_type": "code",
     "collapsed": false,
     "input": [],
     "language": "python",
     "metadata": {},
     "outputs": [],
     "prompt_number": 1
    },
    {
     "cell_type": "code",
     "collapsed": false,
     "input": [
      "print \"Hi Ning!\""
     ],
     "language": "python",
     "metadata": {},
     "outputs": [
      {
       "output_type": "stream",
       "stream": "stdout",
       "text": [
        "Hi Ning!\n"
       ]
      }
     ],
     "prompt_number": 2
    },
    {
     "cell_type": "code",
     "collapsed": false,
     "input": [],
     "language": "python",
     "metadata": {},
     "outputs": []
    }
   ],
   "metadata": {}
  }
 ]
}