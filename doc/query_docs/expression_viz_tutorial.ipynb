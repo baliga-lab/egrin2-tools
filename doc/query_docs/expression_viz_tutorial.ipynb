{
 "metadata": {
  "name": "",
  "signature": "sha256:51a392876a7cba51799b6975d2c8ce06a1d1620cebde31948701d5b46b3d90c2"
 },
 "nbformat": 3,
 "nbformat_minor": 0,
 "worksheets": [
  {
   "cells": [
    {
     "cell_type": "markdown",
     "metadata": {
      "internals": {
       "slide_type": "subslide"
      },
      "slideshow": {
       "slide_type": "slide"
      }
     },
     "source": [
      "<div align=\"right\" vertical-align=\"middle\" style=\"border: 2px solid;border-radius: 5px;background-color:lightgrey;padding:5px;padding-right:20px;padding-left:10px;\">\n",
      "        <a style=\"color:black;text-decoration:none;\" title=\"Home\" href=\"index.ipynb\">\n",
      "            <img src=\"../css/iconmonstr-christmas-house-icon.svg\" height = \"30\" width = \"30\" style=\"display:inline\">\n",
      "        </a>\n",
      "        &nbsp;\n",
      "        <b>|</b>\n",
      "        &nbsp;\n",
      "        <a style=\"color:black;text-decoration:none;\" title=\"Build\" href=\"build.ipynb\">\n",
      "            <img src=\"../css/iconmonstr-puzzle-icon.svg\" height = \"30\" width = \"30\" style=\"display:inline\">\n",
      "        </a>\n",
      "        <a style=\"color:black;text-decoration:none;\" title=\"Assemble\" href=\"assemble.ipynb\">\n",
      "            <img src=\"../css/iconmonstr-puzzle-17-icon.svg\" height = \"30\" width = \"30\" style=\"display:inline\">\n",
      "        </a>\n",
      "        <a style=\"color:black;text-decoration:none;\" title=\"Query\" href=\"query.ipynb\">\n",
      "            <img src=\"../css/iconmonstr-flask-3-icon.svg\" height = \"30\" width = \"30\" style=\"display:inline\">\n",
      "        </a>\n",
      "</div>\n",
      "\n",
      "<h1> TUTORIAL: Visualizing Basic `EGRIN 2.0` queries </h1>"
     ]
    },
    {
     "cell_type": "markdown",
     "metadata": {
      "internals": {
       "slide_helper": "subslide_end"
      },
      "slide_helper": "slide_end",
      "slideshow": {
       "slide_type": "-"
      }
     },
     "source": [
      "*In this tutorial, we will visualize gene expression resulting from basic EGRIN `2.0` queries*\n",
      "<h3> Preliminaries </h3>\n",
      "\n",
      "As described in the [System Requirements](index.ipynb), there are several dependencies that need to be satisfied to complete this tutorial, including:\n",
      "\n",
      "- pymongo\n",
      "- numpy\n",
      "- pandas\n",
      "- joblib\n",
      "- scipy\n",
      "- statsmodels\n",
      "- itertools\n",
      "\n",
      "To query the ensemble, we must first load all of the query functions."
     ]
    },
    {
     "cell_type": "code",
     "collapsed": false,
     "input": [
      "from query.egrin2_query import *"
     ],
     "language": "python",
     "metadata": {
      "internals": {
       "frag_helper": "fragment_end",
       "frag_number": 1,
       "slide_type": "subslide"
      },
      "slideshow": {
       "slide_type": "slide"
      }
     },
     "outputs": [],
     "prompt_number": 1
    },
    {
     "cell_type": "markdown",
     "metadata": {
      "internals": {},
      "slideshow": {
       "slide_type": "-"
      }
     },
     "source": [
      "We will also define the host and the database that we'd like to use. `Host` is the name of the machine hosting the `EGRIN 2.0` MongoDB while `db` is the organism-specific `EGRIN 2.0` database name to query.  "
     ]
    },
    {
     "cell_type": "code",
     "collapsed": false,
     "input": [
      "host = \"primordial\"\n",
      "db = \"eco_db2\""
     ],
     "language": "python",
     "metadata": {
      "internals": {
       "slide_helper": "subslide_end"
      },
      "slide_helper": "slide_end",
      "slideshow": {
       "slide_type": "-"
      }
     },
     "outputs": [],
     "prompt_number": 18
    },
    {
     "cell_type": "markdown",
     "metadata": {},
     "source": [
      "<h3> Basic queries </h3>\n",
      "\n",
      "<h4> STEP 1: Find genes in a corem </h4>\n",
      "\n",
      "Here we will retrieve genes and experiments in which these genes are co-regulated from a specific corem. \n",
      "\n",
      "This type of information can be retrieved using the `coremFinder` function. To call this function we need to specify:\n",
      "\n",
      "- `x`: our query\n",
      "- `x_type`: our query type. This could be corems, genes, conditions, GREs, or specific-coregulatory edges. In this case we will use `corem`.\n",
      "- `y_type`: our target type. This is the type of information we would like to retrieve. The type can be any type described by `x_type`\n",
      "\n",
      "In addition we include the `host` and `db` variables defined above."
     ]
    },
    {
     "cell_type": "code",
     "collapsed": false,
     "input": [
      "corem = 1\n",
      "corem_genes =  coremFinder(x = corem,x_type = \"corem\", y_type=\"genes\",host=host,db=db)\n",
      "corem_genes.sort()\n",
      "print \"\\nThere are %s genes in corem %s, including:\\n\"  % (len(corem_genes),corem)\n",
      "for i in corem_genes:\n",
      "    print i + \" is also called \" + row2id( i, host=host, db=db, return_field = \"name\" )"
     ],
     "language": "python",
     "metadata": {
      "internals": {
       "frag_helper": "fragment_end",
       "frag_number": 3,
       "slide_helper": "subslide_end",
       "slide_type": "subslide"
      },
      "slide_helper": "subslide_end",
      "slideshow": {
       "slide_type": "slide"
      }
     },
     "outputs": [
      {
       "output_type": "stream",
       "stream": "stdout",
       "text": [
        "\n",
        "There are 9 genes in corem 1, including:\n",
        "\n",
        "b3313 is also called rplP"
       ]
      },
      {
       "output_type": "stream",
       "stream": "stdout",
       "text": [
        "\n",
        "b3314 is also called rpsC"
       ]
      },
      {
       "output_type": "stream",
       "stream": "stdout",
       "text": [
        "\n",
        "b3315 is also called rplV"
       ]
      },
      {
       "output_type": "stream",
       "stream": "stdout",
       "text": [
        "\n",
        "b3316 is also called rpsS\n",
        "b3317 is also called rplB"
       ]
      },
      {
       "output_type": "stream",
       "stream": "stdout",
       "text": [
        "\n",
        "b3318 is also called rplW"
       ]
      },
      {
       "output_type": "stream",
       "stream": "stdout",
       "text": [
        "\n",
        "b3319 is also called rplD\n",
        "b3320 is also called rplC"
       ]
      },
      {
       "output_type": "stream",
       "stream": "stdout",
       "text": [
        "\n",
        "b3321 is also called rpsJ\n"
       ]
      }
     ],
     "prompt_number": 21
    },
    {
     "cell_type": "markdown",
     "metadata": {},
     "source": [
      "<h4> STEP 2: Find experiments where these genes are co-expressed</h4>\n",
      "\n",
      "This query will also use the `coremFinder` function. To find `conditions` associated with our corem rather than genes, we simply change the `y_type` argument."
     ]
    },
    {
     "cell_type": "code",
     "collapsed": false,
     "input": [
      "corem_conditions =  coremFinder(x = corem,x_type = \"corem\", y_type=\"conditions\", host=host, db=db)\n",
      "corem_conditions.sort()\n",
      "print \"\\nThere are %s conditions in which these genes are co-regulated, including:\\n\" % len(corem_conditions)\n",
      "for i in corem_conditions[0:5]:\n",
      "    print i"
     ],
     "language": "python",
     "metadata": {
      "internals": {
       "frag_helper": "fragment_end",
       "frag_number": 3,
       "slide_helper": "subslide_end",
       "slide_type": "subslide"
      },
      "slide_helper": "slide_end",
      "slideshow": {
       "slide_type": "subslide"
      }
     },
     "outputs": [
      {
       "output_type": "stream",
       "stream": "stdout",
       "text": [
        "\n",
        "There are 418 conditions in which these genes are co-regulated, including:\n",
        "\n",
        "ATCC25404_wt_24hr_biofilm\n",
        "ATCC25404_wt_R1drd19_24hr_biofilm\n",
        "B178_mutant_Hsp60\n",
        "B178_wt_Hsp60\n",
        "BW25113_30C_biofilm\n"
       ]
      }
     ],
     "prompt_number": 23
    },
    {
     "cell_type": "markdown",
     "metadata": {},
     "source": [
      "<h4> STEP 3: Retrieve gene expression from the database </h4>\n",
      "\n",
      "To retrieve gene expression values for these genes and experiments we use the `expressionFinder` function. To call this function we specific the `rows` (genes) and `columns` (conditions), as well as the `host` and `db` as before. "
     ]
    },
    {
     "cell_type": "code",
     "collapsed": false,
     "input": [
      "gene_expression = expressionFinder(rows=corem_genes,cols=corem_conditions,host=host,db=db)"
     ],
     "language": "python",
     "metadata": {
      "internals": {
       "frag_helper": "fragment_end",
       "frag_number": 3,
       "slide_helper": "subslide_end",
       "slide_type": "subslide"
      },
      "slide_helper": "slide_end",
      "slideshow": {
       "slide_type": "slide"
      }
     },
     "outputs": [],
     "prompt_number": 22
    },
    {
     "cell_type": "markdown",
     "metadata": {},
     "source": [
      "<h4> STEP 4. Plot expression values </h4>\n",
      "\n",
      "We have several options for plotting these gene expression values. We could plot the expression values as lines, or in a heatmap, or even as a boxplot for all genes in each condition. \n",
      "\n",
      "Each of these visualizations is available by calling a single function, `plotExpression`. To call this function we must provide:\n",
      "\n",
      "- `data`: this is the gene expression values, a Pandas data frame\n",
      "- `plot_type`: this is the type of plot to draw. Can be `boxplot' (default), `line`, or `heatmap`\n",
      "- `ipynb`: logical indicating whether the plot will be drawn in an iPython notebook\n",
      "- `sort`: optionally sort the data (default: `FALSE`)\n",
      "\n",
      "It's important to note that this function only requires a Pandas data frame, meaning you can use it to plot any kind of data (e.g. loaded from a text file).\n",
      "\n",
      "Additionally, if we are producing the plot in an iPython notebook, we need to set the argument `ipynb` = `TRUE` and call an additional function `py.iplot` on the value returned from `plotExpression`.\n",
      "\n",
      "Below are three examples, calling the `plotExpression` function with three different values for the `plot_type` argument: `line`, `heatmap`, and `boxplot`."
     ]
    },
    {
     "cell_type": "code",
     "collapsed": false,
     "input": [
      "line_plot = plotExpression( data = gene_expression, plot_type = \"line\", ipynb = True, sort = False )\n",
      "py.iplot( line_plot )"
     ],
     "language": "python",
     "metadata": {
      "internals": {
       "frag_helper": "fragment_end",
       "frag_number": 3,
       "slide_helper": "subslide_end",
       "slide_type": "subslide"
      },
      "slide_helper": "subslide_end",
      "slideshow": {
       "slide_type": "slide"
      }
     },
     "outputs": [
      {
       "html": [
        "<iframe id=\"igraph\" scrolling=\"no\" style=\"border:none;\"seamless=\"seamless\" src=\"https://plot.ly/~scalefreegan/189.embed\" height=\"525\" width=\"100%\"></iframe>"
       ],
       "metadata": {},
       "output_type": "pyout",
       "prompt_number": 25,
       "text": [
        "<plotly.tools.PlotlyDisplay at 0x7f0bf5309150>"
       ]
      }
     ],
     "prompt_number": 25
    },
    {
     "cell_type": "code",
     "collapsed": false,
     "input": [
      "heatmap = plotExpression( data = gene_expression, plot_type = \"heatmap\", ipynb = True )\n",
      "py.iplot( heatmap )"
     ],
     "language": "python",
     "metadata": {
      "internals": {
       "frag_helper": "fragment_end",
       "frag_number": 3,
       "slide_helper": "subslide_end",
       "slide_type": "subslide"
      },
      "slide_helper": "slide_end",
      "slideshow": {
       "slide_type": "slide"
      }
     },
     "outputs": [
      {
       "html": [
        "<iframe id=\"igraph\" scrolling=\"no\" style=\"border:none;\"seamless=\"seamless\" src=\"https://plot.ly/~scalefreegan/190.embed\" height=\"525\" width=\"100%\"></iframe>"
       ],
       "metadata": {},
       "output_type": "pyout",
       "prompt_number": 26,
       "text": [
        "<plotly.tools.PlotlyDisplay at 0x7f0bf442a310>"
       ]
      }
     ],
     "prompt_number": 26
    },
    {
     "cell_type": "code",
     "collapsed": false,
     "input": [
      "boxplot = plotExpression( gene_expression, plot_type = \"boxplot\", ipynb = True )\n",
      "py.iplot( boxplot )"
     ],
     "language": "python",
     "metadata": {
      "internals": {
       "frag_helper": "fragment_end",
       "frag_number": 3,
       "slide_helper": "subslide_end",
       "slide_type": "subslide"
      },
      "slide_helper": "subslide_end",
      "slideshow": {
       "slide_type": "slide"
      }
     },
     "outputs": [
      {
       "html": [
        "<iframe id=\"igraph\" scrolling=\"no\" style=\"border:none;\"seamless=\"seamless\" src=\"https://plot.ly/~scalefreegan/188.embed\" height=\"525\" width=\"100%\"></iframe>"
       ],
       "metadata": {},
       "output_type": "pyout",
       "prompt_number": 24,
       "text": [
        "<plotly.tools.PlotlyDisplay at 0x7f0bf52d9e10>"
       ]
      }
     ],
     "prompt_number": 24
    },
    {
     "cell_type": "markdown",
     "metadata": {},
     "source": [
      "<h4> Putting it all together </h4>\n",
      "\n",
      "Here is the code. You can copy this to your own notebook or download a *blank slate* notebook [here](expression_viz_tutorial_blank.ipynb)."
     ]
    },
    {
     "cell_type": "code",
     "collapsed": false,
     "input": [
      "# PLOT GENE EXPRESSION\n",
      "\n",
      "# prelims\n",
      "from query.egrin2_query import *\n",
      "host = \"primordial\"\n",
      "db = \"eco_db2\"\n",
      "\n",
      "corem = 1\n",
      "# find corem genes\n",
      "corem_genes =  coremFinder(x = corem,x_type = \"corem\", y_type=\"genes\",host=host,db=db)\n",
      "# find corem conditions\n",
      "corem_conditions =  coremFinder(x = corem,x_type = \"corem\", y_type=\"conditions\", host=host, db=db)\n",
      "# get gene expression\n",
      "gene_expression = expressionFinder(rows=corem_genes,cols=corem_conditions,host=host,db=db)\n",
      "# plot\n",
      "plot = plotExpression( data = gene_expression, plot_type = \"line\", ipynb = True, sort = False )\n",
      "py.iplot( plot )"
     ],
     "language": "python",
     "metadata": {},
     "outputs": [
      {
       "html": [
        "<iframe id=\"igraph\" scrolling=\"no\" style=\"border:none;\"seamless=\"seamless\" src=\"https://plot.ly/~scalefreegan/192.embed\" height=\"525\" width=\"100%\"></iframe>"
       ],
       "metadata": {},
       "output_type": "pyout",
       "prompt_number": 29,
       "text": [
        "<plotly.tools.PlotlyDisplay at 0x7f0bf44f86d0>"
       ]
      }
     ],
     "prompt_number": 29
    },
    {
     "cell_type": "markdown",
     "metadata": {},
     "source": [
      "<h4> EXTENSION: Logical queries </h4>\n",
      "\n",
      "Let's imagine that we want to find *all* corems where two genes. Many of the, including `coremFinder` can implement logical operations, including `or`, `and`, as well as `nor`"
     ]
    }
   ],
   "metadata": {}
  }
 ]
}