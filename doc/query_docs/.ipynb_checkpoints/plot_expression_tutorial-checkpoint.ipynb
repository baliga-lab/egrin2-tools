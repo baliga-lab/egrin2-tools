{
 "cells": [
  {
   "cell_type": "markdown",
   "metadata": {
    "internals": {
     "slide_type": "subslide"
    },
    "slideshow": {
     "slide_type": "slide"
    }
   },
   "source": [
    "<div align=\"right\" vertical-align=\"middle\" style=\"border: 2px solid;border-radius: 5px;background-color:lightgrey;padding:5px;padding-right:20px;padding-left:10px;\">\n",
    "        <a style=\"color:black;text-decoration:none;\" title=\"Home\" href=\"../index.ipynb\">\n",
    "            <img src=\"../../css/iconmonstr-christmas-house-icon.svg\" height = \"30\" width = \"30\" style=\"display:inline\">\n",
    "        </a>\n",
    "        &nbsp;\n",
    "        <b>|</b>\n",
    "        &nbsp;\n",
    "        <a style=\"color:black;text-decoration:none;\" title=\"Build\" href=\"../build_docs/build.ipynb\">\n",
    "            <img src=\"../../css/iconmonstr-puzzle-icon.svg\" height = \"30\" width = \"30\" style=\"display:inline\">\n",
    "        </a>\n",
    "        <a style=\"color:black;text-decoration:none;\" title=\"Assemble\" href=\"../assemble_docs/assemble.ipynb\">\n",
    "            <img src=\"../../css/iconmonstr-puzzle-17-icon.svg\" height = \"30\" width = \"30\" style=\"display:inline\">\n",
    "        </a>\n",
    "        <a style=\"color:black;text-decoration:none;\" title=\"Query\" href=\"query.ipynb\">\n",
    "            <img src=\"../../css/iconmonstr-flask-3-icon.svg\" height = \"30\" width = \"30\" style=\"display:inline\">\n",
    "        </a>\n",
    "</div>\n",
    "\n",
    "<h1> TUTORIAL: Visualizing Basic `EGRIN 2.0` queries </h1>"
   ]
  },
  {
   "cell_type": "markdown",
   "metadata": {
    "internals": {
     "slide_helper": "subslide_end"
    },
    "slide_helper": "slide_end",
    "slideshow": {
     "slide_type": "-"
    }
   },
   "source": [
    "*In this tutorial, we will visualize gene expression resulting from basic EGRIN `2.0` queries*\n",
    "\n",
    "*You can download a **blank version** of this tutorial for editing on your local machine [here](plot_expression_tutorial_blank.ipynb)*\n",
    "\n",
    "<h3> Preliminaries </h3>\n",
    "\n",
    "As described in the [System Requirements](index.ipynb), there are several dependencies that need to be satisfied to complete this tutorial, including:\n",
    "\n",
    "- pymongo\n",
    "- numpy\n",
    "- pandas\n",
    "- joblib\n",
    "- scipy\n",
    "- statsmodels\n",
    "- itertools\n",
    "\n",
    "To query the ensemble, we must first load all of the query functions."
   ]
  },
  {
   "cell_type": "code",
   "execution_count": 7,
   "metadata": {
    "collapsed": false,
    "internals": {
     "frag_helper": "fragment_end",
     "frag_number": 1,
     "slide_type": "subslide"
    },
    "slideshow": {
     "slide_type": "slide"
    }
   },
   "outputs": [],
   "source": [
    "from query.egrin2_query import *\n",
    "from query.egrin2_plot import *"
   ]
  },
  {
   "cell_type": "markdown",
   "metadata": {
    "internals": {},
    "slideshow": {
     "slide_type": "-"
    }
   },
   "source": [
    "We will also define the host and the database that we'd like to use. `Host` is the name of the machine hosting the `EGRIN 2.0` MongoDB while `db` is the organism-specific `EGRIN 2.0` database name to query.  "
   ]
  },
  {
   "cell_type": "code",
   "execution_count": 1,
   "metadata": {
    "collapsed": false,
    "internals": {
     "slide_helper": "subslide_end"
    },
    "slide_helper": "slide_end",
    "slideshow": {
     "slide_type": "-"
    }
   },
   "outputs": [],
   "source": [
    "host = \"primordial\"\n",
    "db = \"eco_db\""
   ]
  },
  {
   "cell_type": "markdown",
   "metadata": {},
   "source": [
    "<h3> Basic queries </h3>\n",
    "\n",
    "<h4> STEP 1: Find genes in a corem </h4>\n",
    "\n",
    "Here we will retrieve genes and experiments in which these genes are co-regulated from a specific corem. \n",
    "\n",
    "This type of information can be retrieved using the `coremFinder` function. To call this function we need to specify:\n",
    "\n",
    "- `x`: our query\n",
    "- `x_type`: our query type. This could be corems, genes, conditions, GREs, or specific-coregulatory edges. In this case we will use `corem`.\n",
    "- `y_type`: our target type. This is the type of information we would like to retrieve. The type can be any type described by `x_type`\n",
    "\n",
    "In addition we include the `host` and `db` variables defined above."
   ]
  },
  {
   "cell_type": "code",
   "execution_count": 3,
   "metadata": {
    "collapsed": false,
    "internals": {
     "frag_helper": "fragment_end",
     "frag_number": 3,
     "slide_helper": "subslide_end",
     "slide_type": "subslide"
    },
    "slide_helper": "subslide_end",
    "slideshow": {
     "slide_type": "slide"
    }
   },
   "outputs": [
    {
     "name": "stdout",
     "output_type": "stream",
     "text": [
      "\n",
      "There are 9 genes in corem 1, including:\n",
      "\n",
      "b3313 is also called rplP\n",
      "b3314 is also called rpsC\n",
      "b3315 is also called rplV\n",
      "b3316 is also called rpsS\n",
      "b3317 is also called rplB\n",
      "b3318 is also called rplW\n",
      "b3319 is also called rplD\n",
      "b3320 is also called rplC\n",
      "b3321 is also called rpsJ\n"
     ]
    }
   ],
   "source": [
    "corem = 1\n",
    "corem_genes =  coremFinder(x = corem,x_type = \"corem\", y_type=\"genes\",host=host,db=db)\n",
    "corem_genes.sort()\n",
    "print \"\\nThere are %s genes in corem %s, including:\\n\"  % (len(corem_genes),corem)\n",
    "for i in corem_genes:\n",
    "    print i + \" is also called \" + row2id( i, host=host, db=db, return_field = \"name\" )"
   ]
  },
  {
   "cell_type": "markdown",
   "metadata": {},
   "source": [
    "<h4> STEP 2: Find experiments where these genes are co-expressed</h4>\n",
    "\n",
    "This query will also use the `coremFinder` function. To find `conditions` associated with our corem rather than genes, we simply change the `y_type` argument."
   ]
  },
  {
   "cell_type": "code",
   "execution_count": 12,
   "metadata": {
    "collapsed": false,
    "internals": {
     "frag_helper": "fragment_end",
     "frag_number": 3,
     "slide_helper": "subslide_end",
     "slide_type": "subslide"
    },
    "slide_helper": "slide_end",
    "slideshow": {
     "slide_type": "subslide"
    }
   },
   "outputs": [
    {
     "name": "stdout",
     "output_type": "stream",
     "text": [
      "\n",
      "There are 418 conditions in which these genes are co-regulated, including:\n",
      "\n",
      "ATCC25404_wt_24hr_biofilm\n",
      "ATCC25404_wt_R1drd19_24hr_biofilm\n",
      "B178_mutant_Hsp60\n",
      "B178_wt_Hsp60\n",
      "BW25113_30C_biofilm\n",
      "BW25113_R1drd19_15hr_biofilm\n",
      "BW25113_R1drd19_24hr_biofilm\n",
      "BW25113_uninduced_t0\n",
      "BW25113_uninduced_t120\n",
      "BW25113_uninduced_t180\n"
     ]
    }
   ],
   "source": [
    "corem_conditions =  coremFinder(x = corem,x_type = \"corem\", y_type=\"conditions\", host=host, db=db)\n",
    "corem_conditions.sort()\n",
    "print \"\\nThere are %s conditions in which these genes are co-regulated, including:\\n\" % len(corem_conditions)\n",
    "for i in corem_conditions[0:10]:\n",
    "    print i"
   ]
  },
  {
   "cell_type": "markdown",
   "metadata": {},
   "source": [
    "<h4> STEP 3: Retrieve gene expression from the database </h4>\n",
    "\n",
    "To retrieve gene expression values for these genes and experiments we use the `expressionFinder` function. To call this function we specific the `rows` (genes) and `columns` (conditions), as well as the `host` and `db` as before. "
   ]
  },
  {
   "cell_type": "code",
   "execution_count": 5,
   "metadata": {
    "collapsed": false,
    "internals": {
     "frag_helper": "fragment_end",
     "frag_number": 3,
     "slide_helper": "subslide_end",
     "slide_type": "subslide"
    },
    "slide_helper": "slide_end",
    "slideshow": {
     "slide_type": "slide"
    }
   },
   "outputs": [],
   "source": [
    "gene_expression = expressionFinder(rows=corem_genes,cols=corem_conditions,host=host,db=db)"
   ]
  },
  {
   "cell_type": "markdown",
   "metadata": {},
   "source": [
    "<h4> STEP 4. Plot expression values </h4>\n",
    "\n",
    "We have several options for plotting these gene expression values. We could plot the expression values as lines, or in a heatmap, or even as a boxplot for all genes in each condition. \n",
    "\n",
    "Each of these visualizations is available by calling a single function, `plotExpression`. To call this function we must provide:\n",
    "\n",
    "- `data`: this is the gene expression values, a Pandas data frame\n",
    "- `plot_type`: this is the type of plot to draw. Can be `boxplot' (default), `line`, or `heatmap`\n",
    "- `ipynb`: logical indicating whether the plot will be drawn in an iPython notebook\n",
    "- `sort`: optionally sort the data (default: `FALSE`)\n",
    "\n",
    "It's important to note that this function only requires a Pandas data frame, meaning you can use it to plot any kind of data (e.g. loaded from a text file).\n",
    "\n",
    "Additionally, if we are producing the plot in an iPython notebook, we need to set the argument `ipynb` = `TRUE` and call an additional function `py.iplot` on the value returned from `plotExpression`.\n",
    "\n",
    "Below are three examples, calling the `plotExpression` function with three different values for the `plot_type` argument: `line`, `heatmap`, and `boxplot`."
   ]
  },
  {
   "cell_type": "code",
   "execution_count": 8,
   "metadata": {
    "collapsed": false,
    "internals": {
     "frag_helper": "fragment_end",
     "frag_number": 3,
     "slide_helper": "subslide_end",
     "slide_type": "subslide"
    },
    "slide_helper": "subslide_end",
    "slideshow": {
     "slide_type": "slide"
    }
   },
   "outputs": [
    {
     "data": {
      "text/html": [
       "<iframe id=\"igraph\" scrolling=\"no\" style=\"border:none;\"seamless=\"seamless\" src=\"https://plot.ly/~scalefreegan/234.embed\" height=\"525\" width=\"100%\"></iframe>"
      ],
      "text/plain": [
       "<plotly.tools.PlotlyDisplay object>"
      ]
     },
     "execution_count": 8,
     "metadata": {},
     "output_type": "execute_result"
    }
   ],
   "source": [
    "line_plot = plotExpression( data = gene_expression, plot_type = \"line\", ipynb = True, sort = False )\n",
    "py.iplot( line_plot )"
   ]
  },
  {
   "cell_type": "code",
   "execution_count": 9,
   "metadata": {
    "collapsed": false,
    "internals": {
     "frag_helper": "fragment_end",
     "frag_number": 3,
     "slide_helper": "subslide_end",
     "slide_type": "subslide"
    },
    "slide_helper": "slide_end",
    "slideshow": {
     "slide_type": "slide"
    }
   },
   "outputs": [
    {
     "data": {
      "text/html": [
       "<iframe id=\"igraph\" scrolling=\"no\" style=\"border:none;\"seamless=\"seamless\" src=\"https://plot.ly/~scalefreegan/235.embed\" height=\"525\" width=\"100%\"></iframe>"
      ],
      "text/plain": [
       "<plotly.tools.PlotlyDisplay object>"
      ]
     },
     "execution_count": 9,
     "metadata": {},
     "output_type": "execute_result"
    },
    {
     "data": {
      "image/png": "[encoded data removed]",
      "text/plain": [
       "<matplotlib.figure.Figure at 0x10b12c950>"
      ]
     },
     "metadata": {},
     "output_type": "display_data"
    }
   ],
   "source": [
    "heatmap = plotExpression( data = gene_expression, plot_type = \"heatmap\", ipynb = True )\n",
    "py.iplot( heatmap )"
   ]
  },
  {
   "cell_type": "code",
   "execution_count": 10,
   "metadata": {
    "collapsed": false,
    "internals": {
     "frag_helper": "fragment_end",
     "frag_number": 3,
     "slide_helper": "subslide_end",
     "slide_type": "subslide"
    },
    "slide_helper": "subslide_end",
    "slideshow": {
     "slide_type": "slide"
    }
   },
   "outputs": [
    {
     "data": {
      "text/html": [
       "<iframe id=\"igraph\" scrolling=\"no\" style=\"border:none;\"seamless=\"seamless\" src=\"https://plot.ly/~scalefreegan/236.embed\" height=\"525\" width=\"100%\"></iframe>"
      ],
      "text/plain": [
       "<plotly.tools.PlotlyDisplay object>"
      ]
     },
     "execution_count": 10,
     "metadata": {},
     "output_type": "execute_result"
    }
   ],
   "source": [
    "boxplot = plotExpression( gene_expression, plot_type = \"boxplot\", ipynb = True )\n",
    "py.iplot( boxplot )"
   ]
  },
  {
   "cell_type": "markdown",
   "metadata": {},
   "source": [
    "<h4> Putting it all together </h4>\n",
    "\n",
    "Here is the code. You can copy this to your own notebook or download a *blank slate* notebook [here](plot_expression_tutorial_blank.ipynb)."
   ]
  },
  {
   "cell_type": "code",
   "execution_count": 11,
   "metadata": {
    "collapsed": false
   },
   "outputs": [
    {
     "data": {
      "text/html": [
       "<iframe id=\"igraph\" scrolling=\"no\" style=\"border:none;\"seamless=\"seamless\" src=\"https://plot.ly/~scalefreegan/237.embed\" height=\"525\" width=\"100%\"></iframe>"
      ],
      "text/plain": [
       "<plotly.tools.PlotlyDisplay object>"
      ]
     },
     "execution_count": 11,
     "metadata": {},
     "output_type": "execute_result"
    }
   ],
   "source": [
    "# PLOT GENE EXPRESSION\n",
    "\n",
    "# prelims\n",
    "from query.egrin2_query import *\n",
    "host = \"primordial\"\n",
    "db = \"eco_db2\"\n",
    "\n",
    "corem = 1\n",
    "# find corem genes\n",
    "corem_genes =  coremFinder(x = corem,x_type = \"corem\", y_type=\"genes\",host=host,db=db)\n",
    "# find corem conditions\n",
    "corem_conditions =  coremFinder(x = corem,x_type = \"corem\", y_type=\"conditions\", host=host, db=db)\n",
    "# get gene expression\n",
    "gene_expression = expressionFinder(rows=corem_genes,cols=corem_conditions,host=host,db=db)\n",
    "# plot\n",
    "plot = plotExpression( data = gene_expression, plot_type = \"line\", ipynb = True, sort = False )\n",
    "py.iplot( plot )"
   ]
  }
 ],
 "metadata": {
  "kernelspec": {
   "display_name": "Python 2",
   "language": "python",
   "name": "python2"
  },
  "language_info": {
   "codemirror_mode": {
    "name": "ipython",
    "version": 2
   },
   "file_extension": ".py",
   "mimetype": "text/x-python",
   "name": "python",
   "nbconvert_exporter": "python",
   "pygments_lexer": "ipython2",
   "version": "2.7.6"
  }
 },
 "nbformat": 4,
 "nbformat_minor": 0
}
