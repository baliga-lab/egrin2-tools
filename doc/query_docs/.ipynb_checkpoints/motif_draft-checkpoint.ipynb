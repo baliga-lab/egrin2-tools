{
 "cells": [
  {
   "cell_type": "code",
   "execution_count": 1,
   "metadata": {
    "collapsed": false
   },
   "outputs": [],
   "source": [
    "from query.egrin2_query import *\n",
    "import weblogolib as wl\n",
    "import numpy\n",
    "import corebio\n",
    "from IPython.display import Image\n",
    "from IPython.display import SVG"
   ]
  },
  {
   "cell_type": "code",
   "execution_count": 2,
   "metadata": {
    "collapsed": true
   },
   "outputs": [],
   "source": [
    "host = \"baligadev\"\n",
    "port = 27017\n",
    "db = \"eco_db\"\n",
    "\n",
    "client = MongoClient( 'mongodb://'+ host +':'+ str( port )+'/' )"
   ]
  },
  {
   "cell_type": "code",
   "execution_count": 6,
   "metadata": {
    "collapsed": false
   },
   "outputs": [
    {
     "name": "stdout",
     "output_type": "stream",
     "text": [
      "You have indicated a combined name type: run, bicluster, motif.\n",
      "\n",
      "If this is not your intent, I suggest you remove the `_`\n"
     ]
    },
    {
     "data": {
      "text/plain": [
       "array([[ 0.  ,  0.  ,  1.  ,  0.  ],\n",
       "       [ 0.  ,  0.  ,  0.  ,  1.  ],\n",
       "       [ 0.  ,  0.25,  0.25,  0.5 ],\n",
       "       [ 1.  ,  0.  ,  0.  ,  0.  ],\n",
       "       [ 0.75,  0.  ,  0.25,  0.  ],\n",
       "       [ 1.  ,  0.  ,  0.  ,  0.  ],\n",
       "       [ 1.  ,  0.  ,  0.  ,  0.  ],\n",
       "       [ 0.25,  0.75,  0.  ,  0.  ],\n",
       "       [ 0.  ,  0.  ,  0.  ,  1.  ],\n",
       "       [ 0.  ,  1.  ,  0.  ,  0.  ],\n",
       "       [ 0.  ,  1.  ,  0.  ,  0.  ],\n",
       "       [ 1.  ,  0.  ,  0.  ,  0.  ],\n",
       "       [ 0.  ,  0.  ,  1.  ,  0.  ],\n",
       "       [ 0.5 ,  0.5 ,  0.  ,  0.  ],\n",
       "       [ 0.25,  0.  ,  0.25,  0.5 ],\n",
       "       [ 0.75,  0.  ,  0.  ,  0.25],\n",
       "       [ 0.5 ,  0.  ,  0.5 ,  0.  ],\n",
       "       [ 0.  ,  0.75,  0.  ,  0.25],\n",
       "       [ 0.  ,  0.25,  0.  ,  0.75],\n",
       "       [ 0.75,  0.  ,  0.  ,  0.25],\n",
       "       [ 0.75,  0.25,  0.  ,  0.  ],\n",
       "       [ 0.  ,  1.  ,  0.  ,  0.  ],\n",
       "       [ 0.  ,  0.  ,  1.  ,  0.  ],\n",
       "       [ 1.  ,  0.  ,  0.  ,  0.  ]])"
      ]
     },
     "execution_count": 6,
     "metadata": {},
     "output_type": "execute_result"
    }
   ],
   "source": [
    "motif = motifFinder(\"2_4_1\",\"run_bicluster_motif\",host=host,db=db,output_type = \"array\")\n",
    "motif"
   ]
  },
  {
   "cell_type": "code",
   "execution_count": 5,
   "metadata": {
    "collapsed": true
   },
   "outputs": [],
   "source": [
    "data = wl.LogoData.from_counts( corebio.seq.unambiguous_dna_alphabet, motif)"
   ]
  },
  {
   "cell_type": "code",
   "execution_count": 8,
   "metadata": {
    "collapsed": false,
    "scrolled": true
   },
   "outputs": [],
   "source": [
    "options = wl.LogoOptions()\n",
    "format = wl.LogoFormat(data,options)\n",
    "format.color_scheme = wl.classic"
   ]
  },
  {
   "cell_type": "code",
   "execution_count": null,
   "metadata": {
    "collapsed": false
   },
   "outputs": [],
   "source": [
    "tmp = wl.svg_formatter( data, format )\n",
    "SVG(tmp)"
   ]
  },
  {
   "cell_type": "code",
   "execution_count": null,
   "metadata": {
    "collapsed": true
   },
   "outputs": [],
   "source": []
  }
 ],
 "metadata": {
  "kernelspec": {
   "display_name": "Python 2",
   "language": "python",
   "name": "python2"
  },
  "language_info": {
   "codemirror_mode": {
    "name": "ipython",
    "version": 2
   },
   "file_extension": ".py",
   "mimetype": "text/x-python",
   "name": "python",
   "nbconvert_exporter": "python",
   "pygments_lexer": "ipython2",
   "version": "2.7.6"
  }
 },
 "nbformat": 4,
 "nbformat_minor": 0
}
