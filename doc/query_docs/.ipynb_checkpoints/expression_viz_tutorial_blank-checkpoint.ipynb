{
 "cells": [
  {
   "cell_type": "code",
   "execution_count": 1,
   "metadata": {
    "collapsed": false
   },
   "outputs": [
    {
     "data": {
      "text/html": [
       "<iframe id=\"igraph\" scrolling=\"no\" style=\"border:none;\"seamless=\"seamless\" src=\"https://plot.ly/~scalefreegan/207.embed\" height=\"525\" width=\"100%\"></iframe>"
      ],
      "text/plain": [
       "<plotly.tools.PlotlyDisplay object>"
      ]
     },
     "execution_count": 1,
     "metadata": {},
     "output_type": "execute_result"
    }
   ],
   "source": [
    "# PLOT GENE EXPRESSION\n",
    "\n",
    "# prelims\n",
    "from query.egrin2_query import *\n",
    "from query.egrin2_plot import *\n",
    "\n",
    "host = \"primordial\"\n",
    "db = \"eco_db2\"\n",
    "\n",
    "corem = 1\n",
    "\n",
    "# find genes\n",
    "genes =  coremFinder(x = corem,x_type = \"corem_id\", y_type=\"rows\",host=host,db=db)\n",
    "# find conditions\n",
    "conditions =  coremFinder(x = corem,x_type = \"corem_id\", y_type=\"conds\",host=host,db=db)\n",
    "# get expression\n",
    "gene_expression = expressionFinder(rows=genes,cols=conditions,host=host,db=db)\n",
    "# plot\n",
    "plot = plotExpression( gene_expression, plot_type = \"line\", ipynb = True, sort = False )\n",
    "py.iplot( plot )"
   ]
  }
 ],
 "metadata": {
  "kernelspec": {
   "display_name": "Python 2",
   "language": "python",
   "name": "python2"
  },
  "language_info": {
   "codemirror_mode": {
    "name": "ipython",
    "version": 2
   },
   "file_extension": ".py",
   "mimetype": "text/x-python",
   "name": "python",
   "nbconvert_exporter": "python",
   "pygments_lexer": "ipython2",
   "version": "2.7.6"
  }
 },
 "nbformat": 4,
 "nbformat_minor": 0
}
