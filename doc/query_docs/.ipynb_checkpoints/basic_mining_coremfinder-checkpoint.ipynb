{
 "cells": [
  {
   "cell_type": "markdown",
   "metadata": {},
   "source": [
    "<div align=\"right\" vertical-align=\"middle\" style=\"border: 2px solid;border-radius: 5px;background-color:lightgrey;padding:5px;padding-right:20px;padding-left:10px;\">\n",
    "        <a style=\"color:black;text-decoration:none;\" title=\"Home\" href=\"../index.ipynb\">\n",
    "            <img src=\"../../css/iconmonstr-christmas-house-icon.svg\" height = \"30\" width = \"30\" style=\"display:inline\">\n",
    "        </a>\n",
    "        &nbsp;\n",
    "        <b>|</b>\n",
    "        &nbsp;\n",
    "        <a style=\"color:black;text-decoration:none;\" title=\"Build\" href=\"../build_docs/build.ipynb\">\n",
    "            <img src=\"../../css/iconmonstr-puzzle-icon.svg\" height = \"30\" width = \"30\" style=\"display:inline\">\n",
    "        </a>\n",
    "        <a style=\"color:black;text-decoration:none;\" title=\"Assemble\" href=\"../assemble_docs/assemble.ipynb\">\n",
    "            <img src=\"../../css/iconmonstr-puzzle-17-icon.svg\" height = \"30\" width = \"30\" style=\"display:inline\">\n",
    "        </a>\n",
    "        <a style=\"color:black;text-decoration:none;\" title=\"Query\" href=\"query.ipynb\">\n",
    "            <img src=\"../../css/iconmonstr-flask-3-icon.svg\" height = \"30\" width = \"30\" style=\"display:inline\">\n",
    "        </a>\n",
    "</div>"
   ]
  },
  {
   "cell_type": "markdown",
   "metadata": {},
   "source": [
    "# Basic Mining\n",
    "\n",
    "## EGRIN2.0 MongoDB query using `coremFinder`"
   ]
  },
  {
   "cell_type": "markdown",
   "metadata": {},
   "source": [
    "### In a nutshell\n",
    "\n",
    "**Corems** or <u>condition-specific co-regulated modules</u> are sets of genes that are tightly co-expressed in a condition-specific manner and whose expression is often controlled by common transcriptional regulators.\n",
    "\n",
    "*Expert note: A different perspective on `corems` is that they are highly-refined, reproducibly-detected, biclusters that violate some constraints imposed on cMonkey-detected biclusters.*\n",
    "\n",
    "`coremFinder` mines information about corems that are detected as a part of EGRIN 2.0 analysis. \n",
    "\n",
    "Typically, about half of the genes in the genome may be discovered in corems. For thos subset of genes, the `coremFinder` function can return information about the corem, including:\n",
    "\n",
    "- gene composition\n",
    "- condition-specific activity\n",
    "- edges contained in corem\n",
    "- corem density\n",
    "\n",
    "This function can be combined with the [`agglom` function](basic_mining_agglom.ipynb) to drive analysis of EGRIN 2.0 ensembles beyond genes contained in corems."
   ]
  },
  {
   "cell_type": "markdown",
   "metadata": {},
   "source": [
    "### Set-up"
   ]
  },
  {
   "cell_type": "markdown",
   "metadata": {},
   "source": [
    "*Make sure ./egrin-tools/ folder is in your python path*"
   ]
  },
  {
   "cell_type": "markdown",
   "metadata": {},
   "source": [
    "You can do this on Mac/Linux by adding the path to you Bash Shell Startup Files, e.g. ~/.bashrc or ~/.bash_profile\n",
    "\n",
    "for example in ~/.bash_profile add the following line:\n",
    "\n",
    "`export PYTHONPATH=$PYTHONPATH:path/to/egrin2-tools/`"
   ]
  },
  {
   "cell_type": "markdown",
   "metadata": {},
   "source": [
    "### Load required modules"
   ]
  },
  {
   "cell_type": "code",
   "execution_count": 6,
   "metadata": {
    "collapsed": false
   },
   "outputs": [],
   "source": [
    "from query.egrin2_query import *\n",
    "\n",
    "host = \"baligadev\"\n",
    "db = \"eco_db\"\n",
    "port = 27017"
   ]
  },
  {
   "cell_type": "markdown",
   "metadata": {},
   "source": [
    "There are several dependencies that need to be satisfied, including:\n",
    "- pymongo\n",
    "- numpy\n",
    "- pandas\n",
    "- joblib\n",
    "- scipy\n",
    "- statsmodels\n",
    "- itertools"
   ]
  },
  {
   "cell_type": "markdown",
   "metadata": {},
   "source": [
    "### `coremFinder` function\n",
    "\n",
    "The `coremFinder` function is very similar to the [`agglom` function](basic_mining_agglom.ipynb). Basically, it co-associates information about corems, where the infomration supplied and retrieved is modulated by defining the arguments: `x`, `x_type`, and `y_type`. \n",
    "\n",
    "The function returns the requested information about a corem.\n",
    "\n",
    "You can find out more about this function and its parameters by issuing the following commmand:"
   ]
  },
  {
   "cell_type": "code",
   "execution_count": 5,
   "metadata": {
    "collapsed": false
   },
   "outputs": [],
   "source": [
    "?coremFinder"
   ]
  },
  {
   "cell_type": "markdown",
   "metadata": {},
   "source": [
    "#### Example 1: Find corem genes\n",
    "\n",
    "The most straightforward way to use `coremFinder` is to find genes contained in a corem.\n",
    "\n",
    "For example, to find all genes in *E. coli* corem `#1` we would type:"
   ]
  },
  {
   "cell_type": "code",
   "execution_count": 11,
   "metadata": {
    "collapsed": false
   },
   "outputs": [
    {
     "data": {
      "text/plain": [
       "[u'b3317',\n",
       " u'b3320',\n",
       " u'b3319',\n",
       " u'b3313',\n",
       " u'b3315',\n",
       " u'b3318',\n",
       " u'b3314',\n",
       " u'b3321',\n",
       " u'b3316']"
      ]
     },
     "execution_count": 11,
     "metadata": {},
     "output_type": "execute_result"
    }
   ],
   "source": [
    "corem_1 = coremFinder( x = 1, x_type = \"corem\", y_type = \"genes\", host=host, db=db)\n",
    "corem_1"
   ]
  },
  {
   "cell_type": "markdown",
   "metadata": {},
   "source": [
    "There are several things to note in this query.\n",
    "\n",
    "First the arguments:\n",
    "- `x` specfies the query. This can be `gene(s)`, `condition(s)`, `GRE(s)`, or `edge(s)`. `x` can be a single entity or a list of entitites of the same type. \n",
    "- `x_type` indicates the type of `x`. This can include `gene`, `condition`, `gres`, and `edges`. Basically: \"what is x?\" The parameter typing is pretty flexible, so - for example - `rows` can be used instead of `genes`.\n",
    "- `y_type` is the type of. Again, `genes`, `conditions`, `gres`, or `edges`. \n",
    "- `host` specifies where the MongoDB database is running. In this case it is running on a machine called `baligadev`. If you are hosting the database locally this would be `localhost`\n",
    "- `db` is the name of the database you want to perform the query in. Typically databases are specified by the three letter organism code (e.g., **eco**) followed by **_db**. A list of maintained databases is available <a href=\"../check_dbs.ipynb\">here</a>.\n",
    "\n",
    "Also notice that corems (like GREs) are named as integer values. \n",
    "\n",
    "It should also be noted that corems are ordered by their weighted-density. Thus, corem `#1` is the most densly connected corem in the network. Basically, this means that each gene in the corem is co-discovered frequently in biclusters with every other gene in that corem (strongly connected subnetwork). \n",
    "\n",
    "Here we see that if we translate the names of these genes, we find that they are part of a ribosomal operon, which makes sense in light of the fact that ribosomal genes are tightly co-expressed."
   ]
  },
  {
   "cell_type": "code",
   "execution_count": 14,
   "metadata": {
    "collapsed": false
   },
   "outputs": [
    {
     "name": "stdout",
     "output_type": "stream",
     "text": [
      "Reverting to translation by single matches. Defining 'input_type' will dramatically speed up query.\n"
     ]
    },
    {
     "data": {
      "text/plain": [
       "[u'rplB',\n",
       " u'rplC',\n",
       " u'rplD',\n",
       " u'rplP',\n",
       " u'rplV',\n",
       " u'rplW',\n",
       " u'rpsC',\n",
       " u'rpsJ',\n",
       " u'rpsS']"
      ]
     },
     "execution_count": 14,
     "metadata": {},
     "output_type": "execute_result"
    }
   ],
   "source": [
    "row2id_batch(corem_1, return_field = \"name\", host=host, db=db)"
   ]
  },
  {
   "cell_type": "markdown",
   "metadata": {},
   "source": [
    "#### Example 2: Find corems for a specific gene\n",
    "\n",
    "More commonly, you want to know the corems to which a particualr gene belongs.\n",
    "\n",
    "This can be accomplished by changing `x`, `x_type`, and `y_type`, as follows:"
   ]
  },
  {
   "cell_type": "code",
   "execution_count": 18,
   "metadata": {
    "collapsed": false
   },
   "outputs": [
    {
     "name": "stdout",
     "output_type": "stream",
     "text": [
      "Reverting to translation by single matches. Defining 'input_type' will dramatically speed up query.\n"
     ]
    },
    {
     "data": {
      "text/plain": [
       "[107, 471, 835, 847]"
      ]
     },
     "execution_count": 18,
     "metadata": {},
     "output_type": "execute_result"
    }
   ],
   "source": [
    "carA_corems = coremFinder( x = \"carA\", x_type = \"gene\", y_type = \"corems\", host=host, db=db)\n",
    "carA_corems"
   ]
  },
  {
   "cell_type": "markdown",
   "metadata": {},
   "source": [
    "We can see from this query that *carA* belongs to four corems. We could retrieve the genes in these corems like in `Example 1`:"
   ]
  },
  {
   "cell_type": "code",
   "execution_count": 20,
   "metadata": {
    "collapsed": false,
    "scrolled": true
   },
   "outputs": [
    {
     "data": {
      "text/plain": [
       "[u'b0002',\n",
       " u'b0003',\n",
       " u'b0004',\n",
       " u'b0032',\n",
       " u'b0033',\n",
       " u'b0197',\n",
       " u'b0198',\n",
       " u'b0273',\n",
       " u'b0287',\n",
       " u'b0336',\n",
       " u'b0337',\n",
       " u'b0522',\n",
       " u'b0523',\n",
       " u'b0572',\n",
       " u'b0573',\n",
       " u'b0750',\n",
       " u'b0754',\n",
       " u'b0775',\n",
       " u'b0776',\n",
       " u'b0777',\n",
       " u'b0778',\n",
       " u'b0860',\n",
       " u'b0907',\n",
       " u'b0908',\n",
       " u'b0931',\n",
       " u'b0945',\n",
       " u'b1062',\n",
       " u'b1761',\n",
       " u'b1849',\n",
       " u'b2103',\n",
       " u'b2104',\n",
       " u'b2312',\n",
       " u'b2313',\n",
       " u'b2476',\n",
       " u'b2497',\n",
       " u'b2499',\n",
       " u'b2500',\n",
       " u'b2557',\n",
       " u'b2600',\n",
       " u'b2601',\n",
       " u'b2818',\n",
       " u'b2838',\n",
       " u'b2913',\n",
       " u'b2942',\n",
       " u'b3008',\n",
       " u'b3089',\n",
       " u'b3172',\n",
       " u'b3212',\n",
       " u'b3213',\n",
       " u'b3359',\n",
       " u'b3654',\n",
       " u'b3769',\n",
       " u'b3770',\n",
       " u'b3771',\n",
       " u'b3772',\n",
       " u'b3774',\n",
       " u'b3824',\n",
       " u'b3829',\n",
       " u'b3941',\n",
       " u'b3956',\n",
       " u'b3958',\n",
       " u'b3959',\n",
       " u'b3960',\n",
       " u'b4005',\n",
       " u'b4006',\n",
       " u'b4013',\n",
       " u'b4019',\n",
       " u'b4024',\n",
       " u'b4030',\n",
       " u'b4064',\n",
       " u'b4244',\n",
       " u'b4245',\n",
       " u'b4246',\n",
       " u'b4254',\n",
       " u'b4488']"
      ]
     },
     "execution_count": 20,
     "metadata": {},
     "output_type": "execute_result"
    }
   ],
   "source": [
    "coremFinder( x = carA_corems, x_type = \"corems\", y_type = \"genes\", host=host, db=db)"
   ]
  },
  {
   "cell_type": "markdown",
   "metadata": {},
   "source": [
    "####Example 3: Logical operations\n",
    "\n",
    "Similar to the `agglom` function we can implement logical operations. For example, if we wanted to know the genes that belonged to *all* of the corems in which *carA* is a member we would set `logic = \"and\"`"
   ]
  }
 ],
 "metadata": {
  "kernelspec": {
   "display_name": "Python 2",
   "language": "python",
   "name": "python2"
  },
  "language_info": {
   "codemirror_mode": {
    "name": "ipython",
    "version": 2
   },
   "file_extension": ".py",
   "mimetype": "text/x-python",
   "name": "python",
   "nbconvert_exporter": "python",
   "pygments_lexer": "ipython2",
   "version": "2.7.6"
  }
 },
 "nbformat": 4,
 "nbformat_minor": 0
}
