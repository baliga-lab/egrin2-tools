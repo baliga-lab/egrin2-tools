{
 "cells": [
  {
   "cell_type": "code",
   "execution_count": null,
   "metadata": {
    "collapsed": false
   },
   "outputs": [],
   "source": [
    "# PLOT GENE EXPRESSION\n",
    "\n",
    "# prelims\n",
    "from query.egrin2_query import *\n",
    "from query.egrin2_plot import *"
   ]
  },
  {
   "cell_type": "code",
   "execution_count": null,
   "metadata": {
    "collapsed": true
   },
   "outputs": [],
   "source": [
    "# Fill in MongoDB location details, eg for \"eco_db\" EGRIN2 hosted on your machine, running on the default port\n",
    "# host = \"localhost\"\n",
    "# db = \"eco_db\"\n",
    "# port = \"271017\"\n",
    "host = \"\"\n",
    "db = \"\"\n",
    "port = \"\""
   ]
  },
  {
   "cell_type": "code",
   "execution_count": null,
   "metadata": {
    "collapsed": true
   },
   "outputs": [],
   "source": [
    "corem = 1 #CHANGE ME!!\n",
    "\n",
    "# find genes\n",
    "genes =  coremFinder(x = corem,x_type = \"corem_id\", y_type=\"rows\",host=host,db=db)\n",
    "# find conditions\n",
    "conditions =  coremFinder(x = corem,x_type = \"corem_id\", y_type=\"conds\",host=host,db=db)\n",
    "# get expression\n",
    "gene_expression = expressionFinder(rows=genes,cols=conditions,host=host,db=db)"
   ]
  },
  {
   "cell_type": "code",
   "execution_count": null,
   "metadata": {
    "collapsed": false
   },
   "outputs": [],
   "source": [
    "# plot\n",
    "plot = plotExpression( gene_expression, plot_type = \"line\", ipynb = True, sort = False )\n",
    "py.iplot( plot )"
   ]
  }
 ],
 "metadata": {
  "kernelspec": {
   "display_name": "Python 2",
   "language": "python",
   "name": "python2"
  },
  "language_info": {
   "codemirror_mode": {
    "name": "ipython",
    "version": 2
   },
   "file_extension": ".py",
   "mimetype": "text/x-python",
   "name": "python",
   "nbconvert_exporter": "python",
   "pygments_lexer": "ipython2",
   "version": "2.7.6"
  }
 },
 "nbformat": 4,
 "nbformat_minor": 0
}
