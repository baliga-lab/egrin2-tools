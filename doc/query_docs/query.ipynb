{
 "cells": [
  {
   "cell_type": "markdown",
   "metadata": {},
   "source": [
    "<div align=\"right\" vertical-align=\"middle\" style=\"border: 2px solid;border-radius: 5px;background-color:lightgrey;padding:5px;padding-right:20px;padding-left:10px;\">\n",
    "        <a style=\"color:black;text-decoration:none;\" title=\"Home\" href=\"../index.ipynb\">\n",
    "            <img src=\"../../css/iconmonstr-christmas-house-icon.svg\" height = \"30\" width = \"30\" style=\"display:inline\">\n",
    "        </a>\n",
    "        &nbsp;\n",
    "        <b>|</b>\n",
    "        &nbsp;\n",
    "        <a style=\"color:black;text-decoration:none;\" title=\"Build\" href=\"../build_docs/build.ipynb\">\n",
    "            <img src=\"../../css/iconmonstr-puzzle-icon.svg\" height = \"30\" width = \"30\" style=\"display:inline\">\n",
    "        </a>\n",
    "        <a style=\"color:black;text-decoration:none;\" title=\"Assemble\" href=\"../assemble_docs/assemble.ipynb\">\n",
    "            <img src=\"../../css/iconmonstr-puzzle-17-icon.svg\" height = \"30\" width = \"30\" style=\"display:inline\">\n",
    "        </a>\n",
    "        <a style=\"color:black;text-decoration:none;\" title=\"Query\" href=\"query.ipynb\">\n",
    "            <img src=\"../../css/iconmonstr-flask-3-icon.svg\" height = \"30\" width = \"30\" style=\"display:inline\">\n",
    "        </a>\n",
    "</div>\n",
    "\n",
    "<h1>QUERY</h1>"
   ]
  },
  {
   "cell_type": "markdown",
   "metadata": {
    "collapsed": false
   },
   "source": [
    "The `QUERY` functions are the most commonly used tools in the EGRIN 2.0 ecosystem.\n",
    "\n",
    "Currently, there are two categories of `QUERY` functions available.\n",
    "\n",
    "<div align=\"center\" vertical-align=\"middle\">\n",
    "    <a href=\"basic_mining_coremfinder.ipynb\"><img src=\"../../css/mine_text.png\" height = \"250\" width = \"250\" style=\"display:inline\"></a>\n",
    "    <a href=\"plot_expression_tutorial.ipynb\"><img href=\"\" src=\"../../css/iconmonstr-bar-chart-2-icon_text.png\" height = \"250\" width = \"250\" style=\"display:inline\"></a>\n",
    "</div>\n",
    "\n",
    "## Mine\n",
    "\n",
    "`Mining` functions query the EGRIN 2.0 ensemble for relationships in the ensemble. These include bicluster co-membership relationships, corem memberships, and motif locations. \n",
    "\n",
    "To learn more about mining operations please consult one of the following tutorials:\n",
    "\n",
    "- <a href=\"basic_mining_agglom.ipynb\">Basic Mining using `agglom`</a>\n",
    "- <a href=\"basic_mining_coremfinder.ipynb\">Basic Mining using `coremFinder`</a>\n",
    "- <a href=\"advanced_mining.ipynb\">Advanced Mining</a>\n",
    "\n",
    "## Plot\n",
    "\n",
    "As the name suggests, the `Plotting` functions visualize data and relationships in the EGRIN 2.0 ensemble.\n",
    "\n",
    "Currently this is restricted to visualizing array data (e.g., gene expression) as lines, heatmaps, and barplots. \n",
    "\n",
    "To learn more about mining operations please consult one of the following tutorials:\n",
    "\n",
    "- <a href=\"plot_expression_tutorial.ipynb\">Plot expression</a>\n",
    "\n"
   ]
  },
  {
   "cell_type": "code",
   "execution_count": null,
   "metadata": {
    "collapsed": true
   },
   "outputs": [],
   "source": []
  }
 ],
 "metadata": {
  "kernelspec": {
   "display_name": "Python 2",
   "language": "python",
   "name": "python2"
  },
  "language_info": {
   "codemirror_mode": {
    "name": "ipython",
    "version": 2
   },
   "file_extension": ".py",
   "mimetype": "text/x-python",
   "name": "python",
   "nbconvert_exporter": "python",
   "pygments_lexer": "ipython2",
   "version": "2.7.6"
  }
 },
 "nbformat": 4,
 "nbformat_minor": 0
}
