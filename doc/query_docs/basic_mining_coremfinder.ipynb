{
 "cells": [
  {
   "cell_type": "markdown",
   "metadata": {},
   "source": [
    "<div align=\"right\" vertical-align=\"middle\" style=\"border: 2px solid;border-radius: 5px;background-color:lightgrey;padding:5px;padding-right:20px;padding-left:10px;\">\n",
    "        <a style=\"color:black;text-decoration:none;\" title=\"Home\" href=\"../index.ipynb\">\n",
    "            <img src=\"../../css/iconmonstr-christmas-house-icon.svg\" height = \"30\" width = \"30\" style=\"display:inline\">\n",
    "        </a>\n",
    "        &nbsp;\n",
    "        <b>|</b>\n",
    "        &nbsp;\n",
    "        <a style=\"color:black;text-decoration:none;\" title=\"Build\" href=\"../build_docs/build.ipynb\">\n",
    "            <img src=\"../../css/iconmonstr-puzzle-icon.svg\" height = \"30\" width = \"30\" style=\"display:inline\">\n",
    "        </a>\n",
    "        <a style=\"color:black;text-decoration:none;\" title=\"Assemble\" href=\"../assemble_docs/assemble.ipynb\">\n",
    "            <img src=\"../../css/iconmonstr-puzzle-17-icon.svg\" height = \"30\" width = \"30\" style=\"display:inline\">\n",
    "        </a>\n",
    "        <a style=\"color:black;text-decoration:none;\" title=\"Query\" href=\"query.ipynb\">\n",
    "            <img src=\"../../css/iconmonstr-flask-3-icon.svg\" height = \"30\" width = \"30\" style=\"display:inline\">\n",
    "        </a>\n",
    "</div>"
   ]
  },
  {
   "cell_type": "markdown",
   "metadata": {},
   "source": [
    "# Basic Mining\n",
    "\n",
    "## EGRIN2.0 MongoDB query using `coremFinder`"
   ]
  },
  {
   "cell_type": "markdown",
   "metadata": {},
   "source": [
    "### In a nutshell\n",
    "\n",
    "**Corems** or <u>condition-specific co-regulated modules</u> are sets of genes that are tightly co-expressed in a condition-specific manner and whose expression is often controlled by common transcriptional regulators.\n",
    "\n",
    "*Expert note: A different perspective on `corems` is that they are highly-refined, reproducibly-detected, biclusters that violate some constraints imposed on cMonkey-detected biclusters.*\n",
    "\n",
    "`coremFinder` mines information about corems that are detected by EGRIN 2.0. \n",
    "\n",
    "Typically, about half of the genes in the genome may be discovered in corems. For thios subset of genes, the `coremFinder` function can return information about the corem, including:\n",
    "\n",
    "- gene composition\n",
    "- condition-specific activity\n",
    "- edges contained in corem\n",
    "- corem density\n",
    "\n",
    "This function can be combined with the [`agglom` function](basic_mining_agglom.ipynb) to drive analysis of EGRIN 2.0 ensembles beyond genes contained in corems."
   ]
  },
  {
   "cell_type": "markdown",
   "metadata": {},
   "source": [
    "### Set-up"
   ]
  },
  {
   "cell_type": "markdown",
   "metadata": {},
   "source": [
    "*Make sure ./egrin-tools/ folder is in your python path*"
   ]
  },
  {
   "cell_type": "markdown",
   "metadata": {},
   "source": [
    "You can do this on Mac/Linux by adding the path to you Bash Shell Startup Files, e.g. ~/.bashrc or ~/.bash_profile\n",
    "\n",
    "for example in ~/.bash_profile add the following line:\n",
    "\n",
    "`export PYTHONPATH=$PYTHONPATH:path/to/egrin2-tools/`"
   ]
  },
  {
   "cell_type": "markdown",
   "metadata": {},
   "source": [
    "### Load required modules"
   ]
  },
  {
   "cell_type": "code",
   "execution_count": 1,
   "metadata": {
    "collapsed": false
   },
   "outputs": [],
   "source": [
    "from query.egrin2_query import *\n",
    "\n",
    "host = \"baligadev\"\n",
    "db = \"eco_db\"\n",
    "port = 27017"
   ]
  },
  {
   "cell_type": "markdown",
   "metadata": {},
   "source": [
    "There are several dependencies that need to be satisfied, including:\n",
    "- pymongo\n",
    "- numpy\n",
    "- pandas\n",
    "- joblib\n",
    "- scipy\n",
    "- statsmodels\n",
    "- itertools"
   ]
  },
  {
   "cell_type": "markdown",
   "metadata": {},
   "source": [
    "### `coremFinder` function\n",
    "\n",
    "The `coremFinder` function is very similar to the [`agglom` function](basic_mining_agglom.ipynb). Basically, it co-associates information about corems, where the infomration supplied and retrieved is modulated by defining the arguments: `x`, `x_type`, and `y_type`. \n",
    "\n",
    "The function returns the requested information about a corem.\n",
    "\n",
    "You can find out more about this function and its parameters by issuing the following commmand:"
   ]
  },
  {
   "cell_type": "code",
   "execution_count": 5,
   "metadata": {
    "collapsed": false
   },
   "outputs": [],
   "source": [
    "?coremFinder"
   ]
  },
  {
   "cell_type": "markdown",
   "metadata": {},
   "source": [
    "#### Example 1: Find corem genes\n",
    "\n",
    "The most straightforward way to use `coremFinder` is to find genes contained in a corem.\n",
    "\n",
    "For example, to find all genes in *E. coli* corem `#1` we would type:"
   ]
  },
  {
   "cell_type": "code",
   "execution_count": 2,
   "metadata": {
    "collapsed": false
   },
   "outputs": [
    {
     "data": {
      "text/html": [
       "<div style=\"max-height:1000px;max-width:1500px;overflow:auto;\">\n",
       "<table border=\"1\" class=\"dataframe\">\n",
       "  <thead>\n",
       "    <tr style=\"text-align: right;\">\n",
       "      <th></th>\n",
       "      <th>genes</th>\n",
       "    </tr>\n",
       "  </thead>\n",
       "  <tbody>\n",
       "    <tr>\n",
       "      <th>0</th>\n",
       "      <td> b3317</td>\n",
       "    </tr>\n",
       "    <tr>\n",
       "      <th>1</th>\n",
       "      <td> b3320</td>\n",
       "    </tr>\n",
       "    <tr>\n",
       "      <th>2</th>\n",
       "      <td> b3319</td>\n",
       "    </tr>\n",
       "    <tr>\n",
       "      <th>3</th>\n",
       "      <td> b3313</td>\n",
       "    </tr>\n",
       "    <tr>\n",
       "      <th>4</th>\n",
       "      <td> b3315</td>\n",
       "    </tr>\n",
       "    <tr>\n",
       "      <th>5</th>\n",
       "      <td> b3318</td>\n",
       "    </tr>\n",
       "    <tr>\n",
       "      <th>6</th>\n",
       "      <td> b3314</td>\n",
       "    </tr>\n",
       "    <tr>\n",
       "      <th>7</th>\n",
       "      <td> b3321</td>\n",
       "    </tr>\n",
       "    <tr>\n",
       "      <th>8</th>\n",
       "      <td> b3316</td>\n",
       "    </tr>\n",
       "  </tbody>\n",
       "</table>\n",
       "</div>"
      ],
      "text/plain": [
       "   genes\n",
       "0  b3317\n",
       "1  b3320\n",
       "2  b3319\n",
       "3  b3313\n",
       "4  b3315\n",
       "5  b3318\n",
       "6  b3314\n",
       "7  b3321\n",
       "8  b3316"
      ]
     },
     "execution_count": 2,
     "metadata": {},
     "output_type": "execute_result"
    }
   ],
   "source": [
    "corem_1 = coremFinder( x = 1, x_type = \"corem\", y_type = \"genes\", host=host, db=db)\n",
    "corem_1"
   ]
  },
  {
   "cell_type": "markdown",
   "metadata": {},
   "source": [
    "There are several things to note in this query.\n",
    "\n",
    "First the arguments:\n",
    "- `x` specfies the query. This can be `gene(s)`, `condition(s)`, `GRE(s)`, or `edge(s)`. `x` can be a single entity or a list of entitites of the same type. \n",
    "- `x_type` indicates the type of `x`. This can include `gene`, `condition`, `gres`, and `edges`. Basically: \"what is x?\" The parameter typing is pretty flexible, so - for example - `rows` can be used instead of `genes`.\n",
    "- `y_type` is the type of. Again, `genes`, `conditions`, `gres`, or `edges`. \n",
    "- `host` specifies where the MongoDB database is running. In this case it is running on a machine called `baligadev`. If you are hosting the database locally this would be `localhost`\n",
    "- `db` is the name of the database you want to perform the query in. Typically databases are specified by the three letter organism code (e.g., **eco**) followed by **_db**. A list of maintained databases is available <a href=\"../check_dbs.ipynb\">here</a>.\n",
    "\n",
    "Also notice that corems (like GREs) are named as integer values. \n",
    "\n",
    "It should also be noted that corems are ordered by their weighted-density. Thus, corem `#1` is the most densly connected corem in the network. Basically, this means that each gene in the corem is co-discovered frequently in biclusters with every other gene in that corem (strongly connected subnetwork). \n",
    "\n",
    "Here we see that if we translate the names of these genes, we find that they are part of a ribosomal operon, which makes sense in light of the fact that ribosomal genes are tightly co-expressed."
   ]
  },
  {
   "cell_type": "code",
   "execution_count": 5,
   "metadata": {
    "collapsed": false
   },
   "outputs": [
    {
     "name": "stdout",
     "output_type": "stream",
     "text": [
      "Reverting to translation by single matches. Defining 'input_type' will dramatically speed up query.\n"
     ]
    },
    {
     "data": {
      "text/plain": [
       "[u'rplB',\n",
       " u'rplC',\n",
       " u'rplD',\n",
       " u'rplP',\n",
       " u'rplV',\n",
       " u'rplW',\n",
       " u'rpsC',\n",
       " u'rpsJ',\n",
       " u'rpsS']"
      ]
     },
     "execution_count": 5,
     "metadata": {},
     "output_type": "execute_result"
    }
   ],
   "source": [
    "row2id_batch(corem_1.genes.tolist(), return_field = \"name\", host=host, db=db)"
   ]
  },
  {
   "cell_type": "markdown",
   "metadata": {},
   "source": [
    "#### Example 2: Find corems for a specific gene\n",
    "\n",
    "More commonly, you want to know the corems to which a particualr gene belongs.\n",
    "\n",
    "This can be accomplished by changing `x`, `x_type`, and `y_type`, as follows:"
   ]
  },
  {
   "cell_type": "code",
   "execution_count": 6,
   "metadata": {
    "collapsed": false
   },
   "outputs": [
    {
     "name": "stdout",
     "output_type": "stream",
     "text": [
      "Reverting to translation by single matches. Defining 'input_type' will dramatically speed up query.\n"
     ]
    },
    {
     "data": {
      "text/html": [
       "<div style=\"max-height:1000px;max-width:1500px;overflow:auto;\">\n",
       "<table border=\"1\" class=\"dataframe\">\n",
       "  <thead>\n",
       "    <tr style=\"text-align: right;\">\n",
       "      <th></th>\n",
       "      <th>corems</th>\n",
       "    </tr>\n",
       "  </thead>\n",
       "  <tbody>\n",
       "    <tr>\n",
       "      <th>0</th>\n",
       "      <td> 107</td>\n",
       "    </tr>\n",
       "    <tr>\n",
       "      <th>1</th>\n",
       "      <td> 471</td>\n",
       "    </tr>\n",
       "    <tr>\n",
       "      <th>2</th>\n",
       "      <td> 835</td>\n",
       "    </tr>\n",
       "    <tr>\n",
       "      <th>3</th>\n",
       "      <td> 847</td>\n",
       "    </tr>\n",
       "  </tbody>\n",
       "</table>\n",
       "</div>"
      ],
      "text/plain": [
       "   corems\n",
       "0     107\n",
       "1     471\n",
       "2     835\n",
       "3     847"
      ]
     },
     "execution_count": 6,
     "metadata": {},
     "output_type": "execute_result"
    }
   ],
   "source": [
    "carA_corems = coremFinder( x = \"carA\", x_type = \"gene\", y_type = \"corems\", host=host, db=db)\n",
    "carA_corems"
   ]
  },
  {
   "cell_type": "markdown",
   "metadata": {},
   "source": [
    "We can see from this query that *carA* belongs to four corems. We could retrieve the genes in these corems like in `Example 1`:"
   ]
  },
  {
   "cell_type": "code",
   "execution_count": 8,
   "metadata": {
    "collapsed": false,
    "scrolled": true
   },
   "outputs": [
    {
     "data": {
      "text/html": [
       "<div style=\"max-height:1000px;max-width:1500px;overflow:auto;\">\n",
       "<table border=\"1\" class=\"dataframe\">\n",
       "  <thead>\n",
       "    <tr style=\"text-align: right;\">\n",
       "      <th></th>\n",
       "      <th>genes</th>\n",
       "    </tr>\n",
       "  </thead>\n",
       "  <tbody>\n",
       "    <tr>\n",
       "      <th>0 </th>\n",
       "      <td> b0002</td>\n",
       "    </tr>\n",
       "    <tr>\n",
       "      <th>1 </th>\n",
       "      <td> b0003</td>\n",
       "    </tr>\n",
       "    <tr>\n",
       "      <th>2 </th>\n",
       "      <td> b0004</td>\n",
       "    </tr>\n",
       "    <tr>\n",
       "      <th>3 </th>\n",
       "      <td> b0032</td>\n",
       "    </tr>\n",
       "    <tr>\n",
       "      <th>4 </th>\n",
       "      <td> b0033</td>\n",
       "    </tr>\n",
       "    <tr>\n",
       "      <th>5 </th>\n",
       "      <td> b0197</td>\n",
       "    </tr>\n",
       "    <tr>\n",
       "      <th>6 </th>\n",
       "      <td> b0198</td>\n",
       "    </tr>\n",
       "    <tr>\n",
       "      <th>7 </th>\n",
       "      <td> b0273</td>\n",
       "    </tr>\n",
       "    <tr>\n",
       "      <th>8 </th>\n",
       "      <td> b0287</td>\n",
       "    </tr>\n",
       "    <tr>\n",
       "      <th>9 </th>\n",
       "      <td> b0336</td>\n",
       "    </tr>\n",
       "    <tr>\n",
       "      <th>10</th>\n",
       "      <td> b0337</td>\n",
       "    </tr>\n",
       "    <tr>\n",
       "      <th>11</th>\n",
       "      <td> b0522</td>\n",
       "    </tr>\n",
       "    <tr>\n",
       "      <th>12</th>\n",
       "      <td> b0523</td>\n",
       "    </tr>\n",
       "    <tr>\n",
       "      <th>13</th>\n",
       "      <td> b0572</td>\n",
       "    </tr>\n",
       "    <tr>\n",
       "      <th>14</th>\n",
       "      <td> b0573</td>\n",
       "    </tr>\n",
       "    <tr>\n",
       "      <th>15</th>\n",
       "      <td> b0750</td>\n",
       "    </tr>\n",
       "    <tr>\n",
       "      <th>16</th>\n",
       "      <td> b0754</td>\n",
       "    </tr>\n",
       "    <tr>\n",
       "      <th>17</th>\n",
       "      <td> b0775</td>\n",
       "    </tr>\n",
       "    <tr>\n",
       "      <th>18</th>\n",
       "      <td> b0776</td>\n",
       "    </tr>\n",
       "    <tr>\n",
       "      <th>19</th>\n",
       "      <td> b0777</td>\n",
       "    </tr>\n",
       "    <tr>\n",
       "      <th>20</th>\n",
       "      <td> b0778</td>\n",
       "    </tr>\n",
       "    <tr>\n",
       "      <th>21</th>\n",
       "      <td> b0860</td>\n",
       "    </tr>\n",
       "    <tr>\n",
       "      <th>22</th>\n",
       "      <td> b0907</td>\n",
       "    </tr>\n",
       "    <tr>\n",
       "      <th>23</th>\n",
       "      <td> b0908</td>\n",
       "    </tr>\n",
       "    <tr>\n",
       "      <th>24</th>\n",
       "      <td> b0931</td>\n",
       "    </tr>\n",
       "    <tr>\n",
       "      <th>25</th>\n",
       "      <td> b0945</td>\n",
       "    </tr>\n",
       "    <tr>\n",
       "      <th>26</th>\n",
       "      <td> b1062</td>\n",
       "    </tr>\n",
       "    <tr>\n",
       "      <th>27</th>\n",
       "      <td> b1761</td>\n",
       "    </tr>\n",
       "    <tr>\n",
       "      <th>28</th>\n",
       "      <td> b1849</td>\n",
       "    </tr>\n",
       "    <tr>\n",
       "      <th>29</th>\n",
       "      <td> b2103</td>\n",
       "    </tr>\n",
       "    <tr>\n",
       "      <th>...</th>\n",
       "      <td>...</td>\n",
       "    </tr>\n",
       "    <tr>\n",
       "      <th>45</th>\n",
       "      <td> b3089</td>\n",
       "    </tr>\n",
       "    <tr>\n",
       "      <th>46</th>\n",
       "      <td> b3172</td>\n",
       "    </tr>\n",
       "    <tr>\n",
       "      <th>47</th>\n",
       "      <td> b3212</td>\n",
       "    </tr>\n",
       "    <tr>\n",
       "      <th>48</th>\n",
       "      <td> b3213</td>\n",
       "    </tr>\n",
       "    <tr>\n",
       "      <th>49</th>\n",
       "      <td> b3359</td>\n",
       "    </tr>\n",
       "    <tr>\n",
       "      <th>50</th>\n",
       "      <td> b3654</td>\n",
       "    </tr>\n",
       "    <tr>\n",
       "      <th>51</th>\n",
       "      <td> b3769</td>\n",
       "    </tr>\n",
       "    <tr>\n",
       "      <th>52</th>\n",
       "      <td> b3770</td>\n",
       "    </tr>\n",
       "    <tr>\n",
       "      <th>53</th>\n",
       "      <td> b3771</td>\n",
       "    </tr>\n",
       "    <tr>\n",
       "      <th>54</th>\n",
       "      <td> b3772</td>\n",
       "    </tr>\n",
       "    <tr>\n",
       "      <th>55</th>\n",
       "      <td> b3774</td>\n",
       "    </tr>\n",
       "    <tr>\n",
       "      <th>56</th>\n",
       "      <td> b3824</td>\n",
       "    </tr>\n",
       "    <tr>\n",
       "      <th>57</th>\n",
       "      <td> b3829</td>\n",
       "    </tr>\n",
       "    <tr>\n",
       "      <th>58</th>\n",
       "      <td> b3941</td>\n",
       "    </tr>\n",
       "    <tr>\n",
       "      <th>59</th>\n",
       "      <td> b3956</td>\n",
       "    </tr>\n",
       "    <tr>\n",
       "      <th>60</th>\n",
       "      <td> b3958</td>\n",
       "    </tr>\n",
       "    <tr>\n",
       "      <th>61</th>\n",
       "      <td> b3959</td>\n",
       "    </tr>\n",
       "    <tr>\n",
       "      <th>62</th>\n",
       "      <td> b3960</td>\n",
       "    </tr>\n",
       "    <tr>\n",
       "      <th>63</th>\n",
       "      <td> b4005</td>\n",
       "    </tr>\n",
       "    <tr>\n",
       "      <th>64</th>\n",
       "      <td> b4006</td>\n",
       "    </tr>\n",
       "    <tr>\n",
       "      <th>65</th>\n",
       "      <td> b4013</td>\n",
       "    </tr>\n",
       "    <tr>\n",
       "      <th>66</th>\n",
       "      <td> b4019</td>\n",
       "    </tr>\n",
       "    <tr>\n",
       "      <th>67</th>\n",
       "      <td> b4024</td>\n",
       "    </tr>\n",
       "    <tr>\n",
       "      <th>68</th>\n",
       "      <td> b4030</td>\n",
       "    </tr>\n",
       "    <tr>\n",
       "      <th>69</th>\n",
       "      <td> b4064</td>\n",
       "    </tr>\n",
       "    <tr>\n",
       "      <th>70</th>\n",
       "      <td> b4244</td>\n",
       "    </tr>\n",
       "    <tr>\n",
       "      <th>71</th>\n",
       "      <td> b4245</td>\n",
       "    </tr>\n",
       "    <tr>\n",
       "      <th>72</th>\n",
       "      <td> b4246</td>\n",
       "    </tr>\n",
       "    <tr>\n",
       "      <th>73</th>\n",
       "      <td> b4254</td>\n",
       "    </tr>\n",
       "    <tr>\n",
       "      <th>74</th>\n",
       "      <td> b4488</td>\n",
       "    </tr>\n",
       "  </tbody>\n",
       "</table>\n",
       "<p>75 rows × 1 columns</p>\n",
       "</div>"
      ],
      "text/plain": [
       "    genes\n",
       "0   b0002\n",
       "1   b0003\n",
       "2   b0004\n",
       "3   b0032\n",
       "4   b0033\n",
       "5   b0197\n",
       "6   b0198\n",
       "7   b0273\n",
       "8   b0287\n",
       "9   b0336\n",
       "10  b0337\n",
       "11  b0522\n",
       "12  b0523\n",
       "13  b0572\n",
       "14  b0573\n",
       "15  b0750\n",
       "16  b0754\n",
       "17  b0775\n",
       "18  b0776\n",
       "19  b0777\n",
       "20  b0778\n",
       "21  b0860\n",
       "22  b0907\n",
       "23  b0908\n",
       "24  b0931\n",
       "25  b0945\n",
       "26  b1062\n",
       "27  b1761\n",
       "28  b1849\n",
       "29  b2103\n",
       "..    ...\n",
       "45  b3089\n",
       "46  b3172\n",
       "47  b3212\n",
       "48  b3213\n",
       "49  b3359\n",
       "50  b3654\n",
       "51  b3769\n",
       "52  b3770\n",
       "53  b3771\n",
       "54  b3772\n",
       "55  b3774\n",
       "56  b3824\n",
       "57  b3829\n",
       "58  b3941\n",
       "59  b3956\n",
       "60  b3958\n",
       "61  b3959\n",
       "62  b3960\n",
       "63  b4005\n",
       "64  b4006\n",
       "65  b4013\n",
       "66  b4019\n",
       "67  b4024\n",
       "68  b4030\n",
       "69  b4064\n",
       "70  b4244\n",
       "71  b4245\n",
       "72  b4246\n",
       "73  b4254\n",
       "74  b4488\n",
       "\n",
       "[75 rows x 1 columns]"
      ]
     },
     "execution_count": 8,
     "metadata": {},
     "output_type": "execute_result"
    }
   ],
   "source": [
    "coremFinder( x = carA_corems.corems.tolist(), x_type = \"corems\", y_type = \"genes\", host=host, db=db)"
   ]
  },
  {
   "cell_type": "markdown",
   "metadata": {},
   "source": [
    "####Example 3: Logical operations\n",
    "\n",
    "Similar to the `agglom` function we can implement logical operations. For example, if we wanted to know the genes that belonged to *all* of the corems in which *carA* is a member we would simply set `logic = \"and\"`"
   ]
  },
  {
   "cell_type": "code",
   "execution_count": 9,
   "metadata": {
    "collapsed": false
   },
   "outputs": [
    {
     "name": "stdout",
     "output_type": "stream",
     "text": [
      "No genes found\n"
     ]
    }
   ],
   "source": [
    "coremFinder( x = carA_corems.corems.tolist(), x_type = \"corems\", y_type = \"genes\", host=host, db=db, logic = \"and\")"
   ]
  }
 ],
 "metadata": {
  "kernelspec": {
   "display_name": "Python 2",
   "language": "python",
   "name": "python2"
  },
  "language_info": {
   "codemirror_mode": {
    "name": "ipython",
    "version": 2
   },
   "file_extension": ".py",
   "mimetype": "text/x-python",
   "name": "python",
   "nbconvert_exporter": "python",
   "pygments_lexer": "ipython2",
   "version": "2.7.6"
  }
 },
 "nbformat": 4,
 "nbformat_minor": 0
}
