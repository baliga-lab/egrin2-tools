{
 "metadata": {
  "name": "",
  "signature": "sha256:db1931d0c1c1066ba5ee894359f0641475ca02d2077fcab36c20d2b21020561b"
 },
 "nbformat": 3,
 "nbformat_minor": 0,
 "worksheets": [
  {
   "cells": [
    {
     "cell_type": "markdown",
     "metadata": {},
     "source": [
      "<div align=\"right\" style=\"border: 2px solid;border-radius: 5px;background-color:lightgrey;padding-bottom:10px;padding-right:20px;\"><h1><a style=\"color:black;text-decoration:none;\" title=\"Home\" href=\"index.ipynb\"><i vertical-align=\"middle\" class=\"icon-home\"></i></a>&nbsp;&nbsp;<a style=\"color:black;text-decoration:none;\" title=\"Build\" href=\"build.ipynb\"><i vertical-align=\"middle\" class=\"icon-wrench\"></i></a>&nbsp;&nbsp;<a style=\"color:black;text-decoration:none;\" title=\"Assemble\" href=\"assemble.ipynb\"><i vertical-align=\"middle\" class=\"icon-shopping-cart\"></i></a>&nbsp;&nbsp;<a style=\"color:black;text-decoration:none;\" title=\"Query\" href=\"query.ipynb\"><i vertical-align=\"middle\" class=\"icon-ok\"></i></a></h1></div>\n",
      "\n",
      "<h1>BUILD</h1>"
     ]
    },
    {
     "cell_type": "heading",
     "level": 3,
     "metadata": {},
     "source": [
      "***Do you need an EGRIN 2.0 ensemble?*** "
     ]
    },
    {
     "cell_type": "markdown",
     "metadata": {},
     "source": [
      "*Good! You've come to the right place.*\n",
      "\n",
      "We've already developed ensembles for several commonly studied microbes, including *E. coli* and *Mycobacterium tuberculosis*. Consult our list of available ensembles to see if we've already developed a model for your organism. \n",
      "\n",
      "If you don't see your organism listed, it's time to think about building an ensemble of your own. The tools described here will help you do that provided you have or can assemble a compendium of transcriptome profiles (e.g hundreds of microarrays). Larger datasets are generally better. If you need help, you can [contact us](https://www.systemsbiology.org/baliga-group) for guidance. \n",
      "\n",
      "*If you need to build an ensemble you should first familiarize yourself with the python-based [cMonkey2](https://github.com/baliga-lab/cmonkey2/wiki) algorithm*\n",
      "\n",
      "So what is an EGRIN 2.0 ensemble? Essentially it is the product of running cMonkey2 (a non-deterministic, integrated biclustering) many times to subsets of your experimental data and then applying some graphic theoretic principles to infer a highly accurate, condition-specfic gene regulatory network. \n",
      "\n",
      "*Why?* Read our [paper]((http://msb.embopress.org/content/10/7/740.long)\n",
      "\n",
      "These tools help build custom ensembles. In short, they automatically configure cMonkey2 runs and generate QSub scripts for submitting many cMonkey2 jobs to a Sun Grid Engine (SGE) scheduler. \n",
      "\n",
      "Obviously for these to work, you will need:\n",
      "\n",
      "- Access to a cluster running the SGE scheduler\n",
      "- [cMonkey2](https://github.com/baliga-lab/cmonkey2/wiki) installed on that cluster.\n"
     ]
    }
   ],
   "metadata": {}
  }
 ]
}