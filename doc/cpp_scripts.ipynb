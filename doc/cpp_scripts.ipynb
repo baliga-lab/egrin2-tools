{
 "metadata": {
  "name": "",
  "signature": "sha256:c6df88f70c5230353b7ad75b63329191c58dca65a23f6ca58cadf31c5ebeb284"
 },
 "nbformat": 3,
 "nbformat_minor": 0,
 "worksheets": [
  {
   "cells": [
    {
     "cell_type": "markdown",
     "metadata": {},
     "source": [
      "<div align=\"right\" style=\"border: 2px solid;border-radius: 5px;background-color:lightgrey;padding-bottom:10px;padding-right:20px;\"><h1><a style=\"color:black;text-decoration:none;\" title=\"Home\" href=\"index.ipynb\"><i vertical-align=\"middle\" class=\"icon-home\"></i></a>&nbsp;&nbsp;<a style=\"color:black;text-decoration:none;\" title=\"Build\" href=\"build.ipynb\"><i vertical-align=\"middle\" class=\"icon-wrench\"></i></a>&nbsp;&nbsp;<a style=\"color:black;text-decoration:none;\" title=\"Assemble\" href=\"assemble.ipynb\"><i vertical-align=\"middle\" class=\"icon-shopping-cart\"></i></a>&nbsp;&nbsp;<a style=\"color:black;text-decoration:none;\" title=\"Query\" href=\"query.ipynb\"><i vertical-align=\"middle\" class=\"icon-ok\"></i></a></h1></div>\n",
      "\n",
      "<h1> How to install required C++ scripts </h1>"
     ]
    },
    {
     "cell_type": "markdown",
     "metadata": {},
     "source": [
      "You will need a C compiler to compile the code, e.g. g++"
     ]
    },
    {
     "cell_type": "markdown",
     "metadata": {},
     "source": [
      "There are four scripts that must be compiled and added to your bash $PATH environmental variable. These include:\n",
      "\n",
      "* adjmat2wpairs.cpp\n",
      "* cluster_communities.cpp\n",
      "* compute_tanimoto.cpp\n",
      "* getting_communities.cpp\n",
      "\n",
      "The scripts are required to compute corems from an EGRIN 2.0 ensemble.\n",
      "\n",
      "You can install these scripts in `/usr/local/bin/` or wherever you store executables. \n",
      "\n",
      "The processing scripts require that you can call these by their exact name, e.g. `adjmat2wpairs.cpp` should be called as `adjmat2wpairs`"
     ]
    },
    {
     "cell_type": "code",
     "collapsed": false,
     "input": [
      "from IPython import utils\n",
      "from IPython.core.display import HTML\n",
      "import os\n",
      "def css_styling():\n",
      "    \"\"\"Load default custom.css file from ipython profile\"\"\"\n",
      "    base = utils.path.get_ipython_dir()\n",
      "    styles = \"<style>\\n%s\\n</style>\" % (open(os.path.join(base,'profile_default/static/custom/custom.css'),'r').read())\n",
      "    return HTML(styles)\n",
      "css_styling()"
     ],
     "language": "python",
     "metadata": {},
     "outputs": [
      {
       "html": [
        "<style>\n",
        "/*\n",
        "Placeholder for custom user CSS\n",
        "\n",
        "mainly to be overridden in profile/static/custom/custom.css\n",
        "\n",
        "This will always be an empty file in IPython\n",
        "*/\n",
        "</style>"
       ],
       "metadata": {},
       "output_type": "pyout",
       "prompt_number": 2,
       "text": [
        "<IPython.core.display.HTML at 0x104ebdd50>"
       ]
      }
     ],
     "prompt_number": 2
    },
    {
     "cell_type": "code",
     "collapsed": false,
     "input": [],
     "language": "python",
     "metadata": {},
     "outputs": []
    }
   ],
   "metadata": {}
  }
 ]
}