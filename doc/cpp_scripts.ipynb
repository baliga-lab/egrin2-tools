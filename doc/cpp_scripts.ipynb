{
 "metadata": {
  "name": "",
  "signature": "sha256:4a173403afc97c7552dd97cdeda37c722562d532a3e5c0392f02a4ca5c89626f"
 },
 "nbformat": 3,
 "nbformat_minor": 0,
 "worksheets": [
  {
   "cells": [
    {
     "cell_type": "heading",
     "level": 1,
     "metadata": {},
     "source": [
      "How to install required C++ scripts"
     ]
    },
    {
     "cell_type": "markdown",
     "metadata": {},
     "source": [
      "You will need a C compiler to compile the code, e.g. g++"
     ]
    },
    {
     "cell_type": "markdown",
     "metadata": {},
     "source": [
      "There are four scripts that must be compiled and added to your bash $PATH environmental variable. These include:\n",
      "\n",
      "* adjmat2wpairs.cpp\n",
      "* cluster_communities.cpp\n",
      "* compute_tanimoto.cpp\n",
      "* getting_communities.cpp\n",
      "\n",
      "The scripts are required to compute corems from an EGRIN 2.0 ensemble.\n",
      "\n",
      "You can install these scripts in `/usr/local/bin/` or wherever you store executables. \n",
      "\n",
      "The processing scripts require that you can call these by their exact name, e.g. `adjmat2wpairs.cpp` should be called as `adjmat2wpairs`"
     ]
    }
   ],
   "metadata": {}
  }
 ]
}