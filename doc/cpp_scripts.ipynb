{
 "metadata": {
  "name": "",
  "signature": "sha256:82b32433b961273a7a9a9a375f2728f645887b06aeff8665efde66bc2a1782e4"
 },
 "nbformat": 3,
 "nbformat_minor": 0,
 "worksheets": [
  {
   "cells": [
    {
     "cell_type": "heading",
     "level": 1,
     "metadata": {},
     "source": [
      "How to install required C++ scripts"
     ]
    },
    {
     "cell_type": "markdown",
     "metadata": {},
     "source": [
      "You will need a C compiler to compile the code, e.g. g++"
     ]
    },
    {
     "cell_type": "markdown",
     "metadata": {},
     "source": [
      "There are four scripts that must be compiled and added to your bash $PATH environmental variable. These include:\n",
      "\n",
      "*\n",
      "*\n",
      "*\n",
      "*\n",
      "\n",
      "You  "
     ]
    }
   ],
   "metadata": {}
  }
 ]
}