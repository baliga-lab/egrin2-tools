{
 "metadata": {
  "name": "",
  "signature": "sha256:d6a4253b7499909a6fb8acef9023044cfa4602c7275a5c8dfcf4708270a3cfb5"
 },
 "nbformat": 3,
 "nbformat_minor": 0,
 "worksheets": [
  {
   "cells": [
    {
     "cell_type": "markdown",
     "metadata": {},
     "source": [
      "<div align=\"right\" vertical-align=\"middle\" style=\"border: 2px solid;border-radius: 5px;background-color:lightgrey;padding:5px;padding-right:20px;padding-left:10px;\">\n",
      "        <a style=\"color:black;text-decoration:none;\" title=\"Home\" href=\"index.ipynb\">\n",
      "            <img src=\"../css/iconmonstr-christmas-house-icon.svg\" height = \"30\" width = \"30\" style=\"display:inline\">\n",
      "        </a>\n",
      "        &nbsp;\n",
      "        <b>|</b>\n",
      "        &nbsp;\n",
      "        <a style=\"color:black;text-decoration:none;\" title=\"Build\" href=\"build.ipynb\">\n",
      "            <img src=\"../css/iconmonstr-puzzle-icon.svg\" height = \"30\" width = \"30\" style=\"display:inline\">\n",
      "        </a>\n",
      "        <a style=\"color:black;text-decoration:none;\" title=\"Assemble\" href=\"assemble.ipynb\">\n",
      "            <img src=\"../css/iconmonstr-puzzle-17-icon.svg\" height = \"30\" width = \"30\" style=\"display:inline\">\n",
      "        </a>\n",
      "        <a style=\"color:black;text-decoration:none;\" title=\"Query\" href=\"query.ipynb\">\n",
      "            <img src=\"../css/iconmonstr-flask-3-icon.svg\" height = \"30\" width = \"30\" style=\"display:inline\">\n",
      "        </a>\n",
      "</div>\n",
      "\n",
      "<h1>QUERY</h1>"
     ]
    },
    {
     "cell_type": "code",
     "collapsed": false,
     "input": [],
     "language": "python",
     "metadata": {},
     "outputs": []
    }
   ],
   "metadata": {}
  }
 ]
}