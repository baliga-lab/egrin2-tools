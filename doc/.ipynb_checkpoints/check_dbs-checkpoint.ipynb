{
 "metadata": {
  "name": "",
  "signature": "sha256:d9cf01462a12b3f30ba52a84ef766d7f218c77f7bd81864e6d2de7846aa9a136"
 },
 "nbformat": 3,
 "nbformat_minor": 0,
 "worksheets": [
  {
   "cells": [
    {
     "cell_type": "markdown",
     "metadata": {},
     "source": [
      "<div align=\"right\" vertical-align=\"middle\" style=\"border: 2px solid;border-radius: 5px;background-color:lightgrey;padding:5px;padding-right:20px;padding-left:10px;\">\n",
      "        <a style=\"color:black;text-decoration:none;\" title=\"Home\" href=\"index.ipynb\">\n",
      "            <img src=\"../css/iconmonstr-christmas-house-icon.svg\" height = \"30\" width = \"30\" style=\"display:inline\">\n",
      "        </a>\n",
      "        &nbsp;\n",
      "        <b>|</b>\n",
      "        &nbsp;\n",
      "        <a style=\"color:black;text-decoration:none;\" title=\"Build\" href=\"build.ipynb\">\n",
      "            <img src=\"../css/iconmonstr-puzzle-icon.svg\" height = \"30\" width = \"30\" style=\"display:inline\">\n",
      "        </a>\n",
      "        <a style=\"color:black;text-decoration:none;\" title=\"Assemble\" href=\"assemble.ipynb\">\n",
      "            <img src=\"../css/iconmonstr-puzzle-17-icon.svg\" height = \"30\" width = \"30\" style=\"display:inline\">\n",
      "        </a>\n",
      "        <a style=\"color:black;text-decoration:none;\" title=\"Query\" href=\"query.ipynb\">\n",
      "            <img src=\"../css/iconmonstr-flask-3-icon.svg\" height = \"30\" width = \"30\" style=\"display:inline\">\n",
      "        </a>\n",
      "</div>\n",
      "\n",
      "<h1>Check available ensembles</h1>"
     ]
    },
    {
     "cell_type": "code",
     "collapsed": false,
     "input": [
      "from pymongo import MongoClient\n",
      "import pandas as pd\n",
      "\n",
      "client = MongoClient( 'mongodb://'+\"primordial\"+':'+\"27017\"+'/' )\n",
      "dbs = {}\n",
      "for i in client.database_names():\n",
      "        try:\n",
      "            org = client[i].ensemble_info.find_one()[\"species\"]\n",
      "            if i not in dbs.keys() and org not in dbs.values():\n",
      "                dbs[i] = org\n",
      "            else:\n",
      "                pass\n",
      "        except Exception:\n",
      "            pass\n",
      "\n",
      "dbs_df = pd.DataFrame().from_dict(dbs,'index').sort()\n",
      "dbs_df.index.name = \"db_name\"\n",
      "dbs_df.columns = [\"organism\"]\n",
      "\n",
      "print \"Currently available databases include:\\n\"\n",
      "\n",
      "dbs_df"
     ],
     "language": "python",
     "metadata": {},
     "outputs": [
      {
       "output_type": "stream",
       "stream": "stdout",
       "text": [
        "Currently available databases include:\n",
        "\n"
       ]
      },
      {
       "html": [
        "<div style=\"max-height:1000px;max-width:1500px;overflow:auto;\">\n",
        "<table border=\"1\" class=\"dataframe\">\n",
        "  <thead>\n",
        "    <tr style=\"text-align: right;\">\n",
        "      <th></th>\n",
        "      <th>organism</th>\n",
        "    </tr>\n",
        "    <tr>\n",
        "      <th>db_name</th>\n",
        "      <th></th>\n",
        "    </tr>\n",
        "  </thead>\n",
        "  <tbody>\n",
        "    <tr>\n",
        "      <th>eco_db</th>\n",
        "      <td>             Escherichia_coli_K12</td>\n",
        "    </tr>\n",
        "    <tr>\n",
        "      <th>mtu_db</th>\n",
        "      <td> Mycobacterium_tuberculosis_H37Rv</td>\n",
        "    </tr>\n",
        "  </tbody>\n",
        "</table>\n",
        "</div>"
       ],
       "metadata": {},
       "output_type": "pyout",
       "prompt_number": 8,
       "text": [
        "                                 organism\n",
        "db_name                                  \n",
        "eco_db               Escherichia_coli_K12\n",
        "mtu_db   Mycobacterium_tuberculosis_H37Rv"
       ]
      }
     ],
     "prompt_number": 8
    }
   ],
   "metadata": {}
  }
 ]
}