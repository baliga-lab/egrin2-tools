{
 "cells": [
  {
   "cell_type": "markdown",
   "metadata": {},
   "source": [
    "<div align=\"right\" vertical-align=\"middle\" style=\"border: 2px solid;border-radius: 5px;background-color:lightgrey;padding:5px;padding-right:20px;padding-left:10px;\">\n",
    "        <a style=\"color:black;text-decoration:none;\" title=\"Home\" href=\"index.ipynb\">\n",
    "            <img src=\"../css/iconmonstr-christmas-house-icon.svg\" height = \"30\" width = \"30\" style=\"display:inline\">\n",
    "        </a>\n",
    "        &nbsp;\n",
    "        <b>|</b>\n",
    "        &nbsp;\n",
    "        <a style=\"color:black;text-decoration:none;\" title=\"Build\" href=\"./build_docs/build.ipynb\">\n",
    "            <img src=\"../css/iconmonstr-puzzle-icon.svg\" height = \"30\" width = \"30\" style=\"display:inline\">\n",
    "        </a>\n",
    "        <a style=\"color:black;text-decoration:none;\" title=\"Assemble\" href=\"./assemble_docs/assemble.ipynb\">\n",
    "            <img src=\"../css/iconmonstr-puzzle-17-icon.svg\" height = \"30\" width = \"30\" style=\"display:inline\">\n",
    "        </a>\n",
    "        <a style=\"color:black;text-decoration:none;\" title=\"Query\" href=\"./query_docs/query.ipynb\">\n",
    "            <img src=\"../css/iconmonstr-flask-3-icon.svg\" height = \"30\" width = \"30\" style=\"display:inline\">\n",
    "        </a>\n",
    "</div>\n",
    "\n",
    "<h1>Check available ensembles</h1>"
   ]
  },
  {
   "cell_type": "code",
   "execution_count": 1,
   "metadata": {
    "collapsed": false
   },
   "outputs": [
    {
     "name": "stdout",
     "output_type": "stream",
     "text": [
      "Currently available databases include:\n",
      "\n",
      "Database state retrieved: 2015-03-16 20:19:46.360292 UTC\n"
     ]
    },
    {
     "data": {
      "text/html": [
       "<div style=\"max-height:1000px;max-width:1500px;overflow:auto;\">\n",
       "<table border=\"1\" class=\"dataframe\">\n",
       "  <thead>\n",
       "    <tr style=\"text-align: right;\">\n",
       "      <th></th>\n",
       "      <th>organism</th>\n",
       "    </tr>\n",
       "    <tr>\n",
       "      <th>db_name</th>\n",
       "      <th></th>\n",
       "    </tr>\n",
       "  </thead>\n",
       "  <tbody>\n",
       "    <tr>\n",
       "      <th>eco_db</th>\n",
       "      <td>             Escherichia_coli_K12</td>\n",
       "    </tr>\n",
       "    <tr>\n",
       "      <th>mtu_db</th>\n",
       "      <td> Mycobacterium_tuberculosis_H37Rv</td>\n",
       "    </tr>\n",
       "  </tbody>\n",
       "</table>\n",
       "</div>"
      ],
      "text/plain": [
       "                                 organism\n",
       "db_name                                  \n",
       "eco_db               Escherichia_coli_K12\n",
       "mtu_db   Mycobacterium_tuberculosis_H37Rv"
      ]
     },
     "execution_count": 1,
     "metadata": {},
     "output_type": "execute_result"
    }
   ],
   "source": [
    "from pymongo import MongoClient\n",
    "import pandas as pd\n",
    "import datetime\n",
    "\n",
    "host = \"baligadev\"\n",
    "port = str( 27017 )\n",
    "\n",
    "client = MongoClient( 'mongodb://' + host +':'+ port +'/' )\n",
    "dbs = {}\n",
    "for i in client.database_names():\n",
    "        try:\n",
    "            org = client[i].ensemble_info.find_one()[\"species\"]\n",
    "            if i not in dbs.keys() and org not in dbs.values():\n",
    "                dbs[i] = org\n",
    "            else:\n",
    "                pass\n",
    "        except Exception:\n",
    "            pass\n",
    "\n",
    "dbs_df = pd.DataFrame().from_dict(dbs,'index').sort()\n",
    "dbs_df.index.name = \"db_name\"\n",
    "dbs_df.columns = [\"organism\"]\n",
    "\n",
    "print \"Currently available databases include:\\n\"\n",
    "print \"Database state retrieved: %s UTC\" %  str(datetime.datetime.utcnow())\n",
    "\n",
    "dbs_df\n",
    "\n"
   ]
  }
 ],
 "metadata": {
  "kernelspec": {
   "display_name": "Python 2",
   "language": "python",
   "name": "python2"
  },
  "language_info": {
   "codemirror_mode": {
    "name": "ipython",
    "version": 2
   },
   "file_extension": ".py",
   "mimetype": "text/x-python",
   "name": "python",
   "nbconvert_exporter": "python",
   "pygments_lexer": "ipython2",
   "version": "2.7.6"
  }
 },
 "nbformat": 4,
 "nbformat_minor": 0
}
