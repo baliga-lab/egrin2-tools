{
 "metadata": {
  "name": "",
  "signature": "sha256:5ccf58a61298be8fe4d966b7ce2a8046a30fe4459016ffe80292b63ca215d2e4"
 },
 "nbformat": 3,
 "nbformat_minor": 0,
 "worksheets": [
  {
   "cells": [
    {
     "cell_type": "markdown",
     "metadata": {},
     "source": [
      "<div align=\"right\" vertical-align=\"middle\" style=\"border: 2px solid;border-radius: 5px;background-color:lightgrey;padding:5px;padding-right:20px;padding-left:10px;\">\n",
      "        <a style=\"color:black;text-decoration:none;\" title=\"Home\" href=\"index.ipynb\">\n",
      "            <img src=\"../css/iconmonstr-christmas-house-icon.svg\" height = \"30\" width = \"30\" style=\"display:inline\">\n",
      "        </a>\n",
      "        &nbsp;\n",
      "        <b>|</b>\n",
      "        &nbsp;\n",
      "        <a style=\"color:black;text-decoration:none;\" title=\"Build\" href=\"build.ipynb\">\n",
      "            <img src=\"../css/iconmonstr-puzzle-icon.svg\" height = \"30\" width = \"30\" style=\"display:inline\">\n",
      "        </a>\n",
      "        <a style=\"color:black;text-decoration:none;\" title=\"Assemble\" href=\"assemble.ipynb\">\n",
      "            <img src=\"../css/iconmonstr-puzzle-17-icon.svg\" height = \"30\" width = \"30\" style=\"display:inline\">\n",
      "        </a>\n",
      "        <a style=\"color:black;text-decoration:none;\" title=\"Query\" href=\"query.ipynb\">\n",
      "            <img src=\"../css/iconmonstr-flask-3-icon.svg\" height = \"30\" width = \"30\" style=\"display:inline\">\n",
      "        </a>\n",
      "</div>\n",
      "\n",
      "<h1>BUILD</h1>"
     ]
    },
    {
     "cell_type": "markdown",
     "metadata": {},
     "source": [
      "<h3>Do you need an EGRIN 2.0 ensemble?</h3> \n",
      "\n",
      "*Good! You've come to the right place.*\n",
      "\n",
      "We've already developed ensembles for several commonly studied microbes, including *E. coli* and *Mycobacterium tuberculosis*. Consult our list of available ensembles to see if we've already developed a model for your organism. "
     ]
    },
    {
     "cell_type": "code",
     "collapsed": false,
     "input": [
      "from pymongo import MongoClient\n",
      "client = MongoClient( 'mongodb://'+\"primordial\"+':'+\"27017\"+'/' )\n",
      "dbs = {}\n",
      "for i in client.database_names():\n",
      "        try:\n",
      "            org = client[i].ensemble_info.find_one()[\"species\"]\n",
      "            if i not in dbs.keys() and org not in dbs.values():\n",
      "                dbs[i] = org\n",
      "        except Exception:\n",
      "            print \"Fail\"\n"
     ],
     "language": "python",
     "metadata": {},
     "outputs": [],
     "prompt_number": 2
    },
    {
     "cell_type": "markdown",
     "metadata": {},
     "source": [
      "If you don't see your organism listed, it's time to think about building an ensemble of your own. The tools described here will help you do that provided you have or can assemble a compendium of transcriptome profiles (e.g hundreds of microarrays). Larger datasets are generally better. If you need help, you can [contact us](https://www.systemsbiology.org/baliga-group) for guidance. \n",
      "\n",
      "*If you need to build an ensemble you should first familiarize yourself with the python-based [cMonkey2](https://github.com/baliga-lab/cmonkey2/wiki) algorithm*\n",
      "\n",
      "<h3> What is an EGRIN 2.0 ensemble? </h3> \n",
      "\n",
      "Essentially it is the product of running cMonkey2 (a non-deterministic, integrated biclustering) many times to subsets of your experimental data and then applying some graphic theoretic principles to infer a highly accurate, condition-specfic gene regulatory network. \n",
      "\n",
      "*Why?* Read our [paper]((http://msb.embopress.org/content/10/7/740.long)\n",
      "\n",
      "<h3> What do the `BUILD` tools do? </h3> \n",
      "\n",
      "These tools help build custom ensembles. In short, they automatically configure cMonkey2 runs and generate QSub scripts for submitting many cMonkey2 jobs to a Sun Grid Engine (SGE) scheduler.\n",
      "\n",
      "The tools generate cMonkey2 runs with slightly different parameterizations and different . If you supply `BLOCK` definitions for the experimental conditions, including `INCLUSION BLOCKS` and `EXCLUSION BLOCKS`. \n",
      "\n",
      "<h3> Requirements </h3>\n",
      "\n",
      "Obviously for these to work, you will need:\n",
      "\n",
      "- Access to a cluster running the SGE scheduler\n",
      "- [cMonkey2](https://github.com/baliga-lab/cmonkey2/wiki) installed on that cluster.\n",
      "\n",
      "in addition to the system requirments listed on the [home page](index.pynb)\n",
      "\n",
      "<h3> Tutorial </h3>\n",
      "\n",
      "If you meet all of the requirements, follow our tutorial. "
     ]
    },
    {
     "cell_type": "code",
     "collapsed": false,
     "input": [],
     "language": "python",
     "metadata": {},
     "outputs": []
    }
   ],
   "metadata": {}
  }
 ]
}