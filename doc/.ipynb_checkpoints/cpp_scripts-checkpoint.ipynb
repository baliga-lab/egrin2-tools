{
 "metadata": {
  "name": "",
  "signature": "sha256:43a37d6d9962329cc000aefb66d1f9cd4a6579ebb59e8133f6fed446afb507d9"
 },
 "nbformat": 3,
 "nbformat_minor": 0,
 "worksheets": [
  {
   "cells": [
    {
     "cell_type": "markdown",
     "metadata": {},
     "source": [
      "<div align=\"right\" style=\"border: 2px solid;border-radius: 5px;background-color:lightgrey;padding-bottom:10px;padding-right:20px;\"><h1><a class=\"hover\" style=\"color:black;text-decoration:none;\" title=\"Home\" href=\"index.ipynb\"><i vertical-align=\"middle\" class=\"icon-home\"></i></a>&nbsp;&nbsp;<i vertical-align=\"middle\" class=\"icon-wrench\"></i>&nbsp;&nbsp;<i vertical-align=\"middle\" class=\"icon-shopping-cart\"></i>&nbsp;&nbsp;<i vertical-align=\"middle\" class=\"icon-ok\"></i></h1></div>\n",
      "\n",
      "<h1> How to install required C++ scripts </h1>"
     ]
    },
    {
     "cell_type": "markdown",
     "metadata": {},
     "source": [
      "You will need a C compiler to compile the code, e.g. g++"
     ]
    },
    {
     "cell_type": "markdown",
     "metadata": {},
     "source": [
      "There are four scripts that must be compiled and added to your bash $PATH environmental variable. These include:\n",
      "\n",
      "* adjmat2wpairs.cpp\n",
      "* cluster_communities.cpp\n",
      "* compute_tanimoto.cpp\n",
      "* getting_communities.cpp\n",
      "\n",
      "The scripts are required to compute corems from an EGRIN 2.0 ensemble.\n",
      "\n",
      "You can install these scripts in `/usr/local/bin/` or wherever you store executables. \n",
      "\n",
      "The processing scripts require that you can call these by their exact name, e.g. `adjmat2wpairs.cpp` should be called as `adjmat2wpairs`"
     ]
    }
   ],
   "metadata": {}
  }
 ]
}