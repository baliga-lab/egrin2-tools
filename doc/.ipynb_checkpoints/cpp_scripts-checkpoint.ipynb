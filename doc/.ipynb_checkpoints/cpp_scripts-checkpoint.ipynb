{
 "metadata": {
  "name": "",
  "signature": "sha256:997a2a76eaffae24877a830b8a68666647f29e40a591ef9989e1474402e07bf4"
 },
 "nbformat": 3,
 "nbformat_minor": 0,
 "worksheets": [
  {
   "cells": [
    {
     "cell_type": "markdown",
     "metadata": {},
     "source": [
      "<div align=\"right\" vertical-align=\"middle\" style=\"border: 2px solid;border-radius: 5px;background-color:lightgrey;padding:5px;padding-right:20px;padding-left:10px;\">\n",
      "        <a style=\"color:black;text-decoration:none;\" title=\"Home\" href=\"index.ipynb\">\n",
      "            <img src=\"../css/iconmonstr-christmas-house-icon.svg\" height = \"30\" width = \"30\" style=\"display:inline\">\n",
      "        </a>\n",
      "        &nbsp;\n",
      "        <b>|</b>\n",
      "        &nbsp;\n",
      "        <a style=\"color:black;text-decoration:none;\" title=\"Build\" href=\"build.ipynb\">\n",
      "            <img src=\"../css/iconmonstr-puzzle-icon.svg\" height = \"30\" width = \"30\" style=\"display:inline\">\n",
      "        </a>\n",
      "        <a style=\"color:black;text-decoration:none;\" title=\"Assemble\" href=\"assemble.ipynb\">\n",
      "            <img src=\"../css/iconmonstr-puzzle-17-icon.svg\" height = \"30\" width = \"30\" style=\"display:inline\">\n",
      "        </a>\n",
      "        <a style=\"color:black;text-decoration:none;\" title=\"Query\" href=\"query.ipynb\">\n",
      "            <img src=\"../css/iconmonstr-flask-3-icon.svg\" height = \"30\" width = \"30\" style=\"display:inline\">\n",
      "        </a>\n",
      "</div>\n",
      "\n",
      "<h1> How to install required C++ scripts </h1>"
     ]
    },
    {
     "cell_type": "markdown",
     "metadata": {},
     "source": [
      "You will need a C compiler to compile the code, e.g. g++"
     ]
    },
    {
     "cell_type": "markdown",
     "metadata": {},
     "source": [
      "There are four scripts that must be compiled and added to your bash $PATH environmental variable. These include:\n",
      "\n",
      "* adjmat2wpairs.cpp\n",
      "* cluster_communities.cpp\n",
      "* compute_tanimoto.cpp\n",
      "* getting_communities.cpp\n",
      "\n",
      "The scripts are required to compute corems from an EGRIN 2.0 ensemble.\n",
      "\n",
      "You can install these scripts in `/usr/local/bin/` or wherever you store executables. \n",
      "\n",
      "The processing scripts require that you can call these by their exact name, e.g. `adjmat2wpairs.cpp` should be called as `adjmat2wpairs`\n",
      "\n",
      "Each of these scripts can be compiled, e.g. with g++\n",
      "\n",
      "`you@Computer ~/Where/you/are $ g++ -O3 -o name-of-script name-of-script.cpp`\n",
      "\n",
      "Finally, the path to wherever you compiled the script must be added to your bash $PATH.\n",
      "\n",
      "After re-sourcing your `bash_profile` or `.bashrc`, you should be able to call each of these from the command line by their name, e.g.:\n",
      "\n",
      "`you@Computer ~/Where/you/are $ name-of-script`"
     ]
    }
   ],
   "metadata": {}
  }
 ]
}