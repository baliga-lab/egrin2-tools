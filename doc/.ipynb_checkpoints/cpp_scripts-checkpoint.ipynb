{
 "metadata": {
  "name": "",
  "signature": "sha256:85aaef6d149170c519c3b46a404b8e12e09995ecddb042f84e4a54cfa8d06310"
 },
 "nbformat": 3,
 "nbformat_minor": 0,
 "worksheets": []
}