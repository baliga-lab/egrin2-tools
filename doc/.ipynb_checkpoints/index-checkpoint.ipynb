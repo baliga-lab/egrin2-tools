{
 "metadata": {
  "name": ""
 },
 "nbformat": 3,
 "nbformat_minor": 0,
 "worksheets": [
  {
   "cells": [
    {
     "cell_type": "heading",
     "level": 1,
     "metadata": {},
     "source": [
      "Welcome to the EGRIN 2.0 *wiki*"
     ]
    },
    {
     "cell_type": "markdown",
     "metadata": {},
     "source": [
      "These documents will introduce you to the EGRIN 2.0 ensemble and all of its associated tools. Given a little bit of your time and patience, you will learn how to:\n",
      "\n",
      "- Build \n",
      "- Assemble \n",
      "- Query\n",
      "\n",
      "an EGRIN 2.0 ensemble. \n",
      "\n",
      "This *wiki* is an iPython notebook, which means that code, visualizations, and other neat stuff that will help you figure out the madness are directly embedded. Even better, you can download these files or copy snippets of code, modify them, and run them on your machine to make them do what you want. Think of it as a living template.\n",
      "\n",
      "Fancy. I know.\n",
      "\n",
      "Most of the tools were developed by [Aaron Brooks](http://www.aaron-brooks.org/) with help from [David Reiss](http://www.systemsbiology.org/David-Reiss), [Wei-ju Wu](https://github.com/weiju), and [Micheleen Harris](https://github.com/micheleenharris). \n",
      "\n",
      "Comments and questions can be addressed to [Wei-ju Wu](https://github.com/weiju).  \n",
      "\n",
      "Have fun!\n",
      "\n",
      "> [Aaron Brooks](http://www.aaron-brooks.org/), Feb 2015"
     ]
    },
    {
     "cell_type": "code",
     "collapsed": false,
     "input": [],
     "language": "python",
     "metadata": {},
     "outputs": []
    }
   ],
   "metadata": {}
  }
 ]
}