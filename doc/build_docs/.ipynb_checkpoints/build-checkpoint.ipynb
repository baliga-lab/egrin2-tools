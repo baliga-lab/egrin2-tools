{
 "cells": [
  {
   "cell_type": "markdown",
   "metadata": {},
   "source": [
    "<div align=\"right\" vertical-align=\"middle\" style=\"border: 2px solid;border-radius: 5px;background-color:lightgrey;padding:5px;padding-right:20px;padding-left:10px;\">\n",
    "        <a style=\"color:black;text-decoration:none;\" title=\"Home\" href=\"../index.ipynb\">\n",
    "            <img src=\"../../css/iconmonstr-christmas-house-icon.svg\" height = \"30\" width = \"30\" style=\"display:inline\">\n",
    "        </a>\n",
    "        &nbsp;\n",
    "        <b>|</b>\n",
    "        &nbsp;\n",
    "        <a style=\"color:black;text-decoration:none;\" title=\"Build\" href=\"build.ipynb\">\n",
    "            <img src=\"../../css/iconmonstr-puzzle-icon.svg\" height = \"30\" width = \"30\" style=\"display:inline\">\n",
    "        </a>\n",
    "        <a style=\"color:black;text-decoration:none;\" title=\"Assemble\" href=\"../assemble_docs/assemble.ipynb\">\n",
    "            <img src=\"../../css/iconmonstr-puzzle-17-icon.svg\" height = \"30\" width = \"30\" style=\"display:inline\">\n",
    "        </a>\n",
    "        <a style=\"color:black;text-decoration:none;\" title=\"Query\" href=\"../query_docs/query.ipynb\">\n",
    "            <img src=\"../../css/iconmonstr-flask-3-icon.svg\" height = \"30\" width = \"30\" style=\"display:inline\">\n",
    "        </a>\n",
    "</div>\n",
    "\n",
    "<h1>BUILD</h1>"
   ]
  },
  {
   "cell_type": "markdown",
   "metadata": {},
   "source": [
    "<h3>Do you need an `EGRIN 2.0` ensemble?</h3> \n",
    "\n",
    "*Good! You've come to the right place.*\n",
    "\n",
    "We've already developed ensembles for several commonly studied microbes, including *E. coli* and *Mycobacterium tuberculosis*. Consult our [list of available ensembles](../check_dbs.ipynb) to see if we've already developed a model for your organism. \n",
    "\n",
    "If you don't see your organism listed, it's time to think about building an ensemble of your own. The tools described here will help you do that provided you have or can assemble a compendium of transcriptome profiles (e.g hundreds of microarrays). Larger datasets are generally better. If you need help, you can [contact us](https://www.systemsbiology.org/baliga-group) for guidance. \n",
    "\n",
    "*If you need to build an ensemble you should first familiarize yourself with the python-based [cMonkey2](https://github.com/baliga-lab/cmonkey2/wiki) algorithm*\n",
    "\n",
    "<h3> What is an `EGRIN 2.0` ensemble? </h3> \n",
    "\n",
    "An EGRIN 2.0 ensemble is the result of running `cMonkey2` (a non-deterministic, integrated biclustering algorithm) many times to infer highly-accurate, condition-specfic gene regulatory networks. \n",
    "\n",
    "*Why?* Read our [paper]((http://msb.embopress.org/content/10/7/740.long)\n",
    "\n",
    "<h3> What do the `BUILD` tools do? </h3> \n",
    "\n",
    "These tools help build custom ensembles. In short, they automatically configure cMonkey2 runs and generate QSub scripts for submitting many `cMonkey2` jobs to a Sun Grid Engine (SGE) scheduler.\n",
    "\n",
    "The tools generate cMonkey2 runs with slightly different parameterizations for training on subsets of the available experimental data. If you supply `BLOCK` definitions for the experimental conditions, including `INCLUSION BLOCKS` and `EXCLUSION BLOCKS`, the subsets of experimental data can be chosen intelligently. More about this in the [tutorial](build_tutorial_1.ipynb). \n",
    "\n",
    "<h3> Requirements </h3>\n",
    "\n",
    "Obviously for these to work, you will need:\n",
    "\n",
    "- Access to a cluster running the SGE scheduler\n",
    "- [cMonkey2](https://github.com/baliga-lab/cmonkey2/wiki) installed on that cluster.\n",
    "\n",
    "in addition to the system requirments listed on the [home page](../index.ipynb)\n",
    "\n",
    "<h3> Tutorial </h3>\n",
    "\n",
    "If you meet all of the requirements and are ready to build an ensemble from scratch, continue to our [tutorial](build_tutorial_1.ipynb). "
   ]
  }
 ],
 "metadata": {
  "kernelspec": {
   "display_name": "Python 2",
   "language": "python",
   "name": "python2"
  },
  "language_info": {
   "codemirror_mode": {
    "name": "ipython",
    "version": 2
   },
   "file_extension": ".py",
   "mimetype": "text/x-python",
   "name": "python",
   "nbconvert_exporter": "python",
   "pygments_lexer": "ipython2",
   "version": "2.7.6"
  }
 },
 "nbformat": 4,
 "nbformat_minor": 0
}
