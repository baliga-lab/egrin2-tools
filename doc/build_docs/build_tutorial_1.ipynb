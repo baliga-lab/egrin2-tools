{
 "cells": [
  {
   "cell_type": "markdown",
   "metadata": {},
   "source": [
    "<div align=\"right\" vertical-align=\"middle\" style=\"border: 2px solid;border-radius: 5px;background-color:lightgrey;padding:5px;padding-right:20px;padding-left:10px;\">\n",
    "        <a style=\"color:black;text-decoration:none;\" title=\"Home\" href=\"../index.ipynb\">\n",
    "            <img src=\"../../css/iconmonstr-christmas-house-icon.svg\" height = \"30\" width = \"30\" style=\"display:inline\">\n",
    "        </a>\n",
    "        &nbsp;\n",
    "        <b>|</b>\n",
    "        &nbsp;\n",
    "        <a style=\"color:black;text-decoration:none;\" title=\"Build\" href=\"build.ipynb\">\n",
    "            <img src=\"../../css/iconmonstr-puzzle-icon.svg\" height = \"30\" width = \"30\" style=\"display:inline\">\n",
    "        </a>\n",
    "        <a style=\"color:black;text-decoration:none;\" title=\"Assemble\" href=\"../assemble_docs/assemble.ipynb\">\n",
    "            <img src=\"../../css/iconmonstr-puzzle-17-icon.svg\" height = \"30\" width = \"30\" style=\"display:inline\">\n",
    "        </a>\n",
    "        <a style=\"color:black;text-decoration:none;\" title=\"Query\" href=\"../query_docs/query.ipynb\">\n",
    "            <img src=\"../../css/iconmonstr-flask-3-icon.svg\" height = \"30\" width = \"30\" style=\"display:inline\">\n",
    "        </a>\n",
    "</div>\n",
    "\n",
    "\n",
    "<h1>TUTORIAL: Build an EGRIN 2.0 Ensemble</h1>"
   ]
  },
  {
   "cell_type": "markdown",
   "metadata": {
    "collapsed": false
   },
   "source": [
    "### In a nutshell\n",
    "\n",
    "The `BUILD` scripts configure [cMonkey2](https://github.com/baliga-lab/cmonkey2) to run on an SGE managed cluster. In the process, they change several cMonkey2 parameters to generate variability in each run. They also choose experiments to include in each run according to user-provided annotations.\n",
    "\n",
    "### Requirements\n",
    "\n",
    "User must supply several files, including:\n",
    "\n",
    "- `ratios`: a Tab-delimited or Comma-separated file containing a matrix of gene expression values across all conditions.\n",
    "- `blocks`: a Comma-separated file containing annotations for each condition.\n",
    "- `inclusion_blocks`: : a Comma-separated file containing groups of blocks to be co-included in runs.\n",
    "- `exclusion_blocks`: : a Comma-separated file containing groups of blocks to be co-excluded in runs.\n",
    "\n",
    "Optionally:\n",
    "- `pipeline`: a JSON file containing custom scoring pipeline. Currently only set-enrichment pipeline is supported\n",
    "- `setenrich_files`: Comma-separated files containing set-enrichment sets. Multiple files should be separated by a comma.\n",
    "\n",
    "The format for each of these files will be described in detail below.\n",
    "\n",
    "We have provided [example files](./static/example_files/) for building an *Mycobacterium Tuberculosis* ensemble. The data come from the following publications:\n",
    "\n",
    "[EJR Peterson, DJ Reiss, S Turkarslan, KJ Minch, T Rustad, CL Plaisier, WJR Longabaugh, DR Sherman, NS Baliga. (2014). A high-resolution network model for global gene regulation in Mycobacterium tuberculosis. *Nucleic Acids Research*.](http://nar.oxfordjournals.org/content/early/2014/09/17/nar.gku777.full)\n",
    "\n",
    "[TR Rustad, KJ Minch, S Ma, JK Winkler, S Hobbes, MJ Hickey, W Brabant, S Turkarslan, ND Price, NS Baliga and DR Sherman. (2014). Mapping and manipulating the Mycobacterium tuberculosis transcriptome using a transcription factor overexpression-derived regulatory network. *Genome Biology*](http://genomebiology.com/2014/15/11/502/abstract)\n",
    "\n",
    "[KJ Minch, TR Rustad, EJR Peterson, J Winkler, DJ Reiss, S Ma, M Hickey, W Brabant, B Morrison, S Turkaslan, C Mawhinney, JE Galagan, ND Price, NS Baliga, DR. Sherman. (2014). The DNA-binding network of Mycobacterium tuberculosis. *Nature Communications*](http://www.nature.com/ncomms/2015/150112/ncomms6829/full/ncomms6829.html)\n",
    "\n",
    "Additionally, the Python modules described on the [Home page](../index.ipynb) are required to run tese scripts.\n",
    "\n",
    "### Scripts\n",
    "\n",
    "`cMonkeyQSub.py`: The control function for `BUILD` scripts. Writes QSub script.\n",
    "\n",
    "`cMonkeyIniGen.py`: Templating function to generate cMonkey2 initialization (.ini) files.\n",
    "\n",
    "`ensemblePicker.py`: Picks experiments to include in a run given user-supplied experimental blocks"
   ]
  },
  {
   "cell_type": "markdown",
   "metadata": {},
   "source": [
    "### `BUILD` an EGRIN 2.0 ensemble\n",
    "\n",
    "In this tutorial we will `BUILD` an ensemble for *Mycobacterium tuberculosis* using several example files, which we supply [here](./static/example_files/)\n",
    "\n",
    "\n",
    "### STEP 1: Generate required input files\n",
    "\n",
    "\n",
    "First, let's explore the required files.\n",
    "\n",
    "#### `ratios.csv.gz`\n",
    "\n",
    "A Tab-delimited or Comma-separated file containing a matrix of gene expression values across all conditions. Rows should correspond to genes and columns to individual conditions, as in the example file below.\n",
    "\n",
    "<img src=\"./static/ratios.png\" height = \"75%\" width = \"75%\" style=\"display:inline\">\n",
    "\n",
    "#### `blocks.csv.gz`\n",
    "\n",
    "A Tab-delimited or Comma-separated file containing the block membership for each experiment in the dataset as below.\n",
    "\n",
    "<img src=\"./static/blocks.png\" height = \"75%\" width = \"75%\" style=\"display:inline\">\n",
    "\n",
    "#### `inclusion_blocks.csv.gz`\n",
    "\n",
    "A Tab-delimited or Comma-separated file containing definitions for groups of `blocks` to be co-included in a cMonkey2 run, as defined above. These blocks are not **strictly** co-included in every cMonkey2 run, rather placement of a `block` into an `inclusion block` increases the likelihood that a particular `block` will be selected given that another block from its `inclusion block` has already been included in a particular cMonkey run. \n",
    "\n",
    "Each group of `blocks` should be separated by `:::`, as indicated in the template below. The names of each block should be the same as those defined in `blocks.csv.gz` above.\n",
    "\n",
    "The `block.sample.num` column is not required, but can be useful for evaluating the blocks.\n",
    "\n",
    "<img src=\"./static/inclusion_blocks.png\" height = \"75%\" width = \"75%\" style=\"display:inline\">\n",
    "\n",
    "#### `exclusion_blocks.csv.gz`\n",
    "\n",
    "A Tab-delimited or Comma-separated file containing definitions for groups of `blocks` to be co-excluded from a cMonkey2 run. Typically these blocks are defined for testing purposes. If they are not defined, several random `exclusion blocks` will be defined in order to evaluate model over-fitting (to be implemented) \n",
    "\n",
    "The format for the `exclusion blocks` is the same as the `inclusion blocks` before. Each group of `blocks` should be separated by `:::`, as indicated in the template below. The names of each block refer to those defined in `blocks.csv.gz` above.\n",
    "\n",
    "Again, the `block.sample.num` column is not required.\n",
    "\n",
    "<img src=\"./static/exclusion_blocks.png\" height = \"75%\" width = \"75%\" style=\"display:inline\">\n",
    "\n",
    "Each of these files need to be supplied by the user. \n",
    "\n",
    "### (Optional) Generate custom scoring pipeline and files\n",
    "\n",
    "[cMonkey2](https://github.com/baliga-lab/cmonkey2) can use a custom scoring pipeline. Currently, this is limited to set-enrichment.\n",
    "\n",
    "In this example, we will generate an ensemble. We do so by providing several additional options to the `cMonkeyQSub.py` function, namely:\n",
    "\n",
    "-`pipeline`: a JSON file containing custom scoring pipeline. Currently only set-enrichment pipeline is supported\n",
    "-`setenrich`: Name(s) of set enrichment 'sets' to include. Names should be comma separated.\n",
    "-`setenrich_files`: Comma-separated files containing set-enrichment sets. Multiple files should be separated by a comma.\n",
    "\n",
    "Users interested in building [custom scoring pipelines](https://github.com/baliga-lab/cmonkey2/wiki/configuration-and-run-options) or [configuring set-enrichment](https://github.com/baliga-lab/cmonkey2/wiki/Set-Enrichment-Setup) should consult the [cMonkey2 documentation](https://github.com/baliga-lab/cmonkey2/wiki/).\n",
    "\n",
    "### STEP 2: Call `cMonkeyQSub.py`\n",
    "\n",
    "Generating an ensemble configuration entails calling a single Python script. There are a number of required and optional parameters that can be passed to this command line function, which are described below:"
   ]
  },
  {
   "cell_type": "code",
   "execution_count": 3,
   "metadata": {
    "collapsed": false,
    "scrolled": true
   },
   "outputs": [
    {
     "name": "stdout",
     "output_type": "stream",
     "text": [
      "usage: cMonkeyQSub.py [-h] --organism ORGANISM --ratios RATIOS --targetdir\n",
      "                      TARGETDIR [--numruns NUMRUNS] [--ncbi_code NCBI_CODE]\n",
      "                      [--mincols MINCOLS] [--num_cores NUM_CORES]\n",
      "                      [--max_tasks MAX_TASKS] [--user USER] [--csh]\n",
      "                      [--blocks BLOCKS] [--inclusion INCLUSION]\n",
      "                      [--exclusion EXCLUSION] [--pipeline PIPELINE]\n",
      "                      [--setenrich SETENRICH]\n",
      "                      [--setenrich_files SETENRICH_FILES]\n",
      "\n",
      "cMonkeyQSub.py - prepare cluster runs\n",
      "\n",
      "optional arguments:\n",
      "  -h, --help            show this help message and exit\n",
      "  --organism ORGANISM   3 letter organism code\n",
      "  --ratios RATIOS       Path to ratios file\n",
      "  --targetdir TARGETDIR\n",
      "                        Path to output directory\n",
      "  --numruns NUMRUNS     Number of cMonkey2 runs to configure\n",
      "  --ncbi_code NCBI_CODE\n",
      "                        NCBI organism code\n",
      "  --mincols MINCOLS     Minimum number of experiments to include in a cMonkey2\n",
      "                        run\n",
      "  --num_cores NUM_CORES\n",
      "                        Number of cores on cluster to request\n",
      "  --max_tasks MAX_TASKS\n",
      "                        Maximum number of jobs to be sent to the cluster at a\n",
      "                        time\n",
      "  --user USER           Cluster user name\n",
      "  --csh                 Flag to indicate C Shell\n",
      "  --blocks BLOCKS       Path to block definitions\n",
      "  --inclusion INCLUSION\n",
      "                        Path to inclusion block definitions\n",
      "  --exclusion EXCLUSION\n",
      "                        Path to exclusion block definitions\n",
      "  --pipeline PIPELINE   Path to scoring pipeline config file\n",
      "  --setenrich SETENRICH\n",
      "                        Name(s) of set enrichment 'sets' to include. Names\n",
      "                        should be comma separated.\n",
      "  --setenrich_files SETENRICH_FILES\n",
      "                        Set enrichment files. File paths should be comma\n",
      "                        separated.\n"
     ]
    }
   ],
   "source": [
    "%run ../../build/cMonkeyQSub.py -h"
   ]
  },
  {
   "cell_type": "markdown",
   "metadata": {},
   "source": [
    "Here we will concentrate on the required arguments.\n",
    "\n",
    "#### Required Arguments\n",
    "\n",
    "- organism: 3-letter organism code\n",
    "- ratios: ratios file described above\n",
    "- targetdir: location of a directory in which to configure the cMonkey2 runs\n",
    "\n",
    "If you do not supply `block` files as described above, the experiments to include in each run will be choosen randomly. Several random `exclusion_blocks` will be defined for testing (currently not supported - block files must be supplied / ANB 03042015)\n",
    "\n",
    "To generate. \n",
    "\n",
    "Here we will assume that the required files are in the local working directory. Furthermore, we will assume that the `cMonkeyQSub.py` is in the working directory and that all of the required modules are in your $PYTHONPATH. \n",
    "\n",
    "For the example, we will generate 5 cMonkey2 runs.\n",
    "\n",
    "On the command line this is as follows:\n",
    "\n",
    "`python cMonkeyQSub.py --organism mtu --ratios ratios.csv --targetdir mtu-ens-2014 --numruns 10 --blocks blocks.csv --inclusion inclusion_blocks.csv --exclusion exclusion_blocks.csv --pipeline setenrich_pipeline.json --setenrich chipseq,tfoe --setenrich_files ChIPSeq.csv,DE.csv --csh`\n",
    "\n",
    "Optionally you can run this within the iPython, assuming you have the entire Git repository."
   ]
  },
  {
   "cell_type": "code",
   "execution_count": 22,
   "metadata": {
    "collapsed": false
   },
   "outputs": [
    {
     "name": "stdout",
     "output_type": "stream",
     "text": [
      "Choosing ensemble conditions\n",
      "Writing reports\n",
      "Writing ratio files\n",
      "Done\n",
      "Writing ensemble config files\n"
     ]
    },
    {
     "ename": "IndexError",
     "evalue": "list index out of range",
     "output_type": "error",
     "traceback": [
      "\u001b[0;31m---------------------------------------------------------------------------\u001b[0m",
      "\u001b[0;31mIndexError\u001b[0m                                Traceback (most recent call last)",
      "\u001b[0;32m/Users/abrooks/Documents/git/egrin2-tools/build/cMonkeyQSub.py\u001b[0m in \u001b[0;36m<module>\u001b[0;34m()\u001b[0m\n\u001b[1;32m    157\u001b[0m         \u001b[0;32melse\u001b[0m\u001b[0;34m:\u001b[0m\u001b[0;34m\u001b[0m\u001b[0m\n\u001b[1;32m    158\u001b[0m           \u001b[0mset_choice_files\u001b[0m \u001b[0;34m=\u001b[0m \u001b[0;34m(\u001b[0m\u001b[0;34m\",\"\u001b[0m\u001b[0;34m)\u001b[0m\u001b[0;34m.\u001b[0m\u001b[0mjoin\u001b[0m\u001b[0;34m(\u001b[0m \u001b[0;34m[\u001b[0m \u001b[0mset_file_ref\u001b[0m\u001b[0;34m[\u001b[0m \u001b[0mx\u001b[0m \u001b[0;34m]\u001b[0m \u001b[0;32mfor\u001b[0m \u001b[0mx\u001b[0m \u001b[0;32min\u001b[0m \u001b[0mset_choice\u001b[0m\u001b[0;34m.\u001b[0m\u001b[0msplit\u001b[0m\u001b[0;34m(\u001b[0m \u001b[0;34m\",\"\u001b[0m \u001b[0;34m)\u001b[0m \u001b[0;34m]\u001b[0m \u001b[0;34m)\u001b[0m\u001b[0;34m\u001b[0m\u001b[0m\n\u001b[0;32m--> 159\u001b[0;31m           \u001b[0mini\u001b[0m \u001b[0;34m=\u001b[0m \u001b[0mcMonkeyIniGen\u001b[0m\u001b[0;34m(\u001b[0m \u001b[0mdict\u001b[0m\u001b[0;34m(\u001b[0m \u001b[0mconfig_params\u001b[0m\u001b[0;34m.\u001b[0m\u001b[0mitems\u001b[0m\u001b[0;34m(\u001b[0m\u001b[0;34m)\u001b[0m \u001b[0;34m+\u001b[0m \u001b[0;34m[\u001b[0m \u001b[0;34m(\u001b[0m \u001b[0;34m\"random_seed\"\u001b[0m\u001b[0;34m,\u001b[0m \u001b[0mi\u001b[0m \u001b[0;34m)\u001b[0m\u001b[0;34m,\u001b[0m \u001b[0;34m(\u001b[0m \u001b[0;34m\"set_types\"\u001b[0m\u001b[0;34m,\u001b[0m \u001b[0mset_choice\u001b[0m \u001b[0;34m)\u001b[0m\u001b[0;34m,\u001b[0m \u001b[0;34m(\u001b[0m \u001b[0;34m\"set_file\"\u001b[0m\u001b[0;34m,\u001b[0m \u001b[0mset_choice_files\u001b[0m \u001b[0;34m)\u001b[0m\u001b[0;34m,\u001b[0m \u001b[0;34m(\u001b[0m\u001b[0;34m\"pipeline_file\"\u001b[0m\u001b[0;34m,\u001b[0m \u001b[0margs\u001b[0m\u001b[0;34m.\u001b[0m\u001b[0mpipeline\u001b[0m \u001b[0;34m)\u001b[0m \u001b[0;34m]\u001b[0m \u001b[0;34m)\u001b[0m \u001b[0;34m)\u001b[0m\u001b[0;34m\u001b[0m\u001b[0m\n\u001b[0m\u001b[1;32m    160\u001b[0m           \u001b[0mini\u001b[0m\u001b[0;34m.\u001b[0m\u001b[0mwriteIni\u001b[0m\u001b[0;34m(\u001b[0m \u001b[0mos\u001b[0m\u001b[0;34m.\u001b[0m\u001b[0mpath\u001b[0m\u001b[0;34m.\u001b[0m\u001b[0mjoin\u001b[0m\u001b[0;34m(\u001b[0m \u001b[0margs\u001b[0m\u001b[0;34m.\u001b[0m\u001b[0mtargetdir\u001b[0m\u001b[0;34m,\u001b[0m \u001b[0;34m\"config-%03d.ini\"\u001b[0m \u001b[0;34m%\u001b[0m \u001b[0mi\u001b[0m \u001b[0;34m)\u001b[0m \u001b[0;34m)\u001b[0m\u001b[0;34m\u001b[0m\u001b[0m\n\u001b[1;32m    161\u001b[0m       \u001b[0;32melse\u001b[0m\u001b[0;34m:\u001b[0m\u001b[0;34m\u001b[0m\u001b[0m\n",
      "\u001b[0;32m/Users/abrooks/Documents/git/egrin2-tools/build/cMonkeyIniGen.pyc\u001b[0m in \u001b[0;36m__init__\u001b[0;34m(self, params)\u001b[0m\n\u001b[1;32m    236\u001b[0m                         \u001b[0mparams\u001b[0m\u001b[0;34m[\u001b[0m \u001b[0;34m\"max_width\"\u001b[0m \u001b[0;34m]\u001b[0m \u001b[0;34m=\u001b[0m \u001b[0mrandom\u001b[0m\u001b[0;34m.\u001b[0m\u001b[0mrandint\u001b[0m\u001b[0;34m(\u001b[0m\u001b[0;36m12\u001b[0m\u001b[0;34m,\u001b[0m \u001b[0;36m30\u001b[0m\u001b[0;34m)\u001b[0m\u001b[0;34m\u001b[0m\u001b[0m\n\u001b[1;32m    237\u001b[0m                 \u001b[0;32mif\u001b[0m \u001b[0;34m\"background_order\"\u001b[0m \u001b[0;32mnot\u001b[0m \u001b[0;32min\u001b[0m \u001b[0mparams\u001b[0m\u001b[0;34m.\u001b[0m\u001b[0mkeys\u001b[0m\u001b[0;34m(\u001b[0m\u001b[0;34m)\u001b[0m\u001b[0;34m:\u001b[0m\u001b[0;34m\u001b[0m\u001b[0m\n\u001b[0;32m--> 238\u001b[0;31m                         \u001b[0mbg_r\u001b[0m \u001b[0;34m=\u001b[0m \u001b[0mrandom\u001b[0m\u001b[0;34m.\u001b[0m\u001b[0mchoice\u001b[0m\u001b[0;34m(\u001b[0m \u001b[0mBGORDER\u001b[0m \u001b[0;34m)\u001b[0m\u001b[0;34m\u001b[0m\u001b[0m\n\u001b[0m\u001b[1;32m    239\u001b[0m                         \u001b[0;32mprint\u001b[0m \u001b[0mbg_r\u001b[0m\u001b[0;34m\u001b[0m\u001b[0m\n\u001b[1;32m    240\u001b[0m                         \u001b[0mparams\u001b[0m\u001b[0;34m[\u001b[0m \u001b[0;34m\"background_order\"\u001b[0m \u001b[0;34m]\u001b[0m \u001b[0;34m=\u001b[0m \u001b[0mbg_r\u001b[0m\u001b[0;34m\u001b[0m\u001b[0m\n",
      "\u001b[0;31mIndexError\u001b[0m: list index out of range"
     ]
    }
   ],
   "source": [
    "%run ../../build/cMonkeyQSub.py --organism mtu --ratios ./static/example_files/ratios.csv --targetdir mtu-ens-2014 --numruns 5 --blocks ./static/example_files/blocks.csv --inclusion ./static/example_files/inclusion_blocks.csv --exclusion ./static/example_files/exclusion_blocks.csv --pipeline ./static/example_files/setenrich_pipeline.json --setenrich chipseq,tfoe --setenrich_files ./static/example_files/ChIPSeq.csv,./static/example_files/DE.csv --csh"
   ]
  }
 ],
 "metadata": {
  "kernelspec": {
   "display_name": "Python 2",
   "language": "python",
   "name": "python2"
  },
  "language_info": {
   "codemirror_mode": {
    "name": "ipython",
    "version": 2
   },
   "file_extension": ".py",
   "mimetype": "text/x-python",
   "name": "python",
   "nbconvert_exporter": "python",
   "pygments_lexer": "ipython2",
   "version": "2.7.6"
  }
 },
 "nbformat": 4,
 "nbformat_minor": 0
}
