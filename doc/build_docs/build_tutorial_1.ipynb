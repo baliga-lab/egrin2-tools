{
 "cells": [
  {
   "cell_type": "markdown",
   "metadata": {},
   "source": [
    "<div align=\"right\" vertical-align=\"middle\" style=\"border: 2px solid;border-radius: 5px;background-color:lightgrey;padding:5px;padding-right:20px;padding-left:10px;\">\n",
    "        <a style=\"color:black;text-decoration:none;\" title=\"Home\" href=\"index.ipynb\">\n",
    "            <img src=\"../../css/iconmonstr-christmas-house-icon.svg\" height = \"30\" width = \"30\" style=\"display:inline\">\n",
    "        </a>\n",
    "        &nbsp;\n",
    "        <b>|</b>\n",
    "        &nbsp;\n",
    "        <a style=\"color:black;text-decoration:none;\" title=\"Build\" href=\"build.ipynb\">\n",
    "            <img src=\"../../css/iconmonstr-puzzle-icon.svg\" height = \"30\" width = \"30\" style=\"display:inline\">\n",
    "        </a>\n",
    "        <a style=\"color:black;text-decoration:none;\" title=\"Assemble\" href=\"../assemble_docs/assemble.ipynb\">\n",
    "            <img src=\"../../css/iconmonstr-puzzle-17-icon.svg\" height = \"30\" width = \"30\" style=\"display:inline\">\n",
    "        </a>\n",
    "        <a style=\"color:black;text-decoration:none;\" title=\"Query\" href=\"../query_docs/query.ipynb\">\n",
    "            <img src=\"../../css/iconmonstr-flask-3-icon.svg\" height = \"30\" width = \"30\" style=\"display:inline\">\n",
    "        </a>\n",
    "</div>\n",
    "\n",
    "\n",
    "<h1>TUTORIAL: Build an EGRIN 2.0 Ensemble</h1>"
   ]
  },
  {
   "cell_type": "markdown",
   "metadata": {
    "collapsed": false
   },
   "source": [
    "### In a nutshell\n",
    "\n",
    "The `BUILD` scripts configure [cMonkey2](https://github.com/baliga-lab/cmonkey2) to run on an SGE managed cluster. In the process, they alter select cMonkey2 parameters to generate variability in each run. They also choose experiments to include in each run according to user-provided annotations.\n",
    "\n",
    "### Requirements\n",
    "\n",
    "User must supply several files, including:\n",
    "\n",
    "- `ratios`: a Tab-delimited or Comma-separated file containing a matrix of gene expression values across all conditions.\n",
    "- `blocks`: a Comma-separated file containing annotations for each condition.\n",
    "- `inclusion_blocks`: : a Comma-separated file containing groups of blocks to be co-included in runs.\n",
    "- `exclusion_blocks`: : a Comma-separated file containing groups of blocks to be co-excluded in runs.\n",
    "\n",
    "Optionally:\n",
    "- `pipeline`: a JSON file containing custom scoring pipeline. Currently only set-enrichment pipeline is supported\n",
    "- `setenrich_files`: Comma-separated files containing set-enrichment sets. Multiple files should be separated by a comma.\n",
    "\n",
    "The format for each of these files will be described in detail below.\n",
    "\n",
    "We have provided example files for building an *Mycobacterium Tuberculosis* ensemble. These data come from the following publications:\n",
    "\n",
    "[EJR Peterson, DJ Reiss, S Turkarslan, KJ Minch, T Rustad, CL Plaisier, WJR Longabaugh, DR Sherman, NS Baliga. (2014). A high-resolution network model for global gene regulation in Mycobacterium tuberculosis. *Nucleic Acids Research*.](http://nar.oxfordjournals.org/content/early/2014/09/17/nar.gku777.full)\n",
    "\n",
    "[TR Rustad, KJ Minch, S Ma, JK Winkler, S Hobbes, MJ Hickey, W Brabant, S Turkarslan, ND Price, NS Baliga and DR Sherman. (2014). Mapping and manipulating the Mycobacterium tuberculosis transcriptome using a transcription factor overexpression-derived regulatory network. *Genome Biology*](http://genomebiology.com/2014/15/11/502/abstract)\n",
    "\n",
    "[KJ Minch, TR Rustad, EJR Peterson, J Winkler, DJ Reiss, S Ma, M Hickey, W Brabant, B Morrison, S Turkaslan, C Mawhinney, JE Galagan, ND Price, NS Baliga, DR. Sherman. (2014). The DNA-binding network of Mycobacterium tuberculosis. *Nature Communications*](http://www.nature.com/ncomms/2015/150112/ncomms6829/full/ncomms6829.html)\n",
    "\n",
    "Additionally, the Python modules described on the [Home page](../index.ipynb) are also required to run tese scripts.\n",
    "\n",
    "### Scripts\n",
    "\n",
    "`cMonkeyQSub.py`: The control function for `BUILD` scripts. Writes QSub script.\n",
    "\n",
    "`cMonkeyQSub.py`: The control function for `BUILD` scripts. Writes QSub script.\n",
    "\n",
    "`cMonkeyQSub.py`: The control function for `BUILD` scripts. Writes QSub script.\n",
    "\n",
    "\n",
    "\n"
   ]
  },
  {
   "cell_type": "code",
   "execution_count": null,
   "metadata": {
    "collapsed": true
   },
   "outputs": [],
   "source": []
  }
 ],
 "metadata": {
  "kernelspec": {
   "display_name": "Python 2",
   "language": "python",
   "name": "python2"
  },
  "language_info": {
   "codemirror_mode": {
    "name": "ipython",
    "version": 2
   },
   "file_extension": ".py",
   "mimetype": "text/x-python",
   "name": "python",
   "nbconvert_exporter": "python",
   "pygments_lexer": "ipython2",
   "version": "2.7.6"
  }
 },
 "nbformat": 4,
 "nbformat_minor": 0
}
