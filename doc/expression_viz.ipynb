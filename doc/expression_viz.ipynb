{
 "metadata": {
  "name": "",
  "signature": "sha256:82c483688aa4d04e95cb2c79f397237f8ad2978e4b645882e5e053010b75a6b0"
 },
 "nbformat": 3,
 "nbformat_minor": 0,
 "worksheets": [
  {
   "cells": [
    {
     "cell_type": "heading",
     "level": 1,
     "metadata": {
      "internals": {
       "slide_type": "subslide"
      },
      "slideshow": {
       "slide_type": "slide"
      }
     },
     "source": [
      "How can I get and plot expression data in EGRIN 2.0 MongoDB?"
     ]
    },
    {
     "cell_type": "markdown",
     "metadata": {
      "internals": {
       "frag_number": 1,
       "slide_helper": "subslide_end"
      },
      "slide_helper": "slide_end",
      "slideshow": {
       "slide_type": "fragment"
      }
     },
     "source": [
      "Interactive graphics in iPython"
     ]
    },
    {
     "cell_type": "code",
     "collapsed": false,
     "input": [
      "from query.egrin2_query import *"
     ],
     "language": "python",
     "metadata": {
      "internals": {
       "frag_helper": "fragment_end",
       "frag_number": 1,
       "slide_type": "subslide"
      },
      "slideshow": {
       "slide_type": "slide"
      }
     },
     "outputs": [
      {
       "ename": "ImportError",
       "evalue": "No module named query.egrin2_query",
       "output_type": "pyerr",
       "traceback": [
        "\u001b[0;31m---------------------------------------------------------------------------\u001b[0m\n\u001b[0;31mImportError\u001b[0m                               Traceback (most recent call last)",
        "\u001b[0;32m<ipython-input-1-b7ed296cab46>\u001b[0m in \u001b[0;36m<module>\u001b[0;34m()\u001b[0m\n\u001b[0;32m----> 1\u001b[0;31m \u001b[0;32mfrom\u001b[0m \u001b[0mquery\u001b[0m\u001b[0;34m.\u001b[0m\u001b[0megrin2_query\u001b[0m \u001b[0;32mimport\u001b[0m \u001b[0;34m*\u001b[0m\u001b[0;34m\u001b[0m\u001b[0m\n\u001b[0m",
        "\u001b[0;31mImportError\u001b[0m: No module named query.egrin2_query"
       ]
      }
     ],
     "prompt_number": 1
    },
    {
     "cell_type": "markdown",
     "metadata": {
      "internals": {
       "frag_helper": "fragment_end",
       "frag_number": 3,
       "slide_helper": "subslide_end"
      },
      "slide_helper": "slide_end",
      "slideshow": {
       "slide_type": "fragment"
      }
     },
     "source": [
      "There are several dependencies that need to be satisfied, including:\n",
      "- pymongo\n",
      "- numpy\n",
      "- pandas\n",
      "- joblib\n",
      "- scipy\n",
      "- statsmodels\n",
      "- itertools"
     ]
    },
    {
     "cell_type": "code",
     "collapsed": false,
     "input": [
      "corem_genes =  coremFinder(x = 1,x_type = \"corem_id\", y_type=\"rows\",host=\"primordial\",db=\"eco_db2\")\n",
      "corem_genes.sort()\n",
      "for i in corem_genes:\n",
      "    print i + \" is also called \" + row2id( i, host=\"primordial\", db=\"eco_db2\", return_field = \"name\" )"
     ],
     "language": "python",
     "metadata": {
      "internals": {
       "frag_helper": "fragment_end",
       "frag_number": 3,
       "slide_helper": "subslide_end",
       "slide_type": "subslide"
      },
      "slide_helper": "subslide_end",
      "slideshow": {
       "slide_type": "slide"
      }
     },
     "outputs": []
    },
    {
     "cell_type": "code",
     "collapsed": false,
     "input": [
      "corem_conditions =  coremFinder(x = 1,x_type = \"corem_id\", y_type=\"conds\",host=\"primordial\",db=\"eco_db2\")\n",
      "corem_conditions.sort()\n",
      "for i in corem_conditions[0:5]:\n",
      "    print i\n",
      "print \"\\nThere are %s other conditions in which these genes are co-regulated\" % len(corem_conditions)"
     ],
     "language": "python",
     "metadata": {
      "internals": {
       "frag_helper": "fragment_end",
       "frag_number": 3,
       "slide_helper": "subslide_end",
       "slide_type": "subslide"
      },
      "slide_helper": "slide_end",
      "slideshow": {
       "slide_type": "subslide"
      }
     },
     "outputs": []
    },
    {
     "cell_type": "code",
     "collapsed": false,
     "input": [
      "gene_expression = expressionFinder(rows=corem_genes,cols=corem_conditions,host=\"primordial\",db=\"eco_db2\")"
     ],
     "language": "python",
     "metadata": {
      "internals": {
       "frag_helper": "fragment_end",
       "frag_number": 3,
       "slide_helper": "subslide_end",
       "slide_type": "subslide"
      },
      "slide_helper": "subslide_end",
      "slideshow": {
       "slide_type": "slide"
      }
     },
     "outputs": []
    },
    {
     "cell_type": "code",
     "collapsed": false,
     "input": [
      "corem = 1\n",
      "corem_genes =  coremFinder(x = corem,x_type = \"corem_id\", y_type=\"rows\",host=\"primordial\",db=\"eco_db2\")\n",
      "corem_conditions =  coremFinder(x = corem,x_type = \"corem_id\", y_type=\"conds\",host=\"primordial\",db=\"eco_db2\")\n",
      "gene_expression = expressionFinder(rows=corem_genes,cols=corem_conditions,host=\"primordial\",db=\"eco_db2\")"
     ],
     "language": "python",
     "metadata": {
      "internals": {
       "frag_helper": "fragment_end",
       "frag_number": 3,
       "slide_helper": "subslide_end",
       "slide_type": "subslide"
      },
      "slide_helper": "slide_end",
      "slideshow": {
       "slide_type": "subslide"
      }
     },
     "outputs": []
    },
    {
     "cell_type": "code",
     "collapsed": false,
     "input": [
      "line_plot = plotExpression( gene_expression, plot_type = \"line\", ipynb = True, sort = False )\n",
      "py.iplot( line_plot )"
     ],
     "language": "python",
     "metadata": {
      "internals": {
       "frag_helper": "fragment_end",
       "frag_number": 3,
       "slide_helper": "subslide_end",
       "slide_type": "subslide"
      },
      "slide_helper": "subslide_end",
      "slideshow": {
       "slide_type": "slide"
      }
     },
     "outputs": []
    },
    {
     "cell_type": "code",
     "collapsed": false,
     "input": [
      "line_plot = plotExpression( gene_expression, plot_type = \"line\", ipynb = True, sort = True )\n",
      "py.iplot( line_plot )"
     ],
     "language": "python",
     "metadata": {
      "internals": {
       "frag_helper": "fragment_end",
       "frag_number": 3,
       "slide_helper": "subslide_end",
       "slide_type": "subslide"
      },
      "slide_helper": "slide_end",
      "slideshow": {
       "slide_type": "subslide"
      }
     },
     "outputs": []
    },
    {
     "cell_type": "code",
     "collapsed": false,
     "input": [
      "heatmap = plotExpression( gene_expression, plot_type = \"heatmap\", ipynb = True )\n",
      "py.iplot( heatmap )"
     ],
     "language": "python",
     "metadata": {
      "internals": {
       "frag_helper": "fragment_end",
       "frag_number": 3,
       "slide_helper": "subslide_end",
       "slide_type": "subslide"
      },
      "slide_helper": "slide_end",
      "slideshow": {
       "slide_type": "slide"
      }
     },
     "outputs": []
    },
    {
     "cell_type": "code",
     "collapsed": false,
     "input": [
      "boxplot = plotExpression( gene_expression, plot_type = \"boxplot\", ipynb = True )\n",
      "py.iplot( boxplot )"
     ],
     "language": "python",
     "metadata": {
      "internals": {
       "frag_helper": "fragment_end",
       "frag_number": 3,
       "slide_helper": "subslide_end",
       "slide_type": "subslide"
      },
      "slide_helper": "subslide_end",
      "slideshow": {
       "slide_type": "slide"
      }
     },
     "outputs": []
    },
    {
     "cell_type": "code",
     "collapsed": false,
     "input": [
      "boxplot = plotExpression( gene_expression.iloc[ :,range( 10 ) ], plot_type = \"boxplot\", ipynb = True )\n",
      "py.iplot( boxplot )"
     ],
     "language": "python",
     "metadata": {
      "internals": {
       "frag_helper": "fragment_end",
       "frag_number": 3,
       "slide_helper": "subslide_end",
       "slide_type": "subslide"
      },
      "slide_helper": "slide_end",
      "slideshow": {
       "slide_type": "subslide"
      }
     },
     "outputs": []
    }
   ],
   "metadata": {}
  }
 ]
}