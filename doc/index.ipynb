{
 "metadata": {
  "name": "",
  "signature": "sha256:f52e7763b8932b8fbccafdeb8dd18a6e07b7f59d69ec50997e3dbdd51d1c8c1a"
 },
 "nbformat": 3,
 "nbformat_minor": 0,
 "worksheets": [
  {
   "cells": [
    {
     "cell_type": "markdown",
     "metadata": {},
     "source": [
      "<h1 align=\"center\"> Welcome to the EGRIN 2.0 *wiki* </h1>\n",
      "\n",
      "<br>\n",
      "\n",
      "<img src=\"../egrin2_logo_80px.png\">"
     ]
    },
    {
     "cell_type": "markdown",
     "metadata": {},
     "source": [
      "<br>\n",
      "\n",
      "These documents will introduce you to the EGRIN 2.0 ensemble and all of its associated tools. \n",
      "\n",
      "Given a little bit of your time and patience, you will learn how to:\n",
      "\n",
      "<h3><i class=\"icon-wrench\"></i> [Build](build.ipynb)</h3>\n",
      "\n",
      "<h3><i class=\"icon-shopping-cart\"></i> [Assemble](assemble.ipynb)</h3> \n",
      "\n",
      "<h3><i class=\"icon-smile\"></i> [Query](query.ipynb)</h3>\n",
      "\n",
      "an EGRIN 2.0 ensemble. \n",
      "\n",
      "<h2> What is an EGRIN 2.0 ensemble? </h2>\n",
      "\n",
      "EGRIN 2.0 ensembles are predictive models of how and when genes are co-regulated in microorganisms. \n",
      "\n",
      "To learn more about the underlying biological motivation for this type of model you can [read our paper](http://msb.embopress.org/content/10/7/740.long) or check out [our previous web resource.](http://egrin2.systemsbiology.net/)\n",
      "\n",
      "<h2> What's different here? </h2>\n",
      "\n",
      "Good question. We wanted to put you back in control. We wanted you to query the models in whatever way is appropriate for your biological question. That's what you can do here.\n",
      "\n",
      "<h2> System Requirements </h2>\n",
      "\n",
      "* Developed and tested with Python 2.7.6\n",
      "* biopython >= 1.65\n",
      "* colorbrewer >= 9172\n",
      "* joblib >= 0.7.1\n",
      "* matplotlib >= 1.3.1\n",
      "* numpy >= 1.8.2\n",
      "* pandas >= 0.15.2\n",
      "* plotly >= 1.6.6\n",
      "* pymongo >= 2.7.2\n",
      "* scipy >= 0.13.3\n",
      "* statsmodels >= 0.6.1\n",
      "\n",
      "<h2> About this wiki </h2>\n",
      "\n",
      "This *wiki* is an iPython notebook, which means that code, visualizations, and other neat stuff are directly embedded. The documents will teleport you to quick results and predictions or, if you need to go deeper, they will help guide you towards mastery. You can download these files or copy snippets of code, modify them, and run them on your machine to make them do what you want. Think of it as a living template.\n",
      "\n",
      "Fancy. I know.\n",
      "\n",
      "<h2> Credits </h2>\n",
      "\n",
      "Most of the tools were developed by [Aaron Brooks](http://www.aaron-brooks.org/) with help from [David Reiss](http://www.systemsbiology.org/David-Reiss), [Wei-ju Wu](https://github.com/weiju), and [Micheleen Harris](https://github.com/micheleenharris). \n",
      "\n",
      "Comments and questions can be addressed to [Wei-ju Wu](https://github.com/weiju) or directed to the cMonkey2 [developer](https://groups.google.com/d/forum/cmonkey-dev) or [user](https://groups.google.com/d/forum/cmonkey-users) discussion groups.  \n",
      "\n",
      "Have fun!\n",
      "\n",
      "> [Aaron Brooks](http://www.aaron-brooks.org/), Feb 2015"
     ]
    }
   ],
   "metadata": {}
  }
 ]
}