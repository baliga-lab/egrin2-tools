{
 "cells": [
  {
   "cell_type": "markdown",
   "metadata": {},
   "source": [
    "<div align=\"right\" vertical-align=\"middle\" style=\"border: 2px solid;border-radius: 5px;background-color:lightgrey;padding:5px;padding-right:20px;padding-left:10px;\">\n",
    "        <a style=\"color:black;text-decoration:none;\" title=\"Home\" href=\"../index.ipynb\">\n",
    "            <img src=\"../../css/iconmonstr-christmas-house-icon.svg\" height = \"30\" width = \"30\" style=\"display:inline\">\n",
    "        </a>\n",
    "        &nbsp;\n",
    "        <b>|</b>\n",
    "        &nbsp;\n",
    "        <a style=\"color:black;text-decoration:none;\" title=\"Build\" href=\"../build_docs/build.ipynb\">\n",
    "            <img src=\"../../css/iconmonstr-puzzle-icon.svg\" height = \"30\" width = \"30\" style=\"display:inline\">\n",
    "        </a>\n",
    "        <a style=\"color:black;text-decoration:none;\" title=\"Assemble\" href=\"assemble.ipynb\">\n",
    "            <img src=\"../../css/iconmonstr-puzzle-17-icon.svg\" height = \"30\" width = \"30\" style=\"display:inline\">\n",
    "        </a>\n",
    "        <a style=\"color:black;text-decoration:none;\" title=\"Query\" href=\"../query_docs/query.ipynb\">\n",
    "            <img src=\"../../css/iconmonstr-flask-3-icon.svg\" height = \"30\" width = \"30\" style=\"display:inline\">\n",
    "        </a>\n",
    "</div>\n",
    "\n",
    "# TUTORIAL: Assemble an EGRIN 2.0 Ensemble\n",
    "\n",
    "####*Important!!! This tutorial assumes you have access to a complete cMonkey2 ensemble.*\n",
    "\n",
    "### In a nutshell\n",
    "\n",
    "The `ASSEMBLE` scripts transfers and compiles individual [cMonkey2](https://github.com/baliga-lab/cmonkey2) SQLite databases into an integrated MongoDB database. \n",
    "\n",
    "In addition, they perform several post-processing steps, including: detection of gene regulatory elements (GREs) by comparing individual bicluster motifs with [`TOMTOM`](http://meme.ebi.edu.au/meme/doc/tomtom.html) and clustering with [MCL](http://micans.org/mcl/), genome-wide scanning of motifs with FIMO, and detection of co-regulated modules or **corems** using link-community detection.\n",
    "\n",
    "### Requirements\n",
    "\n",
    "User must supply several files, including:\n",
    "\n",
    "- `ratios`: a Tab-delimited or Comma-separated file containing a matrix of gene expression values across all conditions.\n",
    "- `blocks`: a Comma-separated file containing annotations for each condition.\n",
    "- `inclusion_blocks`: : a Comma-separated file containing groups of blocks to be co-included in runs.\n",
    "- `exclusion_blocks`: : a Comma-separated file containing groups of blocks to be co-excluded in runs.\n",
    "\n",
    "Optionally:\n",
    "- `pipeline`: a JSON file containing custom scoring pipeline. Currently only set-enrichment pipeline is supported\n",
    "- `setenrich_files`: Comma-separated files containing set-enrichment sets. Multiple files should be separated by a comma.\n",
    "\n",
    "The format for each of these files will be described in detail below.\n",
    "\n",
    "Additionally, the Python modules described on the [Home page](../index.ipynb) are required to run these scripts.\n",
    "\n",
    "### Scripts\n",
    "\n",
    "`cMonkeyQSub.py`: The control function for `BUILD` scripts. Writes QSub script."
   ]
  },
  {
   "cell_type": "code",
   "execution_count": null,
   "metadata": {
    "collapsed": true
   },
   "outputs": [],
   "source": []
  }
 ],
 "metadata": {
  "kernelspec": {
   "display_name": "Python 2",
   "language": "python",
   "name": "python2"
  },
  "language_info": {
   "codemirror_mode": {
    "name": "ipython",
    "version": 2
   },
   "file_extension": ".py",
   "mimetype": "text/x-python",
   "name": "python",
   "nbconvert_exporter": "python",
   "pygments_lexer": "ipython2",
   "version": "2.7.6"
  }
 },
 "nbformat": 4,
 "nbformat_minor": 0
}
