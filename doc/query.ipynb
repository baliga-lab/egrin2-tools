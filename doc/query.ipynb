{
 "metadata": {
  "name": "",
  "signature": "sha256:49de7aebf83bde991b50970ef7070f09f9b828824b41ef43cee1f80068e490c3"
 },
 "nbformat": 3,
 "nbformat_minor": 0,
 "worksheets": [
  {
   "cells": [
    {
     "cell_type": "markdown",
     "metadata": {},
     "source": [
      "<div align=\"right\" style=\"border: 2px solid;border-radius: 5px;background-color:lightgrey;padding-bottom:10px;padding-right:20px;\"><h1><a style=\"color:black;text-decoration:none;\" title=\"Home\" href=\"index.ipynb\"><i vertical-align=\"middle\" class=\"icon-home\"></i></a>&nbsp;&nbsp;<a style=\"color:black;text-decoration:none;\" title=\"Build\" href=\"build.ipynb\"><i vertical-align=\"middle\" class=\"icon-wrench\"></i></a>&nbsp;&nbsp;<a style=\"color:black;text-decoration:none;\" title=\"Assemble\" href=\"assemble.ipynb\"><i vertical-align=\"middle\" class=\"icon-shopping-cart\"></i></a>&nbsp;&nbsp;<a style=\"color:black;text-decoration:none;\" title=\"Query\" href=\"query.ipynb\"><i vertical-align=\"middle\" class=\"icon-ok\"></i></a></h1></div>\n",
      "\n",
      "<h1>QUERY</h1>"
     ]
    },
    {
     "cell_type": "code",
     "collapsed": false,
     "input": [],
     "language": "python",
     "metadata": {},
     "outputs": []
    }
   ],
   "metadata": {}
  }
 ]
}